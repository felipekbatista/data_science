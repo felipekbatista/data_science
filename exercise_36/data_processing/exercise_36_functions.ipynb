{
  "nbformat": 4,
  "nbformat_minor": 0,
  "metadata": {
    "colab": {
      "name": "exercise_36_functions.ipynb",
      "provenance": []
    },
    "kernelspec": {
      "name": "python3",
      "display_name": "Python 3"
    }
  },
  "cells": [
    {
      "cell_type": "markdown",
      "metadata": {
        "id": "4comHKiiWdQe",
        "colab_type": "text"
      },
      "source": [
        "# import libs"
      ]
    },
    {
      "cell_type": "code",
      "metadata": {
        "id": "Xigx6kgWWHrp",
        "colab_type": "code",
        "colab": {
          "base_uri": "https://localhost:8080/",
          "height": 71
        },
        "outputId": "3ed78ff9-fe43-49a5-d0b7-be4028d05c0a"
      },
      "source": [
        "import pandas as pd\n",
        "import numpy as np\n",
        "import seaborn as sns\n",
        "from matplotlib import pyplot as plt"
      ],
      "execution_count": 1,
      "outputs": [
        {
          "output_type": "stream",
          "text": [
            "/usr/local/lib/python3.6/dist-packages/statsmodels/tools/_testing.py:19: FutureWarning: pandas.util.testing is deprecated. Use the functions in the public API at pandas.testing instead.\n",
            "  import pandas.util.testing as tm\n"
          ],
          "name": "stderr"
        }
      ]
    },
    {
      "cell_type": "markdown",
      "metadata": {
        "id": "aQUobi2OWgB4",
        "colab_type": "text"
      },
      "source": [
        "# import data"
      ]
    },
    {
      "cell_type": "code",
      "metadata": {
        "id": "nanmyywxWa4O",
        "colab_type": "code",
        "colab": {
          "base_uri": "https://localhost:8080/",
          "height": 204
        },
        "outputId": "3ca318cb-9580-4078-ddfa-5c4f380c4115"
      },
      "source": [
        "path = '/content/drive/My Drive/Colab Notebooks/image codes/exercicio_36_v1.csv'\n",
        "dados = pd.read_csv(path)\n",
        "dados.head()"
      ],
      "execution_count": 3,
      "outputs": [
        {
          "output_type": "execute_result",
          "data": {
            "text/html": [
              "<div>\n",
              "<style scoped>\n",
              "    .dataframe tbody tr th:only-of-type {\n",
              "        vertical-align: middle;\n",
              "    }\n",
              "\n",
              "    .dataframe tbody tr th {\n",
              "        vertical-align: top;\n",
              "    }\n",
              "\n",
              "    .dataframe thead th {\n",
              "        text-align: right;\n",
              "    }\n",
              "</style>\n",
              "<table border=\"1\" class=\"dataframe\">\n",
              "  <thead>\n",
              "    <tr style=\"text-align: right;\">\n",
              "      <th></th>\n",
              "      <th>index</th>\n",
              "      <th>labels</th>\n",
              "      <th>area</th>\n",
              "      <th>perimeter</th>\n",
              "      <th>mahor_axis</th>\n",
              "      <th>minor_axis</th>\n",
              "      <th>eq_diam</th>\n",
              "      <th>set_</th>\n",
              "    </tr>\n",
              "  </thead>\n",
              "  <tbody>\n",
              "    <tr>\n",
              "      <th>0</th>\n",
              "      <td>1.0</td>\n",
              "      <td>1.0</td>\n",
              "      <td>12057066.0</td>\n",
              "      <td>54735.7112</td>\n",
              "      <td>4944.8175</td>\n",
              "      <td>3674.3981</td>\n",
              "      <td>3918.1033</td>\n",
              "      <td>set_1</td>\n",
              "    </tr>\n",
              "    <tr>\n",
              "      <th>1</th>\n",
              "      <td>2.0</td>\n",
              "      <td>2.0</td>\n",
              "      <td>2220.0</td>\n",
              "      <td>236.2254</td>\n",
              "      <td>85772.0000</td>\n",
              "      <td>40.4931</td>\n",
              "      <td>53.1657</td>\n",
              "      <td>set_1</td>\n",
              "    </tr>\n",
              "    <tr>\n",
              "      <th>2</th>\n",
              "      <td>3.0</td>\n",
              "      <td>3.0</td>\n",
              "      <td>1478.0</td>\n",
              "      <td>149.7401</td>\n",
              "      <td>58.4509</td>\n",
              "      <td>32.3893</td>\n",
              "      <td>43.3803</td>\n",
              "      <td>set_1</td>\n",
              "    </tr>\n",
              "    <tr>\n",
              "      <th>3</th>\n",
              "      <td>4.0</td>\n",
              "      <td>4.0</td>\n",
              "      <td>1262.0</td>\n",
              "      <td>136.1838</td>\n",
              "      <td>46123.0000</td>\n",
              "      <td>35.7796</td>\n",
              "      <td>40.0853</td>\n",
              "      <td>set_1</td>\n",
              "    </tr>\n",
              "    <tr>\n",
              "      <th>4</th>\n",
              "      <td>5.0</td>\n",
              "      <td>5.0</td>\n",
              "      <td>1798.0</td>\n",
              "      <td>165397.0000</td>\n",
              "      <td>61.1904</td>\n",
              "      <td>38.4644</td>\n",
              "      <td>47.8465</td>\n",
              "      <td>set_1</td>\n",
              "    </tr>\n",
              "  </tbody>\n",
              "</table>\n",
              "</div>"
            ],
            "text/plain": [
              "   index  labels        area  ...  minor_axis    eq_diam   set_\n",
              "0    1.0     1.0  12057066.0  ...   3674.3981  3918.1033  set_1\n",
              "1    2.0     2.0      2220.0  ...     40.4931    53.1657  set_1\n",
              "2    3.0     3.0      1478.0  ...     32.3893    43.3803  set_1\n",
              "3    4.0     4.0      1262.0  ...     35.7796    40.0853  set_1\n",
              "4    5.0     5.0      1798.0  ...     38.4644    47.8465  set_1\n",
              "\n",
              "[5 rows x 8 columns]"
            ]
          },
          "metadata": {
            "tags": []
          },
          "execution_count": 3
        }
      ]
    },
    {
      "cell_type": "markdown",
      "metadata": {
        "id": "C6gYJqlaW7wd",
        "colab_type": "text"
      },
      "source": [
        "# split dataframe "
      ]
    },
    {
      "cell_type": "code",
      "metadata": {
        "id": "lgUthJ_7Wu-W",
        "colab_type": "code",
        "colab": {}
      },
      "source": [
        "set_1 = dados.query('set_ == \"set_1\"')\n"
      ],
      "execution_count": 0,
      "outputs": []
    },
    {
      "cell_type": "code",
      "metadata": {
        "id": "jh9tnCRmXFZt",
        "colab_type": "code",
        "colab": {
          "base_uri": "https://localhost:8080/",
          "height": 204
        },
        "outputId": "2900dc62-9217-4d6d-9aeb-1e5c0a6c53f3"
      },
      "source": [
        "set_1.head()"
      ],
      "execution_count": 6,
      "outputs": [
        {
          "output_type": "execute_result",
          "data": {
            "text/html": [
              "<div>\n",
              "<style scoped>\n",
              "    .dataframe tbody tr th:only-of-type {\n",
              "        vertical-align: middle;\n",
              "    }\n",
              "\n",
              "    .dataframe tbody tr th {\n",
              "        vertical-align: top;\n",
              "    }\n",
              "\n",
              "    .dataframe thead th {\n",
              "        text-align: right;\n",
              "    }\n",
              "</style>\n",
              "<table border=\"1\" class=\"dataframe\">\n",
              "  <thead>\n",
              "    <tr style=\"text-align: right;\">\n",
              "      <th></th>\n",
              "      <th>index</th>\n",
              "      <th>labels</th>\n",
              "      <th>area</th>\n",
              "      <th>perimeter</th>\n",
              "      <th>mahor_axis</th>\n",
              "      <th>minor_axis</th>\n",
              "      <th>eq_diam</th>\n",
              "      <th>set_</th>\n",
              "    </tr>\n",
              "  </thead>\n",
              "  <tbody>\n",
              "    <tr>\n",
              "      <th>0</th>\n",
              "      <td>1.0</td>\n",
              "      <td>1.0</td>\n",
              "      <td>12057066.0</td>\n",
              "      <td>54735.7112</td>\n",
              "      <td>4944.8175</td>\n",
              "      <td>3674.3981</td>\n",
              "      <td>3918.1033</td>\n",
              "      <td>set_1</td>\n",
              "    </tr>\n",
              "    <tr>\n",
              "      <th>1</th>\n",
              "      <td>2.0</td>\n",
              "      <td>2.0</td>\n",
              "      <td>2220.0</td>\n",
              "      <td>236.2254</td>\n",
              "      <td>85772.0000</td>\n",
              "      <td>40.4931</td>\n",
              "      <td>53.1657</td>\n",
              "      <td>set_1</td>\n",
              "    </tr>\n",
              "    <tr>\n",
              "      <th>2</th>\n",
              "      <td>3.0</td>\n",
              "      <td>3.0</td>\n",
              "      <td>1478.0</td>\n",
              "      <td>149.7401</td>\n",
              "      <td>58.4509</td>\n",
              "      <td>32.3893</td>\n",
              "      <td>43.3803</td>\n",
              "      <td>set_1</td>\n",
              "    </tr>\n",
              "    <tr>\n",
              "      <th>3</th>\n",
              "      <td>4.0</td>\n",
              "      <td>4.0</td>\n",
              "      <td>1262.0</td>\n",
              "      <td>136.1838</td>\n",
              "      <td>46123.0000</td>\n",
              "      <td>35.7796</td>\n",
              "      <td>40.0853</td>\n",
              "      <td>set_1</td>\n",
              "    </tr>\n",
              "    <tr>\n",
              "      <th>4</th>\n",
              "      <td>5.0</td>\n",
              "      <td>5.0</td>\n",
              "      <td>1798.0</td>\n",
              "      <td>165397.0000</td>\n",
              "      <td>61.1904</td>\n",
              "      <td>38.4644</td>\n",
              "      <td>47.8465</td>\n",
              "      <td>set_1</td>\n",
              "    </tr>\n",
              "  </tbody>\n",
              "</table>\n",
              "</div>"
            ],
            "text/plain": [
              "   index  labels        area  ...  minor_axis    eq_diam   set_\n",
              "0    1.0     1.0  12057066.0  ...   3674.3981  3918.1033  set_1\n",
              "1    2.0     2.0      2220.0  ...     40.4931    53.1657  set_1\n",
              "2    3.0     3.0      1478.0  ...     32.3893    43.3803  set_1\n",
              "3    4.0     4.0      1262.0  ...     35.7796    40.0853  set_1\n",
              "4    5.0     5.0      1798.0  ...     38.4644    47.8465  set_1\n",
              "\n",
              "[5 rows x 8 columns]"
            ]
          },
          "metadata": {
            "tags": []
          },
          "execution_count": 6
        }
      ]
    },
    {
      "cell_type": "code",
      "metadata": {
        "id": "tW94JE41XJjV",
        "colab_type": "code",
        "colab": {
          "base_uri": "https://localhost:8080/",
          "height": 51
        },
        "outputId": "d719c59a-d5c7-4b00-cdff-7f11ecbfc102"
      },
      "source": [
        "set_1.set_.value_counts()"
      ],
      "execution_count": 10,
      "outputs": [
        {
          "output_type": "execute_result",
          "data": {
            "text/plain": [
              "set_1    160\n",
              "Name: set_, dtype: int64"
            ]
          },
          "metadata": {
            "tags": []
          },
          "execution_count": 10
        }
      ]
    },
    {
      "cell_type": "code",
      "metadata": {
        "id": "KdhsQFpcXNOV",
        "colab_type": "code",
        "colab": {}
      },
      "source": [
        "df1 = set_1.copy()"
      ],
      "execution_count": 0,
      "outputs": []
    },
    {
      "cell_type": "markdown",
      "metadata": {
        "id": "4XY7nl-XXYwN",
        "colab_type": "text"
      },
      "source": [
        "#funçtion remove outlier\n"
      ]
    },
    {
      "cell_type": "code",
      "metadata": {
        "id": "gO2IMMm0XdKU",
        "colab_type": "code",
        "colab": {}
      },
      "source": [
        "# funcao principal\n",
        "\n",
        "def limpeza(df,coluna):\n",
        "    ''' faz a remoção de outliers no df.coluna desejado'''\n",
        "    \n",
        "    frame_de_outliers, _ = __separa_outliers(df,coluna)\n",
        "    frame_sem_outliers = __remove_outliers(df, coluna)\n",
        "       \n",
        "    return  frame_de_outliers, frame_sem_outliers"
      ],
      "execution_count": 0,
      "outputs": []
    },
    {
      "cell_type": "code",
      "metadata": {
        "id": "7qCiPQ88c1Zk",
        "colab_type": "code",
        "colab": {
          "base_uri": "https://localhost:8080/",
          "height": 359
        },
        "outputId": "beb36ee6-5b50-43a8-c6ef-42906a3dcb7a"
      },
      "source": [
        "a,b = limpeza(df1,'area')\n",
        "b[10:20]"
      ],
      "execution_count": 52,
      "outputs": [
        {
          "output_type": "execute_result",
          "data": {
            "text/html": [
              "<div>\n",
              "<style scoped>\n",
              "    .dataframe tbody tr th:only-of-type {\n",
              "        vertical-align: middle;\n",
              "    }\n",
              "\n",
              "    .dataframe tbody tr th {\n",
              "        vertical-align: top;\n",
              "    }\n",
              "\n",
              "    .dataframe thead th {\n",
              "        text-align: right;\n",
              "    }\n",
              "</style>\n",
              "<table border=\"1\" class=\"dataframe\">\n",
              "  <thead>\n",
              "    <tr style=\"text-align: right;\">\n",
              "      <th></th>\n",
              "      <th>index</th>\n",
              "      <th>labels</th>\n",
              "      <th>area</th>\n",
              "      <th>perimeter</th>\n",
              "      <th>mahor_axis</th>\n",
              "      <th>minor_axis</th>\n",
              "      <th>eq_diam</th>\n",
              "      <th>set_</th>\n",
              "    </tr>\n",
              "  </thead>\n",
              "  <tbody>\n",
              "    <tr>\n",
              "      <th>11</th>\n",
              "      <td>12.0</td>\n",
              "      <td>12.0</td>\n",
              "      <td>4815.0</td>\n",
              "      <td>294.1665</td>\n",
              "      <td>106.6351</td>\n",
              "      <td>61.3767</td>\n",
              "      <td>78.2985</td>\n",
              "      <td>set_1</td>\n",
              "    </tr>\n",
              "    <tr>\n",
              "      <th>12</th>\n",
              "      <td>13.0</td>\n",
              "      <td>13.0</td>\n",
              "      <td>6510.0</td>\n",
              "      <td>314.1665</td>\n",
              "      <td>98.2614</td>\n",
              "      <td>86.1987</td>\n",
              "      <td>91.0428</td>\n",
              "      <td>set_1</td>\n",
              "    </tr>\n",
              "    <tr>\n",
              "      <th>13</th>\n",
              "      <td>14.0</td>\n",
              "      <td>14.0</td>\n",
              "      <td>7884.0</td>\n",
              "      <td>336.7351</td>\n",
              "      <td>101.4844</td>\n",
              "      <td>99.9200</td>\n",
              "      <td>100.1909</td>\n",
              "      <td>set_1</td>\n",
              "    </tr>\n",
              "    <tr>\n",
              "      <th>14</th>\n",
              "      <td>15.0</td>\n",
              "      <td>15.0</td>\n",
              "      <td>1707.0</td>\n",
              "      <td>168.2254</td>\n",
              "      <td>49.7539</td>\n",
              "      <td>46463.0000</td>\n",
              "      <td>46.6200</td>\n",
              "      <td>set_1</td>\n",
              "    </tr>\n",
              "    <tr>\n",
              "      <th>15</th>\n",
              "      <td>16.0</td>\n",
              "      <td>16.0</td>\n",
              "      <td>707.0</td>\n",
              "      <td>111.2904</td>\n",
              "      <td>34.8355</td>\n",
              "      <td>28.1487</td>\n",
              "      <td>30003.0000</td>\n",
              "      <td>set_1</td>\n",
              "    </tr>\n",
              "    <tr>\n",
              "      <th>17</th>\n",
              "      <td>18.0</td>\n",
              "      <td>18.0</td>\n",
              "      <td>9774.0</td>\n",
              "      <td>383061.0000</td>\n",
              "      <td>124.8502</td>\n",
              "      <td>101.1178</td>\n",
              "      <td>111.5556</td>\n",
              "      <td>set_1</td>\n",
              "    </tr>\n",
              "    <tr>\n",
              "      <th>18</th>\n",
              "      <td>19.0</td>\n",
              "      <td>19.0</td>\n",
              "      <td>6318.0</td>\n",
              "      <td>325.8061</td>\n",
              "      <td>97843.0000</td>\n",
              "      <td>86.7009</td>\n",
              "      <td>89.6902</td>\n",
              "      <td>set_1</td>\n",
              "    </tr>\n",
              "    <tr>\n",
              "      <th>19</th>\n",
              "      <td>20.0</td>\n",
              "      <td>20.0</td>\n",
              "      <td>6264.0</td>\n",
              "      <td>305865.0000</td>\n",
              "      <td>98.5396</td>\n",
              "      <td>82.4586</td>\n",
              "      <td>89.3061</td>\n",
              "      <td>set_1</td>\n",
              "    </tr>\n",
              "    <tr>\n",
              "      <th>20</th>\n",
              "      <td>21.0</td>\n",
              "      <td>21.0</td>\n",
              "      <td>5462.0</td>\n",
              "      <td>295.4214</td>\n",
              "      <td>102.8607</td>\n",
              "      <td>68.8796</td>\n",
              "      <td>83.3933</td>\n",
              "      <td>set_1</td>\n",
              "    </tr>\n",
              "    <tr>\n",
              "      <th>21</th>\n",
              "      <td>22.0</td>\n",
              "      <td>22.0</td>\n",
              "      <td>6483.0</td>\n",
              "      <td>312.6934</td>\n",
              "      <td>102.3497</td>\n",
              "      <td>81.7811</td>\n",
              "      <td>90.8538</td>\n",
              "      <td>set_1</td>\n",
              "    </tr>\n",
              "  </tbody>\n",
              "</table>\n",
              "</div>"
            ],
            "text/plain": [
              "    index  labels    area  ...  minor_axis     eq_diam   set_\n",
              "11   12.0    12.0  4815.0  ...     61.3767     78.2985  set_1\n",
              "12   13.0    13.0  6510.0  ...     86.1987     91.0428  set_1\n",
              "13   14.0    14.0  7884.0  ...     99.9200    100.1909  set_1\n",
              "14   15.0    15.0  1707.0  ...  46463.0000     46.6200  set_1\n",
              "15   16.0    16.0   707.0  ...     28.1487  30003.0000  set_1\n",
              "17   18.0    18.0  9774.0  ...    101.1178    111.5556  set_1\n",
              "18   19.0    19.0  6318.0  ...     86.7009     89.6902  set_1\n",
              "19   20.0    20.0  6264.0  ...     82.4586     89.3061  set_1\n",
              "20   21.0    21.0  5462.0  ...     68.8796     83.3933  set_1\n",
              "21   22.0    22.0  6483.0  ...     81.7811     90.8538  set_1\n",
              "\n",
              "[10 rows x 8 columns]"
            ]
          },
          "metadata": {
            "tags": []
          },
          "execution_count": 52
        }
      ]
    },
    {
      "cell_type": "code",
      "metadata": {
        "id": "arjD9JWsXg-N",
        "colab_type": "code",
        "colab": {}
      },
      "source": [
        " # funcao topo do boxplot\n",
        "def __topo(df,coluna):\n",
        "    ''' inserir o dataframe e a coluna em que se vai realizar a limpeza'''\n",
        "    Q3 = df['{}'.format(coluna)].quantile(q=0.75)\n",
        "    Q1 = df['{}'.format(coluna)].quantile(q=0.25)\n",
        "    IIQ = Q3-Q1\n",
        "    topo = Q3 + IIQ * 1.5\n",
        "    return topo\n"
      ],
      "execution_count": 0,
      "outputs": []
    },
    {
      "cell_type": "code",
      "metadata": {
        "id": "NiY-v-RGXmxd",
        "colab_type": "code",
        "colab": {
          "base_uri": "https://localhost:8080/",
          "height": 51
        },
        "outputId": "f1a9d948-cdd7-4cc0-aa7d-3489decb55bb"
      },
      "source": [
        "#teste da função __topo\n",
        "a = __topo(df1, 'area')\n",
        "print(a)\n",
        "print(type(a))"
      ],
      "execution_count": 15,
      "outputs": [
        {
          "output_type": "stream",
          "text": [
            "17490.5\n",
            "<class 'numpy.float64'>\n"
          ],
          "name": "stdout"
        }
      ]
    },
    {
      "cell_type": "code",
      "metadata": {
        "id": "fK3ARLdJXqeV",
        "colab_type": "code",
        "colab": {}
      },
      "source": [
        "# funcao separa outilers\n",
        "def __separa_outliers(df,coluna):\n",
        "    '''separa os outliers de um frame e retorna-os '''\n",
        "    df_frame_outliers= df[df['{}'.format(coluna)] > (__topo(df,coluna))] \n",
        "    index_outliers = list(df_frame_outliers.index)\n",
        "    return df_frame_outliers, index_outliers\n"
      ],
      "execution_count": 0,
      "outputs": []
    },
    {
      "cell_type": "code",
      "metadata": {
        "id": "ZUiFZUA8Xtdd",
        "colab_type": "code",
        "colab": {
          "base_uri": "https://localhost:8080/",
          "height": 170
        },
        "outputId": "c43c27ba-fd51-4f90-8215-e3df1dd7037f"
      },
      "source": [
        "# teste da funçao separa outliers\n",
        "outliers, index_outliers = __separa_outliers(df1, 'area')\n",
        "print(index_outliers)\n",
        "print(outliers)\n"
      ],
      "execution_count": 43,
      "outputs": [
        {
          "output_type": "stream",
          "text": [
            "[0, 16, 52, 135, 138]\n",
            "     index  labels        area  ...  minor_axis    eq_diam   set_\n",
            "0      1.0     1.0  12057066.0  ...   3674.3981  3918.1033  set_1\n",
            "16    17.0    17.0     30963.0  ...    149.6843   198.5531  set_1\n",
            "52    53.0    53.0     27146.0  ...    183.0300   185.9122  set_1\n",
            "135  136.0   136.0     21726.0  ...    179.6732   166.3202  set_1\n",
            "138  139.0   139.0     19185.0  ...    133.9945   156.2917  set_1\n",
            "\n",
            "[5 rows x 8 columns]\n"
          ],
          "name": "stdout"
        }
      ]
    },
    {
      "cell_type": "code",
      "metadata": {
        "id": "4A3seqGGXv4V",
        "colab_type": "code",
        "colab": {}
      },
      "source": [
        "#funcao remove outliers do dataset\n",
        "def __remove_outliers(df, coluna):\n",
        "    '''remove os outliers do frame e retorna-o'''\n",
        "    _,index_ = __separa_outliers(df,coluna)\n",
        "    frame_sem_outliers = df.drop(axis = 0, index = index_)\n",
        "    return frame_sem_outliers\n"
      ],
      "execution_count": 0,
      "outputs": []
    },
    {
      "cell_type": "code",
      "metadata": {
        "id": "4-NmlfgbXyS1",
        "colab_type": "code",
        "colab": {}
      },
      "source": [
        "framee = __remove_outliers(df1, 'area')\n"
      ],
      "execution_count": 0,
      "outputs": []
    },
    {
      "cell_type": "code",
      "metadata": {
        "id": "Lr2IO88aYRiF",
        "colab_type": "code",
        "colab": {
          "base_uri": "https://localhost:8080/",
          "height": 359
        },
        "outputId": "0b027ba7-0554-4df8-e2c8-0712d0607431"
      },
      "source": [
        "framee[10:20]"
      ],
      "execution_count": 33,
      "outputs": [
        {
          "output_type": "execute_result",
          "data": {
            "text/html": [
              "<div>\n",
              "<style scoped>\n",
              "    .dataframe tbody tr th:only-of-type {\n",
              "        vertical-align: middle;\n",
              "    }\n",
              "\n",
              "    .dataframe tbody tr th {\n",
              "        vertical-align: top;\n",
              "    }\n",
              "\n",
              "    .dataframe thead th {\n",
              "        text-align: right;\n",
              "    }\n",
              "</style>\n",
              "<table border=\"1\" class=\"dataframe\">\n",
              "  <thead>\n",
              "    <tr style=\"text-align: right;\">\n",
              "      <th></th>\n",
              "      <th>index</th>\n",
              "      <th>labels</th>\n",
              "      <th>area</th>\n",
              "      <th>perimeter</th>\n",
              "      <th>mahor_axis</th>\n",
              "      <th>minor_axis</th>\n",
              "      <th>eq_diam</th>\n",
              "      <th>set_</th>\n",
              "    </tr>\n",
              "  </thead>\n",
              "  <tbody>\n",
              "    <tr>\n",
              "      <th>11</th>\n",
              "      <td>12.0</td>\n",
              "      <td>12.0</td>\n",
              "      <td>4815.0</td>\n",
              "      <td>294.1665</td>\n",
              "      <td>106.6351</td>\n",
              "      <td>61.3767</td>\n",
              "      <td>78.2985</td>\n",
              "      <td>set_1</td>\n",
              "    </tr>\n",
              "    <tr>\n",
              "      <th>12</th>\n",
              "      <td>13.0</td>\n",
              "      <td>13.0</td>\n",
              "      <td>6510.0</td>\n",
              "      <td>314.1665</td>\n",
              "      <td>98.2614</td>\n",
              "      <td>86.1987</td>\n",
              "      <td>91.0428</td>\n",
              "      <td>set_1</td>\n",
              "    </tr>\n",
              "    <tr>\n",
              "      <th>13</th>\n",
              "      <td>14.0</td>\n",
              "      <td>14.0</td>\n",
              "      <td>7884.0</td>\n",
              "      <td>336.7351</td>\n",
              "      <td>101.4844</td>\n",
              "      <td>99.9200</td>\n",
              "      <td>100.1909</td>\n",
              "      <td>set_1</td>\n",
              "    </tr>\n",
              "    <tr>\n",
              "      <th>14</th>\n",
              "      <td>15.0</td>\n",
              "      <td>15.0</td>\n",
              "      <td>1707.0</td>\n",
              "      <td>168.2254</td>\n",
              "      <td>49.7539</td>\n",
              "      <td>46463.0000</td>\n",
              "      <td>46.6200</td>\n",
              "      <td>set_1</td>\n",
              "    </tr>\n",
              "    <tr>\n",
              "      <th>15</th>\n",
              "      <td>16.0</td>\n",
              "      <td>16.0</td>\n",
              "      <td>707.0</td>\n",
              "      <td>111.2904</td>\n",
              "      <td>34.8355</td>\n",
              "      <td>28.1487</td>\n",
              "      <td>30003.0000</td>\n",
              "      <td>set_1</td>\n",
              "    </tr>\n",
              "    <tr>\n",
              "      <th>17</th>\n",
              "      <td>18.0</td>\n",
              "      <td>18.0</td>\n",
              "      <td>9774.0</td>\n",
              "      <td>383061.0000</td>\n",
              "      <td>124.8502</td>\n",
              "      <td>101.1178</td>\n",
              "      <td>111.5556</td>\n",
              "      <td>set_1</td>\n",
              "    </tr>\n",
              "    <tr>\n",
              "      <th>18</th>\n",
              "      <td>19.0</td>\n",
              "      <td>19.0</td>\n",
              "      <td>6318.0</td>\n",
              "      <td>325.8061</td>\n",
              "      <td>97843.0000</td>\n",
              "      <td>86.7009</td>\n",
              "      <td>89.6902</td>\n",
              "      <td>set_1</td>\n",
              "    </tr>\n",
              "    <tr>\n",
              "      <th>19</th>\n",
              "      <td>20.0</td>\n",
              "      <td>20.0</td>\n",
              "      <td>6264.0</td>\n",
              "      <td>305865.0000</td>\n",
              "      <td>98.5396</td>\n",
              "      <td>82.4586</td>\n",
              "      <td>89.3061</td>\n",
              "      <td>set_1</td>\n",
              "    </tr>\n",
              "    <tr>\n",
              "      <th>20</th>\n",
              "      <td>21.0</td>\n",
              "      <td>21.0</td>\n",
              "      <td>5462.0</td>\n",
              "      <td>295.4214</td>\n",
              "      <td>102.8607</td>\n",
              "      <td>68.8796</td>\n",
              "      <td>83.3933</td>\n",
              "      <td>set_1</td>\n",
              "    </tr>\n",
              "    <tr>\n",
              "      <th>21</th>\n",
              "      <td>22.0</td>\n",
              "      <td>22.0</td>\n",
              "      <td>6483.0</td>\n",
              "      <td>312.6934</td>\n",
              "      <td>102.3497</td>\n",
              "      <td>81.7811</td>\n",
              "      <td>90.8538</td>\n",
              "      <td>set_1</td>\n",
              "    </tr>\n",
              "  </tbody>\n",
              "</table>\n",
              "</div>"
            ],
            "text/plain": [
              "    index  labels    area  ...  minor_axis     eq_diam   set_\n",
              "11   12.0    12.0  4815.0  ...     61.3767     78.2985  set_1\n",
              "12   13.0    13.0  6510.0  ...     86.1987     91.0428  set_1\n",
              "13   14.0    14.0  7884.0  ...     99.9200    100.1909  set_1\n",
              "14   15.0    15.0  1707.0  ...  46463.0000     46.6200  set_1\n",
              "15   16.0    16.0   707.0  ...     28.1487  30003.0000  set_1\n",
              "17   18.0    18.0  9774.0  ...    101.1178    111.5556  set_1\n",
              "18   19.0    19.0  6318.0  ...     86.7009     89.6902  set_1\n",
              "19   20.0    20.0  6264.0  ...     82.4586     89.3061  set_1\n",
              "20   21.0    21.0  5462.0  ...     68.8796     83.3933  set_1\n",
              "21   22.0    22.0  6483.0  ...     81.7811     90.8538  set_1\n",
              "\n",
              "[10 rows x 8 columns]"
            ]
          },
          "metadata": {
            "tags": []
          },
          "execution_count": 33
        }
      ]
    },
    {
      "cell_type": "code",
      "metadata": {
        "id": "vgljgHm4YSK9",
        "colab_type": "code",
        "colab": {}
      },
      "source": [
        "a,b = limpeza(df1,'perimeter')"
      ],
      "execution_count": 0,
      "outputs": []
    },
    {
      "cell_type": "code",
      "metadata": {
        "id": "_brYUeJ5hka5",
        "colab_type": "code",
        "colab": {
          "base_uri": "https://localhost:8080/",
          "height": 669
        },
        "outputId": "a2114052-b605-4d5d-aa73-2f01534791ec"
      },
      "source": [
        "a"
      ],
      "execution_count": 54,
      "outputs": [
        {
          "output_type": "execute_result",
          "data": {
            "text/html": [
              "<div>\n",
              "<style scoped>\n",
              "    .dataframe tbody tr th:only-of-type {\n",
              "        vertical-align: middle;\n",
              "    }\n",
              "\n",
              "    .dataframe tbody tr th {\n",
              "        vertical-align: top;\n",
              "    }\n",
              "\n",
              "    .dataframe thead th {\n",
              "        text-align: right;\n",
              "    }\n",
              "</style>\n",
              "<table border=\"1\" class=\"dataframe\">\n",
              "  <thead>\n",
              "    <tr style=\"text-align: right;\">\n",
              "      <th></th>\n",
              "      <th>index</th>\n",
              "      <th>labels</th>\n",
              "      <th>area</th>\n",
              "      <th>perimeter</th>\n",
              "      <th>mahor_axis</th>\n",
              "      <th>minor_axis</th>\n",
              "      <th>eq_diam</th>\n",
              "      <th>set_</th>\n",
              "    </tr>\n",
              "  </thead>\n",
              "  <tbody>\n",
              "    <tr>\n",
              "      <th>0</th>\n",
              "      <td>1.0</td>\n",
              "      <td>1.0</td>\n",
              "      <td>12057066.0</td>\n",
              "      <td>54735.7112</td>\n",
              "      <td>4944.8175</td>\n",
              "      <td>3674.3981</td>\n",
              "      <td>3918.1033</td>\n",
              "      <td>set_1</td>\n",
              "    </tr>\n",
              "    <tr>\n",
              "      <th>4</th>\n",
              "      <td>5.0</td>\n",
              "      <td>5.0</td>\n",
              "      <td>1798.0</td>\n",
              "      <td>165397.0000</td>\n",
              "      <td>61.1904</td>\n",
              "      <td>38.4644</td>\n",
              "      <td>47.8465</td>\n",
              "      <td>set_1</td>\n",
              "    </tr>\n",
              "    <tr>\n",
              "      <th>9</th>\n",
              "      <td>10.0</td>\n",
              "      <td>10.0</td>\n",
              "      <td>6076.0</td>\n",
              "      <td>306066.0000</td>\n",
              "      <td>93.1224</td>\n",
              "      <td>86.1361</td>\n",
              "      <td>87.9557</td>\n",
              "      <td>set_1</td>\n",
              "    </tr>\n",
              "    <tr>\n",
              "      <th>16</th>\n",
              "      <td>17.0</td>\n",
              "      <td>17.0</td>\n",
              "      <td>30963.0</td>\n",
              "      <td>913.6367</td>\n",
              "      <td>322.2773</td>\n",
              "      <td>149.6843</td>\n",
              "      <td>198.5531</td>\n",
              "      <td>set_1</td>\n",
              "    </tr>\n",
              "    <tr>\n",
              "      <th>17</th>\n",
              "      <td>18.0</td>\n",
              "      <td>18.0</td>\n",
              "      <td>9774.0</td>\n",
              "      <td>383061.0000</td>\n",
              "      <td>124.8502</td>\n",
              "      <td>101.1178</td>\n",
              "      <td>111.5556</td>\n",
              "      <td>set_1</td>\n",
              "    </tr>\n",
              "    <tr>\n",
              "      <th>19</th>\n",
              "      <td>20.0</td>\n",
              "      <td>20.0</td>\n",
              "      <td>6264.0</td>\n",
              "      <td>305865.0000</td>\n",
              "      <td>98.5396</td>\n",
              "      <td>82.4586</td>\n",
              "      <td>89.3061</td>\n",
              "      <td>set_1</td>\n",
              "    </tr>\n",
              "    <tr>\n",
              "      <th>32</th>\n",
              "      <td>33.0</td>\n",
              "      <td>33.0</td>\n",
              "      <td>875.0</td>\n",
              "      <td>119598.0000</td>\n",
              "      <td>43.7116</td>\n",
              "      <td>25.9571</td>\n",
              "      <td>33.3779</td>\n",
              "      <td>set_1</td>\n",
              "    </tr>\n",
              "    <tr>\n",
              "      <th>36</th>\n",
              "      <td>37.0</td>\n",
              "      <td>37.0</td>\n",
              "      <td>3355.0</td>\n",
              "      <td>247196.0000</td>\n",
              "      <td>72.9591</td>\n",
              "      <td>63564.0000</td>\n",
              "      <td>65.3584</td>\n",
              "      <td>set_1</td>\n",
              "    </tr>\n",
              "    <tr>\n",
              "      <th>37</th>\n",
              "      <td>38.0</td>\n",
              "      <td>38.0</td>\n",
              "      <td>316.0</td>\n",
              "      <td>79598.0000</td>\n",
              "      <td>27.8356</td>\n",
              "      <td>16.2836</td>\n",
              "      <td>20.0585</td>\n",
              "      <td>set_1</td>\n",
              "    </tr>\n",
              "    <tr>\n",
              "      <th>39</th>\n",
              "      <td>40.0</td>\n",
              "      <td>40.0</td>\n",
              "      <td>4135.0</td>\n",
              "      <td>253664.0000</td>\n",
              "      <td>92.2256</td>\n",
              "      <td>58.8533</td>\n",
              "      <td>72.5593</td>\n",
              "      <td>set_1</td>\n",
              "    </tr>\n",
              "    <tr>\n",
              "      <th>50</th>\n",
              "      <td>51.0</td>\n",
              "      <td>51.0</td>\n",
              "      <td>5752.0</td>\n",
              "      <td>289865.0000</td>\n",
              "      <td>94.4011</td>\n",
              "      <td>78.3195</td>\n",
              "      <td>85.5785</td>\n",
              "      <td>set_1</td>\n",
              "    </tr>\n",
              "    <tr>\n",
              "      <th>52</th>\n",
              "      <td>53.0</td>\n",
              "      <td>53.0</td>\n",
              "      <td>27146.0</td>\n",
              "      <td>918.7666</td>\n",
              "      <td>239.9542</td>\n",
              "      <td>183.0300</td>\n",
              "      <td>185.9122</td>\n",
              "      <td>set_1</td>\n",
              "    </tr>\n",
              "    <tr>\n",
              "      <th>89</th>\n",
              "      <td>90.0</td>\n",
              "      <td>90.0</td>\n",
              "      <td>5197.0</td>\n",
              "      <td>301463.0000</td>\n",
              "      <td>100.7365</td>\n",
              "      <td>69.8539</td>\n",
              "      <td>81.3451</td>\n",
              "      <td>set_1</td>\n",
              "    </tr>\n",
              "    <tr>\n",
              "      <th>98</th>\n",
              "      <td>99.0</td>\n",
              "      <td>99.0</td>\n",
              "      <td>2845.0</td>\n",
              "      <td>214669.0000</td>\n",
              "      <td>80.9003</td>\n",
              "      <td>45.8497</td>\n",
              "      <td>60.1861</td>\n",
              "      <td>set_1</td>\n",
              "    </tr>\n",
              "    <tr>\n",
              "      <th>102</th>\n",
              "      <td>103.0</td>\n",
              "      <td>103.0</td>\n",
              "      <td>3957.0</td>\n",
              "      <td>242267.0000</td>\n",
              "      <td>79.5372</td>\n",
              "      <td>65.1487</td>\n",
              "      <td>70.9803</td>\n",
              "      <td>set_1</td>\n",
              "    </tr>\n",
              "    <tr>\n",
              "      <th>115</th>\n",
              "      <td>116.0</td>\n",
              "      <td>116.0</td>\n",
              "      <td>9994.0</td>\n",
              "      <td>461262.0000</td>\n",
              "      <td>149.6785</td>\n",
              "      <td>97.3404</td>\n",
              "      <td>112.8041</td>\n",
              "      <td>set_1</td>\n",
              "    </tr>\n",
              "    <tr>\n",
              "      <th>116</th>\n",
              "      <td>117.0</td>\n",
              "      <td>117.0</td>\n",
              "      <td>90.0</td>\n",
              "      <td>49864.0000</td>\n",
              "      <td>25849.0000</td>\n",
              "      <td>4.6462</td>\n",
              "      <td>10.7047</td>\n",
              "      <td>set_1</td>\n",
              "    </tr>\n",
              "    <tr>\n",
              "      <th>135</th>\n",
              "      <td>136.0</td>\n",
              "      <td>136.0</td>\n",
              "      <td>21726.0</td>\n",
              "      <td>813.8255</td>\n",
              "      <td>203.1576</td>\n",
              "      <td>179.6732</td>\n",
              "      <td>166.3202</td>\n",
              "      <td>set_1</td>\n",
              "    </tr>\n",
              "    <tr>\n",
              "      <th>147</th>\n",
              "      <td>148.0</td>\n",
              "      <td>148.0</td>\n",
              "      <td>3213.0</td>\n",
              "      <td>229196.0000</td>\n",
              "      <td>80.2159</td>\n",
              "      <td>53.4331</td>\n",
              "      <td>63.9603</td>\n",
              "      <td>set_1</td>\n",
              "    </tr>\n",
              "    <tr>\n",
              "      <th>153</th>\n",
              "      <td>154.0</td>\n",
              "      <td>154.0</td>\n",
              "      <td>5446.0</td>\n",
              "      <td>287196.0000</td>\n",
              "      <td>94.7393</td>\n",
              "      <td>74.6803</td>\n",
              "      <td>83271.0000</td>\n",
              "      <td>set_1</td>\n",
              "    </tr>\n",
              "  </tbody>\n",
              "</table>\n",
              "</div>"
            ],
            "text/plain": [
              "     index  labels        area  ...  minor_axis     eq_diam   set_\n",
              "0      1.0     1.0  12057066.0  ...   3674.3981   3918.1033  set_1\n",
              "4      5.0     5.0      1798.0  ...     38.4644     47.8465  set_1\n",
              "9     10.0    10.0      6076.0  ...     86.1361     87.9557  set_1\n",
              "16    17.0    17.0     30963.0  ...    149.6843    198.5531  set_1\n",
              "17    18.0    18.0      9774.0  ...    101.1178    111.5556  set_1\n",
              "19    20.0    20.0      6264.0  ...     82.4586     89.3061  set_1\n",
              "32    33.0    33.0       875.0  ...     25.9571     33.3779  set_1\n",
              "36    37.0    37.0      3355.0  ...  63564.0000     65.3584  set_1\n",
              "37    38.0    38.0       316.0  ...     16.2836     20.0585  set_1\n",
              "39    40.0    40.0      4135.0  ...     58.8533     72.5593  set_1\n",
              "50    51.0    51.0      5752.0  ...     78.3195     85.5785  set_1\n",
              "52    53.0    53.0     27146.0  ...    183.0300    185.9122  set_1\n",
              "89    90.0    90.0      5197.0  ...     69.8539     81.3451  set_1\n",
              "98    99.0    99.0      2845.0  ...     45.8497     60.1861  set_1\n",
              "102  103.0   103.0      3957.0  ...     65.1487     70.9803  set_1\n",
              "115  116.0   116.0      9994.0  ...     97.3404    112.8041  set_1\n",
              "116  117.0   117.0        90.0  ...      4.6462     10.7047  set_1\n",
              "135  136.0   136.0     21726.0  ...    179.6732    166.3202  set_1\n",
              "147  148.0   148.0      3213.0  ...     53.4331     63.9603  set_1\n",
              "153  154.0   154.0      5446.0  ...     74.6803  83271.0000  set_1\n",
              "\n",
              "[20 rows x 8 columns]"
            ]
          },
          "metadata": {
            "tags": []
          },
          "execution_count": 54
        }
      ]
    },
    {
      "cell_type": "code",
      "metadata": {
        "id": "HeAKz5F7hlG4",
        "colab_type": "code",
        "colab": {
          "base_uri": "https://localhost:8080/",
          "height": 170
        },
        "outputId": "cd324963-24aa-48f5-f66a-2aa292e960b3"
      },
      "source": [
        "df1.perimeter.describe()"
      ],
      "execution_count": 56,
      "outputs": [
        {
          "output_type": "execute_result",
          "data": {
            "text/plain": [
              "count       160.000000\n",
              "mean      25211.059345\n",
              "std       80823.904141\n",
              "min          51.656900\n",
              "25%         204.342425\n",
              "50%         316.977750\n",
              "75%         402.582475\n",
              "max      461262.000000\n",
              "Name: perimeter, dtype: float64"
            ]
          },
          "metadata": {
            "tags": []
          },
          "execution_count": 56
        }
      ]
    },
    {
      "cell_type": "code",
      "metadata": {
        "id": "rjlJlELDhviQ",
        "colab_type": "code",
        "colab": {
          "base_uri": "https://localhost:8080/",
          "height": 285
        },
        "outputId": "d9df52c4-8667-4e47-dea4-22bac556daa0"
      },
      "source": [
        ""
      ],
      "execution_count": 58,
      "outputs": [
        {
          "output_type": "display_data",
          "data": {
            "image/png": "[encoded data removed]",
            "text/plain": [
              "<Figure size 432x288 with 1 Axes>"
            ]
          },
          "metadata": {
            "tags": []
          }
        }
      ]
    },
    {
      "cell_type": "markdown",
      "metadata": {
        "id": "c51wWKZNiO7A",
        "colab_type": "text"
      },
      "source": [
        "# function graphs"
      ]
    },
    {
      "cell_type": "markdown",
      "metadata": {
        "id": "hQ6vBy8niRkI",
        "colab_type": "text"
      },
      "source": [
        "## histogram"
      ]
    },
    {
      "cell_type": "code",
      "metadata": {
        "id": "1kb-Wx0Sh9E4",
        "colab_type": "code",
        "colab": {}
      },
      "source": [
        "# sturges\n",
        "def __sturges(a1): \n",
        "    '''devolve numero de bins de um histograma para um dataset. Argumento = dataset'''\n",
        "    k = int(1 + 10/3 *np.log10(len(a1)))\n",
        "    return k\n"
      ],
      "execution_count": 0,
      "outputs": []
    },
    {
      "cell_type": "code",
      "metadata": {
        "id": "u6h429MEidvl",
        "colab_type": "code",
        "colab": {}
      },
      "source": [
        "#histograma\n",
        "def plot_hist(a1,a2,a3,):\n",
        "        ''' a1 - df(adc coluna)\n",
        "        a3 - normalizar histograma (T or F) \\n\n",
        "        a4 - titulo\n",
        "        ax1 - use para multiplot ''' \n",
        "        ax = sns.distplot(a1, bins = __sturges(a1), kde = False, norm_hist = a2, )\n",
        "        sns.set(style='whitegrid')\n",
        "        ax.figure.set_size_inches(15,5)\n",
        "        ax.set_title(a3, fontsize = 16, color = 'white')\n",
        "        ax.set_xlim(left = 0)\n",
        "        return ax\n"
      ],
      "execution_count": 0,
      "outputs": []
    },
    {
      "cell_type": "markdown",
      "metadata": {
        "id": "0AZmPWTRikan",
        "colab_type": "text"
      },
      "source": [
        "## boxplot"
      ]
    },
    {
      "cell_type": "code",
      "metadata": {
        "id": "n-na0kpXi3VY",
        "colab_type": "code",
        "colab": {}
      },
      "source": [
        "#boxplot\n",
        "def plot_boxplot(a1,a2,a3,):\n",
        "    '''a1 - ['nome_da_coluna']\n",
        "     a2 - df\n",
        "     a3 - titulo\n",
        "     ax2 - use para multiplot'''\n",
        "    sns.set(style='whitegrid')\n",
        "    ax = sns.boxplot(x = a1, data = a2, )\n",
        "    ax.figure.set_size_inches(15,5)\n",
        "    ax.set_title(a3 , fontsize = 16, color = 'white')\n",
        "    ax.set_xlim(left = 0)\n",
        "    return ax"
      ],
      "execution_count": 0,
      "outputs": []
    },
    {
      "cell_type": "markdown",
      "metadata": {
        "id": "NwlHCfa_il6H",
        "colab_type": "text"
      },
      "source": [
        "## violinplot"
      ]
    },
    {
      "cell_type": "code",
      "metadata": {
        "id": "lU524RZpjAZP",
        "colab_type": "code",
        "colab": {}
      },
      "source": [
        "#violinplot\n",
        "def plot_violin(a1,a2,a3):\n",
        "    '''a1 - ['nome_da_coluna']\n",
        "     a2 - df\n",
        "     a3 - titulo\n",
        "     ax1 - use para multiplot'''\n",
        "    ax = sns.violinplot(x = a1, data = a2)\n",
        "    sns.set(style='whitegrid')\n",
        "    ax.figure.set_size_inches(15,5)\n",
        "    ax.set_title(a3 , fontsize = 16, color = 'white')\n",
        "    ax.set_xlim(left = 0)\n",
        "    return ax"
      ],
      "execution_count": 0,
      "outputs": []
    },
    {
      "cell_type": "markdown",
      "metadata": {
        "id": "LY9tSot8inUn",
        "colab_type": "text"
      },
      "source": [
        "## swarmplot"
      ]
    },
    {
      "cell_type": "code",
      "metadata": {
        "id": "EbJXRL75ili1",
        "colab_type": "code",
        "colab": {}
      },
      "source": [
        "#swarmplot\n",
        "def plot_swarm(a1,a2,a3, ):\n",
        "    '''a1 - 'nome_da_coluna'\n",
        "     a2 - df\n",
        "     a3 - titulo\n",
        "     ax1 = use para multiplot'''\n",
        "    sns.set(style='whitegrid')\n",
        "    ax = sns.swarmplot(x = a1, data = a2, color='red', alpha = 0.75 )\n",
        "    ax.figure.set_size_inches(15,5)\n",
        "    ax.set_title(a3 , fontsize = 16, color = 'white')\n",
        "    ax.set_xlim(left = 0)\n",
        "    return ax"
      ],
      "execution_count": 0,
      "outputs": []
    }
  ]
}