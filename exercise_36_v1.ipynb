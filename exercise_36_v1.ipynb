{
  "nbformat": 4,
  "nbformat_minor": 0,
  "metadata": {
    "colab": {
      "name": "exercise_36_v1.ipynb",
      "provenance": [],
      "collapsed_sections": [],
      "toc_visible": true,
      "mount_file_id": "13zcfj04AqSw8QjghM92MBf6wP5GleWqz",
      "authorship_tag": "ABX9TyOhLWkGCBV5yyxQjrTva9xZ",
      "include_colab_link": true
    },
    "kernelspec": {
      "name": "python3",
      "display_name": "Python 3"
    }
  },
  "cells": [
    {
      "cell_type": "markdown",
      "metadata": {
        "id": "view-in-github",
        "colab_type": "text"
      },
      "source": [
        "<a href=\"https://colab.research.google.com/github/felipekbatista/data_science/blob/master/exercise_36_v1.ipynb\" target=\"_parent\"><img src=\"https://colab.research.google.com/assets/colab-badge.svg\" alt=\"Open In Colab\"/></a>"
      ]
    },
    {
      "cell_type": "markdown",
      "metadata": {
        "id": "IuG0Iu04ZNoU",
        "colab_type": "text"
      },
      "source": [
        "#Import dos dados e bibliotecas"
      ]
    },
    {
      "cell_type": "code",
      "metadata": {
        "id": "p-2GmnVAUfOj",
        "colab_type": "code",
        "colab": {
          "base_uri": "https://localhost:8080/",
          "height": 71
        },
        "outputId": "f6523251-4da8-4282-c669-696a09c536d3"
      },
      "source": [
        "import pandas as pd\n",
        "import numpy as np\n",
        "import seaborn as sns\n",
        "from matplotlib import pyplot as plt"
      ],
      "execution_count": 2,
      "outputs": [
        {
          "output_type": "stream",
          "text": [
            "/usr/local/lib/python3.6/dist-packages/statsmodels/tools/_testing.py:19: FutureWarning: pandas.util.testing is deprecated. Use the functions in the public API at pandas.testing instead.\n",
            "  import pandas.util.testing as tm\n"
          ],
          "name": "stderr"
        }
      ]
    },
    {
      "cell_type": "code",
      "metadata": {
        "id": "J0qtTEKT-nr3",
        "colab_type": "code",
        "outputId": "9a049a7f-fc08-414d-d107-f1dfeba4fdba",
        "colab": {
          "base_uri": "https://localhost:8080/",
          "height": 204
        }
      },
      "source": [
        "path = '/content/drive/My Drive/Colab Notebooks/image codes/exercise_36.csv'\n",
        "dados = pd.read_csv(path)\n",
        "dados.head()"
      ],
      "execution_count": 3,
      "outputs": [
        {
          "output_type": "execute_result",
          "data": {
            "text/html": [
              "<div>\n",
              "<style scoped>\n",
              "    .dataframe tbody tr th:only-of-type {\n",
              "        vertical-align: middle;\n",
              "    }\n",
              "\n",
              "    .dataframe tbody tr th {\n",
              "        vertical-align: top;\n",
              "    }\n",
              "\n",
              "    .dataframe thead th {\n",
              "        text-align: right;\n",
              "    }\n",
              "</style>\n",
              "<table border=\"1\" class=\"dataframe\">\n",
              "  <thead>\n",
              "    <tr style=\"text-align: right;\">\n",
              "      <th></th>\n",
              "      <th>Unnamed: 0</th>\n",
              "      <th>0</th>\n",
              "      <th>1</th>\n",
              "      <th>2</th>\n",
              "      <th>3</th>\n",
              "      <th>4</th>\n",
              "      <th>5</th>\n",
              "    </tr>\n",
              "  </thead>\n",
              "  <tbody>\n",
              "    <tr>\n",
              "      <th>0</th>\n",
              "      <td>0</td>\n",
              "      <td>labels</td>\n",
              "      <td>area</td>\n",
              "      <td>perimeter</td>\n",
              "      <td>major axis</td>\n",
              "      <td>minor axis</td>\n",
              "      <td>eqv diameter</td>\n",
              "    </tr>\n",
              "    <tr>\n",
              "      <th>1</th>\n",
              "      <td>1</td>\n",
              "      <td>1</td>\n",
              "      <td>12057066</td>\n",
              "      <td>54735.7112</td>\n",
              "      <td>4944.8175</td>\n",
              "      <td>3674.3981</td>\n",
              "      <td>3918.1033</td>\n",
              "    </tr>\n",
              "    <tr>\n",
              "      <th>2</th>\n",
              "      <td>2</td>\n",
              "      <td>2</td>\n",
              "      <td>2220</td>\n",
              "      <td>236.2254</td>\n",
              "      <td>85772</td>\n",
              "      <td>40.4931</td>\n",
              "      <td>53.1657</td>\n",
              "    </tr>\n",
              "    <tr>\n",
              "      <th>3</th>\n",
              "      <td>3</td>\n",
              "      <td>3</td>\n",
              "      <td>1478</td>\n",
              "      <td>149.7401</td>\n",
              "      <td>58.4509</td>\n",
              "      <td>32.3893</td>\n",
              "      <td>43.3803</td>\n",
              "    </tr>\n",
              "    <tr>\n",
              "      <th>4</th>\n",
              "      <td>4</td>\n",
              "      <td>4</td>\n",
              "      <td>1262</td>\n",
              "      <td>136.1838</td>\n",
              "      <td>46123</td>\n",
              "      <td>35.7796</td>\n",
              "      <td>40.0853</td>\n",
              "    </tr>\n",
              "  </tbody>\n",
              "</table>\n",
              "</div>"
            ],
            "text/plain": [
              "   Unnamed: 0       0         1  ...           3           4             5\n",
              "0           0  labels      area  ...  major axis  minor axis  eqv diameter\n",
              "1           1       1  12057066  ...   4944.8175   3674.3981     3918.1033\n",
              "2           2       2      2220  ...       85772     40.4931       53.1657\n",
              "3           3       3      1478  ...     58.4509     32.3893       43.3803\n",
              "4           4       4      1262  ...       46123     35.7796       40.0853\n",
              "\n",
              "[5 rows x 7 columns]"
            ]
          },
          "metadata": {
            "tags": []
          },
          "execution_count": 3
        }
      ]
    },
    {
      "cell_type": "markdown",
      "metadata": {
        "id": "cpfsuLK3-1Jj",
        "colab_type": "text"
      },
      "source": [
        "# Pré Tratamento dos dados - organização e renomeaçao"
      ]
    },
    {
      "cell_type": "markdown",
      "metadata": {
        "id": "GN9V24mrBIJl",
        "colab_type": "text"
      },
      "source": [
        "## drop column unnamed: 0"
      ]
    },
    {
      "cell_type": "code",
      "metadata": {
        "id": "Z2RB_FJH_KX1",
        "colab_type": "code",
        "outputId": "f4b55337-9ecc-4857-8e09-1e24e9a89b32",
        "colab": {
          "base_uri": "https://localhost:8080/",
          "height": 119
        }
      },
      "source": [
        "#drop column unnamed:0\n",
        "dados.drop(columns = 'Unnamed: 0', inplace = True)\n",
        "print(dados.head())"
      ],
      "execution_count": 4,
      "outputs": [
        {
          "output_type": "stream",
          "text": [
            "        0         1           2           3           4             5\n",
            "0  labels      area   perimeter  major axis  minor axis  eqv diameter\n",
            "1       1  12057066  54735.7112   4944.8175   3674.3981     3918.1033\n",
            "2       2      2220    236.2254       85772     40.4931       53.1657\n",
            "3       3      1478    149.7401     58.4509     32.3893       43.3803\n",
            "4       4      1262    136.1838       46123     35.7796       40.0853\n"
          ],
          "name": "stdout"
        }
      ]
    },
    {
      "cell_type": "markdown",
      "metadata": {
        "id": "Wl4Te-CoBPHV",
        "colab_type": "text"
      },
      "source": [
        "## rename columns "
      ]
    },
    {
      "cell_type": "code",
      "metadata": {
        "id": "TXCENAm4--GG",
        "colab_type": "code",
        "outputId": "4d92d859-195d-4aaa-f4d4-e0ce598f0cff",
        "colab": {
          "base_uri": "https://localhost:8080/",
          "height": 153
        }
      },
      "source": [
        "#column rename\n",
        "coluna = dados.columns\n",
        "print(coluna)\n",
        "\n",
        "nova_coluna = ['labels', 'area', 'perimeter', 'mahor_axis',\t'minor_axis', 'eq_diam']\n",
        "\n",
        "dicio1 = dict(zip(coluna, nova_coluna))\n",
        "print(dicio1)\n",
        "\n",
        "dados.rename(columns = dicio1, inplace = True)\n",
        "print(dados.head())"
      ],
      "execution_count": 5,
      "outputs": [
        {
          "output_type": "stream",
          "text": [
            "Index(['0', '1', '2', '3', '4', '5'], dtype='object')\n",
            "{'0': 'labels', '1': 'area', '2': 'perimeter', '3': 'mahor_axis', '4': 'minor_axis', '5': 'eq_diam'}\n",
            "   labels      area   perimeter  mahor_axis  minor_axis       eq_diam\n",
            "0  labels      area   perimeter  major axis  minor axis  eqv diameter\n",
            "1       1  12057066  54735.7112   4944.8175   3674.3981     3918.1033\n",
            "2       2      2220    236.2254       85772     40.4931       53.1657\n",
            "3       3      1478    149.7401     58.4509     32.3893       43.3803\n",
            "4       4      1262    136.1838       46123     35.7796       40.0853\n"
          ],
          "name": "stdout"
        }
      ]
    },
    {
      "cell_type": "markdown",
      "metadata": {
        "id": "NZbr8CnhBcZu",
        "colab_type": "text"
      },
      "source": [
        "## drop first line"
      ]
    },
    {
      "cell_type": "code",
      "metadata": {
        "id": "ig--YUU0ASX_",
        "colab_type": "code",
        "outputId": "1f165746-d60a-4483-d91d-9a9c21068a2d",
        "colab": {
          "base_uri": "https://localhost:8080/",
          "height": 204
        }
      },
      "source": [
        "#drop first line\n",
        "dados.drop(index = 0, inplace = True)\n",
        "dados.reset_index(inplace= True)\n",
        "dados.head()"
      ],
      "execution_count": 6,
      "outputs": [
        {
          "output_type": "execute_result",
          "data": {
            "text/html": [
              "<div>\n",
              "<style scoped>\n",
              "    .dataframe tbody tr th:only-of-type {\n",
              "        vertical-align: middle;\n",
              "    }\n",
              "\n",
              "    .dataframe tbody tr th {\n",
              "        vertical-align: top;\n",
              "    }\n",
              "\n",
              "    .dataframe thead th {\n",
              "        text-align: right;\n",
              "    }\n",
              "</style>\n",
              "<table border=\"1\" class=\"dataframe\">\n",
              "  <thead>\n",
              "    <tr style=\"text-align: right;\">\n",
              "      <th></th>\n",
              "      <th>index</th>\n",
              "      <th>labels</th>\n",
              "      <th>area</th>\n",
              "      <th>perimeter</th>\n",
              "      <th>mahor_axis</th>\n",
              "      <th>minor_axis</th>\n",
              "      <th>eq_diam</th>\n",
              "    </tr>\n",
              "  </thead>\n",
              "  <tbody>\n",
              "    <tr>\n",
              "      <th>0</th>\n",
              "      <td>1</td>\n",
              "      <td>1</td>\n",
              "      <td>12057066</td>\n",
              "      <td>54735.7112</td>\n",
              "      <td>4944.8175</td>\n",
              "      <td>3674.3981</td>\n",
              "      <td>3918.1033</td>\n",
              "    </tr>\n",
              "    <tr>\n",
              "      <th>1</th>\n",
              "      <td>2</td>\n",
              "      <td>2</td>\n",
              "      <td>2220</td>\n",
              "      <td>236.2254</td>\n",
              "      <td>85772</td>\n",
              "      <td>40.4931</td>\n",
              "      <td>53.1657</td>\n",
              "    </tr>\n",
              "    <tr>\n",
              "      <th>2</th>\n",
              "      <td>3</td>\n",
              "      <td>3</td>\n",
              "      <td>1478</td>\n",
              "      <td>149.7401</td>\n",
              "      <td>58.4509</td>\n",
              "      <td>32.3893</td>\n",
              "      <td>43.3803</td>\n",
              "    </tr>\n",
              "    <tr>\n",
              "      <th>3</th>\n",
              "      <td>4</td>\n",
              "      <td>4</td>\n",
              "      <td>1262</td>\n",
              "      <td>136.1838</td>\n",
              "      <td>46123</td>\n",
              "      <td>35.7796</td>\n",
              "      <td>40.0853</td>\n",
              "    </tr>\n",
              "    <tr>\n",
              "      <th>4</th>\n",
              "      <td>5</td>\n",
              "      <td>5</td>\n",
              "      <td>1798</td>\n",
              "      <td>165397</td>\n",
              "      <td>61.1904</td>\n",
              "      <td>38.4644</td>\n",
              "      <td>47.8465</td>\n",
              "    </tr>\n",
              "  </tbody>\n",
              "</table>\n",
              "</div>"
            ],
            "text/plain": [
              "   index labels      area   perimeter mahor_axis minor_axis    eq_diam\n",
              "0      1      1  12057066  54735.7112  4944.8175  3674.3981  3918.1033\n",
              "1      2      2      2220    236.2254      85772    40.4931    53.1657\n",
              "2      3      3      1478    149.7401    58.4509    32.3893    43.3803\n",
              "3      4      4      1262    136.1838      46123    35.7796    40.0853\n",
              "4      5      5      1798      165397    61.1904    38.4644    47.8465"
            ]
          },
          "metadata": {
            "tags": []
          },
          "execution_count": 6
        }
      ]
    },
    {
      "cell_type": "code",
      "metadata": {
        "id": "TgErvDuz4DCy",
        "colab_type": "code",
        "outputId": "bb5c03f3-9f43-41a4-c14a-dd5868007a85",
        "colab": {
          "base_uri": "https://localhost:8080/",
          "height": 34
        }
      },
      "source": [
        "#verifica os dados do arquivo se são floats ou str\n",
        "type(dados.perimeter[5])\n",
        "dados = dados.astype(float)\n",
        "type(dados.perimeter[5])"
      ],
      "execution_count": 7,
      "outputs": [
        {
          "output_type": "execute_result",
          "data": {
            "text/plain": [
              "numpy.float64"
            ]
          },
          "metadata": {
            "tags": []
          },
          "execution_count": 7
        }
      ]
    },
    {
      "cell_type": "markdown",
      "metadata": {
        "id": "zpFS8QyPCbif",
        "colab_type": "text"
      },
      "source": [
        "## separação dos 4 arquivos"
      ]
    },
    {
      "cell_type": "code",
      "metadata": {
        "id": "rMSn25RFCflV",
        "colab_type": "code",
        "colab": {
          "base_uri": "https://localhost:8080/",
          "height": 595
        },
        "outputId": "c526cea2-fb83-4e17-d336-9a962fc728c7"
      },
      "source": [
        "#usar labels para essa separação\n",
        "#fazer slices é uma solução\n",
        "indices = []\n",
        "for i in range(dados.shape[0]):\n",
        "    if (int(dados.labels[i]) > int(dados.labels[i+1])):\n",
        "        print(i)\n",
        "        indices.append(i)\n",
        "\n",
        "print(indices)"
      ],
      "execution_count": 9,
      "outputs": [
        {
          "output_type": "stream",
          "text": [
            "159\n",
            "289\n",
            "400\n"
          ],
          "name": "stdout"
        },
        {
          "output_type": "error",
          "ename": "KeyError",
          "evalue": "ignored",
          "traceback": [
            "\u001b[0;31m---------------------------------------------------------------------------\u001b[0m",
            "\u001b[0;31mKeyError\u001b[0m                                  Traceback (most recent call last)",
            "\u001b[0;32m<ipython-input-9-c6955075617e>\u001b[0m in \u001b[0;36m<module>\u001b[0;34m()\u001b[0m\n\u001b[1;32m      3\u001b[0m \u001b[0mindices\u001b[0m \u001b[0;34m=\u001b[0m \u001b[0;34m[\u001b[0m\u001b[0;34m]\u001b[0m\u001b[0;34m\u001b[0m\u001b[0;34m\u001b[0m\u001b[0m\n\u001b[1;32m      4\u001b[0m \u001b[0;32mfor\u001b[0m \u001b[0mi\u001b[0m \u001b[0;32min\u001b[0m \u001b[0mrange\u001b[0m\u001b[0;34m(\u001b[0m\u001b[0mdados\u001b[0m\u001b[0;34m.\u001b[0m\u001b[0mshape\u001b[0m\u001b[0;34m[\u001b[0m\u001b[0;36m0\u001b[0m\u001b[0;34m]\u001b[0m\u001b[0;34m)\u001b[0m\u001b[0;34m:\u001b[0m\u001b[0;34m\u001b[0m\u001b[0;34m\u001b[0m\u001b[0m\n\u001b[0;32m----> 5\u001b[0;31m     \u001b[0;32mif\u001b[0m \u001b[0;34m(\u001b[0m\u001b[0mint\u001b[0m\u001b[0;34m(\u001b[0m\u001b[0mdados\u001b[0m\u001b[0;34m.\u001b[0m\u001b[0mlabels\u001b[0m\u001b[0;34m[\u001b[0m\u001b[0mi\u001b[0m\u001b[0;34m]\u001b[0m\u001b[0;34m)\u001b[0m \u001b[0;34m>\u001b[0m \u001b[0mint\u001b[0m\u001b[0;34m(\u001b[0m\u001b[0mdados\u001b[0m\u001b[0;34m.\u001b[0m\u001b[0mlabels\u001b[0m\u001b[0;34m[\u001b[0m\u001b[0mi\u001b[0m\u001b[0;34m+\u001b[0m\u001b[0;36m1\u001b[0m\u001b[0;34m]\u001b[0m\u001b[0;34m)\u001b[0m\u001b[0;34m)\u001b[0m\u001b[0;34m:\u001b[0m\u001b[0;34m\u001b[0m\u001b[0;34m\u001b[0m\u001b[0m\n\u001b[0m\u001b[1;32m      6\u001b[0m         \u001b[0mprint\u001b[0m\u001b[0;34m(\u001b[0m\u001b[0mi\u001b[0m\u001b[0;34m)\u001b[0m\u001b[0;34m\u001b[0m\u001b[0;34m\u001b[0m\u001b[0m\n\u001b[1;32m      7\u001b[0m         \u001b[0mindices\u001b[0m\u001b[0;34m.\u001b[0m\u001b[0mappend\u001b[0m\u001b[0;34m(\u001b[0m\u001b[0mi\u001b[0m\u001b[0;34m)\u001b[0m\u001b[0;34m\u001b[0m\u001b[0;34m\u001b[0m\u001b[0m\n",
            "\u001b[0;32m/usr/local/lib/python3.6/dist-packages/pandas/core/series.py\u001b[0m in \u001b[0;36m__getitem__\u001b[0;34m(self, key)\u001b[0m\n\u001b[1;32m    869\u001b[0m         \u001b[0mkey\u001b[0m \u001b[0;34m=\u001b[0m \u001b[0mcom\u001b[0m\u001b[0;34m.\u001b[0m\u001b[0mapply_if_callable\u001b[0m\u001b[0;34m(\u001b[0m\u001b[0mkey\u001b[0m\u001b[0;34m,\u001b[0m \u001b[0mself\u001b[0m\u001b[0;34m)\u001b[0m\u001b[0;34m\u001b[0m\u001b[0;34m\u001b[0m\u001b[0m\n\u001b[1;32m    870\u001b[0m         \u001b[0;32mtry\u001b[0m\u001b[0;34m:\u001b[0m\u001b[0;34m\u001b[0m\u001b[0;34m\u001b[0m\u001b[0m\n\u001b[0;32m--> 871\u001b[0;31m             \u001b[0mresult\u001b[0m \u001b[0;34m=\u001b[0m \u001b[0mself\u001b[0m\u001b[0;34m.\u001b[0m\u001b[0mindex\u001b[0m\u001b[0;34m.\u001b[0m\u001b[0mget_value\u001b[0m\u001b[0;34m(\u001b[0m\u001b[0mself\u001b[0m\u001b[0;34m,\u001b[0m \u001b[0mkey\u001b[0m\u001b[0;34m)\u001b[0m\u001b[0;34m\u001b[0m\u001b[0;34m\u001b[0m\u001b[0m\n\u001b[0m\u001b[1;32m    872\u001b[0m \u001b[0;34m\u001b[0m\u001b[0m\n\u001b[1;32m    873\u001b[0m             \u001b[0;32mif\u001b[0m \u001b[0;32mnot\u001b[0m \u001b[0mis_scalar\u001b[0m\u001b[0;34m(\u001b[0m\u001b[0mresult\u001b[0m\u001b[0;34m)\u001b[0m\u001b[0;34m:\u001b[0m\u001b[0;34m\u001b[0m\u001b[0;34m\u001b[0m\u001b[0m\n",
            "\u001b[0;32m/usr/local/lib/python3.6/dist-packages/pandas/core/indexes/base.py\u001b[0m in \u001b[0;36mget_value\u001b[0;34m(self, series, key)\u001b[0m\n\u001b[1;32m   4403\u001b[0m         \u001b[0mk\u001b[0m \u001b[0;34m=\u001b[0m \u001b[0mself\u001b[0m\u001b[0;34m.\u001b[0m\u001b[0m_convert_scalar_indexer\u001b[0m\u001b[0;34m(\u001b[0m\u001b[0mk\u001b[0m\u001b[0;34m,\u001b[0m \u001b[0mkind\u001b[0m\u001b[0;34m=\u001b[0m\u001b[0;34m\"getitem\"\u001b[0m\u001b[0;34m)\u001b[0m\u001b[0;34m\u001b[0m\u001b[0;34m\u001b[0m\u001b[0m\n\u001b[1;32m   4404\u001b[0m         \u001b[0;32mtry\u001b[0m\u001b[0;34m:\u001b[0m\u001b[0;34m\u001b[0m\u001b[0;34m\u001b[0m\u001b[0m\n\u001b[0;32m-> 4405\u001b[0;31m             \u001b[0;32mreturn\u001b[0m \u001b[0mself\u001b[0m\u001b[0;34m.\u001b[0m\u001b[0m_engine\u001b[0m\u001b[0;34m.\u001b[0m\u001b[0mget_value\u001b[0m\u001b[0;34m(\u001b[0m\u001b[0ms\u001b[0m\u001b[0;34m,\u001b[0m \u001b[0mk\u001b[0m\u001b[0;34m,\u001b[0m \u001b[0mtz\u001b[0m\u001b[0;34m=\u001b[0m\u001b[0mgetattr\u001b[0m\u001b[0;34m(\u001b[0m\u001b[0mseries\u001b[0m\u001b[0;34m.\u001b[0m\u001b[0mdtype\u001b[0m\u001b[0;34m,\u001b[0m \u001b[0;34m\"tz\"\u001b[0m\u001b[0;34m,\u001b[0m \u001b[0;32mNone\u001b[0m\u001b[0;34m)\u001b[0m\u001b[0;34m)\u001b[0m\u001b[0;34m\u001b[0m\u001b[0;34m\u001b[0m\u001b[0m\n\u001b[0m\u001b[1;32m   4406\u001b[0m         \u001b[0;32mexcept\u001b[0m \u001b[0mKeyError\u001b[0m \u001b[0;32mas\u001b[0m \u001b[0me1\u001b[0m\u001b[0;34m:\u001b[0m\u001b[0;34m\u001b[0m\u001b[0;34m\u001b[0m\u001b[0m\n\u001b[1;32m   4407\u001b[0m             \u001b[0;32mif\u001b[0m \u001b[0mlen\u001b[0m\u001b[0;34m(\u001b[0m\u001b[0mself\u001b[0m\u001b[0;34m)\u001b[0m \u001b[0;34m>\u001b[0m \u001b[0;36m0\u001b[0m \u001b[0;32mand\u001b[0m \u001b[0;34m(\u001b[0m\u001b[0mself\u001b[0m\u001b[0;34m.\u001b[0m\u001b[0mholds_integer\u001b[0m\u001b[0;34m(\u001b[0m\u001b[0;34m)\u001b[0m \u001b[0;32mor\u001b[0m \u001b[0mself\u001b[0m\u001b[0;34m.\u001b[0m\u001b[0mis_boolean\u001b[0m\u001b[0;34m(\u001b[0m\u001b[0;34m)\u001b[0m\u001b[0;34m)\u001b[0m\u001b[0;34m:\u001b[0m\u001b[0;34m\u001b[0m\u001b[0;34m\u001b[0m\u001b[0m\n",
            "\u001b[0;32mpandas/_libs/index.pyx\u001b[0m in \u001b[0;36mpandas._libs.index.IndexEngine.get_value\u001b[0;34m()\u001b[0m\n",
            "\u001b[0;32mpandas/_libs/index.pyx\u001b[0m in \u001b[0;36mpandas._libs.index.IndexEngine.get_value\u001b[0;34m()\u001b[0m\n",
            "\u001b[0;32mpandas/_libs/index.pyx\u001b[0m in \u001b[0;36mpandas._libs.index.IndexEngine.get_loc\u001b[0;34m()\u001b[0m\n",
            "\u001b[0;32mpandas/_libs/hashtable_class_helper.pxi\u001b[0m in \u001b[0;36mpandas._libs.hashtable.Int64HashTable.get_item\u001b[0;34m()\u001b[0m\n",
            "\u001b[0;32mpandas/_libs/hashtable_class_helper.pxi\u001b[0m in \u001b[0;36mpandas._libs.hashtable.Int64HashTable.get_item\u001b[0;34m()\u001b[0m\n",
            "\u001b[0;31mKeyError\u001b[0m: 536"
          ]
        }
      ]
    },
    {
      "cell_type": "code",
      "metadata": {
        "id": "GpH8juXNd7hY",
        "colab_type": "code",
        "outputId": "ec163ef6-4d14-4102-dd97-6bf45db00e80",
        "colab": {
          "base_uri": "https://localhost:8080/",
          "height": 221
        }
      },
      "source": [
        "print(indices)\n",
        "dados.head()"
      ],
      "execution_count": 10,
      "outputs": [
        {
          "output_type": "stream",
          "text": [
            "[159, 289, 400]\n"
          ],
          "name": "stdout"
        },
        {
          "output_type": "execute_result",
          "data": {
            "text/html": [
              "<div>\n",
              "<style scoped>\n",
              "    .dataframe tbody tr th:only-of-type {\n",
              "        vertical-align: middle;\n",
              "    }\n",
              "\n",
              "    .dataframe tbody tr th {\n",
              "        vertical-align: top;\n",
              "    }\n",
              "\n",
              "    .dataframe thead th {\n",
              "        text-align: right;\n",
              "    }\n",
              "</style>\n",
              "<table border=\"1\" class=\"dataframe\">\n",
              "  <thead>\n",
              "    <tr style=\"text-align: right;\">\n",
              "      <th></th>\n",
              "      <th>index</th>\n",
              "      <th>labels</th>\n",
              "      <th>area</th>\n",
              "      <th>perimeter</th>\n",
              "      <th>mahor_axis</th>\n",
              "      <th>minor_axis</th>\n",
              "      <th>eq_diam</th>\n",
              "    </tr>\n",
              "  </thead>\n",
              "  <tbody>\n",
              "    <tr>\n",
              "      <th>0</th>\n",
              "      <td>1.0</td>\n",
              "      <td>1.0</td>\n",
              "      <td>12057066.0</td>\n",
              "      <td>54735.7112</td>\n",
              "      <td>4944.8175</td>\n",
              "      <td>3674.3981</td>\n",
              "      <td>3918.1033</td>\n",
              "    </tr>\n",
              "    <tr>\n",
              "      <th>1</th>\n",
              "      <td>2.0</td>\n",
              "      <td>2.0</td>\n",
              "      <td>2220.0</td>\n",
              "      <td>236.2254</td>\n",
              "      <td>85772.0000</td>\n",
              "      <td>40.4931</td>\n",
              "      <td>53.1657</td>\n",
              "    </tr>\n",
              "    <tr>\n",
              "      <th>2</th>\n",
              "      <td>3.0</td>\n",
              "      <td>3.0</td>\n",
              "      <td>1478.0</td>\n",
              "      <td>149.7401</td>\n",
              "      <td>58.4509</td>\n",
              "      <td>32.3893</td>\n",
              "      <td>43.3803</td>\n",
              "    </tr>\n",
              "    <tr>\n",
              "      <th>3</th>\n",
              "      <td>4.0</td>\n",
              "      <td>4.0</td>\n",
              "      <td>1262.0</td>\n",
              "      <td>136.1838</td>\n",
              "      <td>46123.0000</td>\n",
              "      <td>35.7796</td>\n",
              "      <td>40.0853</td>\n",
              "    </tr>\n",
              "    <tr>\n",
              "      <th>4</th>\n",
              "      <td>5.0</td>\n",
              "      <td>5.0</td>\n",
              "      <td>1798.0</td>\n",
              "      <td>165397.0000</td>\n",
              "      <td>61.1904</td>\n",
              "      <td>38.4644</td>\n",
              "      <td>47.8465</td>\n",
              "    </tr>\n",
              "  </tbody>\n",
              "</table>\n",
              "</div>"
            ],
            "text/plain": [
              "   index  labels        area    perimeter  mahor_axis  minor_axis    eq_diam\n",
              "0    1.0     1.0  12057066.0   54735.7112   4944.8175   3674.3981  3918.1033\n",
              "1    2.0     2.0      2220.0     236.2254  85772.0000     40.4931    53.1657\n",
              "2    3.0     3.0      1478.0     149.7401     58.4509     32.3893    43.3803\n",
              "3    4.0     4.0      1262.0     136.1838  46123.0000     35.7796    40.0853\n",
              "4    5.0     5.0      1798.0  165397.0000     61.1904     38.4644    47.8465"
            ]
          },
          "metadata": {
            "tags": []
          },
          "execution_count": 10
        }
      ]
    },
    {
      "cell_type": "code",
      "metadata": {
        "id": "9F9yVOzGdJH5",
        "colab_type": "code",
        "outputId": "927b6b34-2480-4bf7-f9cb-21b00d49b89c",
        "colab": {
          "base_uri": "https://localhost:8080/",
          "height": 221
        }
      },
      "source": [
        "print(indices)\n",
        "a = dados[155:165]\n",
        "print(a)"
      ],
      "execution_count": 11,
      "outputs": [
        {
          "output_type": "stream",
          "text": [
            "[159, 289, 400]\n",
            "     index  labels        area   perimeter   mahor_axis  minor_axis    eq_diam\n",
            "155  156.0   156.0       961.0    114.9117      36.5504     33.8685    34.9798\n",
            "156  157.0   157.0     12187.0    442.4802     146.5051    110.0996   124.5671\n",
            "157  158.0   158.0      7188.0    348.4508     112.9879     87.1733    95.6663\n",
            "158  159.0   159.0      9047.0    364.9777     118.8642     97.8636   107.3266\n",
            "159  160.0   160.0       724.0     97.6985      30.9445     29.9933    30.3616\n",
            "160  161.0     1.0  12101458.0  52373.5819    4937.4105   3664.0707  3925.3095\n",
            "161  162.0     2.0      8214.0    356.5341  121992.0000  87493.0000   102.2663\n",
            "162  163.0     3.0      1117.0    123.8406      42.1457     33.9897    37.7122\n",
            "163  164.0     4.0      6113.0    316.9949     106.2408     76.1602    88.2231\n",
            "164  165.0     5.0      6946.0    326.7767     103.8294     88.3395    94.0421\n"
          ],
          "name": "stdout"
        }
      ]
    },
    {
      "cell_type": "code",
      "metadata": {
        "id": "AOJTSmPoefce",
        "colab_type": "code",
        "outputId": "5035c853-877f-4f21-dd84-c343fdcaa47c",
        "colab": {
          "base_uri": "https://localhost:8080/",
          "height": 374
        }
      },
      "source": [
        "#set 1\n",
        "set1 = dados[0:160]\n",
        "set1.info()\n",
        "print(set1.tail())\n",
        "indices"
      ],
      "execution_count": 12,
      "outputs": [
        {
          "output_type": "stream",
          "text": [
            "<class 'pandas.core.frame.DataFrame'>\n",
            "RangeIndex: 160 entries, 0 to 159\n",
            "Data columns (total 7 columns):\n",
            " #   Column      Non-Null Count  Dtype  \n",
            "---  ------      --------------  -----  \n",
            " 0   index       160 non-null    float64\n",
            " 1   labels      160 non-null    float64\n",
            " 2   area        160 non-null    float64\n",
            " 3   perimeter   160 non-null    float64\n",
            " 4   mahor_axis  160 non-null    float64\n",
            " 5   minor_axis  160 non-null    float64\n",
            " 6   eq_diam     160 non-null    float64\n",
            "dtypes: float64(7)\n",
            "memory usage: 8.9 KB\n",
            "     index  labels     area  perimeter  mahor_axis  minor_axis   eq_diam\n",
            "155  156.0   156.0    961.0   114.9117     36.5504     33.8685   34.9798\n",
            "156  157.0   157.0  12187.0   442.4802    146.5051    110.0996  124.5671\n",
            "157  158.0   158.0   7188.0   348.4508    112.9879     87.1733   95.6663\n",
            "158  159.0   159.0   9047.0   364.9777    118.8642     97.8636  107.3266\n",
            "159  160.0   160.0    724.0    97.6985     30.9445     29.9933   30.3616\n"
          ],
          "name": "stdout"
        },
        {
          "output_type": "execute_result",
          "data": {
            "text/plain": [
              "[159, 289, 400]"
            ]
          },
          "metadata": {
            "tags": []
          },
          "execution_count": 12
        }
      ]
    },
    {
      "cell_type": "code",
      "metadata": {
        "id": "djNvUdv1e8WW",
        "colab_type": "code",
        "outputId": "6cd19ef3-9e03-43c7-f9ca-c0efa34ebd0b",
        "colab": {
          "base_uri": "https://localhost:8080/",
          "height": 221
        }
      },
      "source": [
        "# set 2\n",
        "set2 = dados[160:290]\n",
        "print(set2.head())\n",
        "print(set2.tail())"
      ],
      "execution_count": 13,
      "outputs": [
        {
          "output_type": "stream",
          "text": [
            "     index  labels        area   perimeter   mahor_axis  minor_axis    eq_diam\n",
            "160  161.0     1.0  12101458.0  52373.5819    4937.4105   3664.0707  3925.3095\n",
            "161  162.0     2.0      8214.0    356.5341  121992.0000  87493.0000   102.2663\n",
            "162  163.0     3.0      1117.0    123.8406      42.1457     33.9897    37.7122\n",
            "163  164.0     4.0      6113.0    316.9949     106.2408     76.1602    88.2231\n",
            "164  165.0     5.0      6946.0    326.7767     103.8294     88.3395    94.0421\n",
            "     index  labels    area  perimeter  mahor_axis  minor_axis  eq_diam\n",
            "285  286.0   126.0  7110.0   325.5807    104.6789  88106.0000  95.1459\n",
            "286  287.0   127.0  3992.0   239.9239     79.1304     65.1565  71.2936\n",
            "287  288.0   128.0  6527.0   322.6518    119.6579     70.8185  91.1616\n",
            "288  289.0   129.0  4099.0   268.3087    106.8700     49.4777  72.2427\n",
            "289  290.0   130.0  2123.0   172.5685     56.5778     48.4279  51.9912\n"
          ],
          "name": "stdout"
        }
      ]
    },
    {
      "cell_type": "code",
      "metadata": {
        "id": "DxJ17_2ce9tO",
        "colab_type": "code",
        "outputId": "5daec1aa-2c13-48bb-fd6e-490d40639f30",
        "colab": {
          "base_uri": "https://localhost:8080/",
          "height": 221
        }
      },
      "source": [
        "# set 3\n",
        "set3 = dados[290:401]\n",
        "print(set3.head())\n",
        "print(set3.tail())"
      ],
      "execution_count": 14,
      "outputs": [
        {
          "output_type": "stream",
          "text": [
            "     index  labels        area   perimeter  mahor_axis  minor_axis    eq_diam\n",
            "290  291.0     1.0  12593886.0  38337.2168   4841.8101   3618.3534  4004.3768\n",
            "291  292.0     2.0      5036.0    273.3381     90.7319     72.2064    80.0752\n",
            "292  293.0     3.0      4610.0    269.8234     88.4072     70.4343    76.6135\n",
            "293  294.0     4.0      2999.0    213.7817     76.6389     50.6661    61.7936\n",
            "294  295.0     5.0      3328.0    217.4386     71.1161     60.2051    65.0949\n",
            "     index  labels    area  perimeter   mahor_axis  minor_axis     eq_diam\n",
            "396  397.0   107.0  6726.0   317.0366  100556.0000     87.1708     92.5409\n",
            "397  398.0   108.0  3776.0   233.5391      77.0501     63.1768  69338.0000\n",
            "398  399.0   109.0  4334.0   249.4802      78.5346  71858.0000     74.2847\n",
            "399  400.0   110.0  3381.0   214.8528      69.2264     62.5623     65.6111\n",
            "400  401.0   111.0  2039.0   169.9828      60.7518     43.1365     50.9523\n"
          ],
          "name": "stdout"
        }
      ]
    },
    {
      "cell_type": "code",
      "metadata": {
        "id": "GGoxcBTSe_P2",
        "colab_type": "code",
        "outputId": "bd12295d-71ea-4de6-de56-9141d052ce14",
        "colab": {
          "base_uri": "https://localhost:8080/",
          "height": 221
        }
      },
      "source": [
        "# set 4\n",
        "set4 = dados[401:]\n",
        "print(set4.head())\n",
        "print(set4.tail())"
      ],
      "execution_count": 15,
      "outputs": [
        {
          "output_type": "stream",
          "text": [
            "     index  labels        area   perimeter  mahor_axis  minor_axis    eq_diam\n",
            "401  402.0     1.0  11460329.0  76199.0448   4956.5154   3670.7924  3819.9141\n",
            "402  403.0     2.0     15482.0    513.0732    182.1263    111.3236   140.4005\n",
            "403  404.0     3.0      4658.0    353.4985    130.7856  51967.0000    77.0114\n",
            "404  405.0     4.0     25041.0    608.4823    192.4511    167.6345   178.5586\n",
            "405  406.0     5.0     10345.0    417.5635    136.0905    100.1326   114.7679\n",
            "     index  labels     area  perimeter  mahor_axis  minor_axis      eq_diam\n",
            "531  532.0   131.0     98.0    67.0355     37.3668   3484.0000      11.1704\n",
            "532  533.0   132.0  18644.0   569.2864    197.0423    124.5895     154.0723\n",
            "533  534.0   133.0   5263.0   278.3503     86.8234     78.5987      81.8600\n",
            "534  535.0   134.0  12824.0   457.5879    149.3101    113.1761     127.7812\n",
            "535  536.0   135.0  12747.0   437.4457    143.5693    114.7397  127397.0000\n"
          ],
          "name": "stdout"
        }
      ]
    },
    {
      "cell_type": "markdown",
      "metadata": {
        "id": "u-cEXMIUBh6N",
        "colab_type": "text"
      },
      "source": [
        "## save the treated dataframe"
      ]
    },
    {
      "cell_type": "code",
      "metadata": {
        "id": "wP2gsMj3AksF",
        "colab_type": "code",
        "outputId": "043e5a87-aaea-4b74-eb81-d774d2a665e3",
        "colab": {
          "base_uri": "https://localhost:8080/",
          "height": 359
        }
      },
      "source": [
        "#save the pre treated file\n",
        "dados.to_csv('exercise_36_v1.csv', index=False)\n",
        "dados.head(10)"
      ],
      "execution_count": 0,
      "outputs": [
        {
          "output_type": "execute_result",
          "data": {
            "text/html": [
              "<div>\n",
              "<style scoped>\n",
              "    .dataframe tbody tr th:only-of-type {\n",
              "        vertical-align: middle;\n",
              "    }\n",
              "\n",
              "    .dataframe tbody tr th {\n",
              "        vertical-align: top;\n",
              "    }\n",
              "\n",
              "    .dataframe thead th {\n",
              "        text-align: right;\n",
              "    }\n",
              "</style>\n",
              "<table border=\"1\" class=\"dataframe\">\n",
              "  <thead>\n",
              "    <tr style=\"text-align: right;\">\n",
              "      <th></th>\n",
              "      <th>index</th>\n",
              "      <th>labels</th>\n",
              "      <th>area</th>\n",
              "      <th>perimeter</th>\n",
              "      <th>mahor_axis</th>\n",
              "      <th>minor_axis</th>\n",
              "      <th>eq_diam</th>\n",
              "    </tr>\n",
              "  </thead>\n",
              "  <tbody>\n",
              "    <tr>\n",
              "      <th>0</th>\n",
              "      <td>1.0</td>\n",
              "      <td>1.0</td>\n",
              "      <td>12057066.0</td>\n",
              "      <td>54735.7112</td>\n",
              "      <td>4944.8175</td>\n",
              "      <td>3674.3981</td>\n",
              "      <td>3918.1033</td>\n",
              "    </tr>\n",
              "    <tr>\n",
              "      <th>1</th>\n",
              "      <td>2.0</td>\n",
              "      <td>2.0</td>\n",
              "      <td>2220.0</td>\n",
              "      <td>236.2254</td>\n",
              "      <td>85772.0000</td>\n",
              "      <td>40.4931</td>\n",
              "      <td>53.1657</td>\n",
              "    </tr>\n",
              "    <tr>\n",
              "      <th>2</th>\n",
              "      <td>3.0</td>\n",
              "      <td>3.0</td>\n",
              "      <td>1478.0</td>\n",
              "      <td>149.7401</td>\n",
              "      <td>58.4509</td>\n",
              "      <td>32.3893</td>\n",
              "      <td>43.3803</td>\n",
              "    </tr>\n",
              "    <tr>\n",
              "      <th>3</th>\n",
              "      <td>4.0</td>\n",
              "      <td>4.0</td>\n",
              "      <td>1262.0</td>\n",
              "      <td>136.1838</td>\n",
              "      <td>46123.0000</td>\n",
              "      <td>35.7796</td>\n",
              "      <td>40.0853</td>\n",
              "    </tr>\n",
              "    <tr>\n",
              "      <th>4</th>\n",
              "      <td>5.0</td>\n",
              "      <td>5.0</td>\n",
              "      <td>1798.0</td>\n",
              "      <td>165397.0000</td>\n",
              "      <td>61.1904</td>\n",
              "      <td>38.4644</td>\n",
              "      <td>47.8465</td>\n",
              "    </tr>\n",
              "    <tr>\n",
              "      <th>5</th>\n",
              "      <td>6.0</td>\n",
              "      <td>6.0</td>\n",
              "      <td>995.0</td>\n",
              "      <td>117.9411</td>\n",
              "      <td>43.0737</td>\n",
              "      <td>29.6965</td>\n",
              "      <td>35.5932</td>\n",
              "    </tr>\n",
              "    <tr>\n",
              "      <th>6</th>\n",
              "      <td>7.0</td>\n",
              "      <td>7.0</td>\n",
              "      <td>12768.0</td>\n",
              "      <td>479.8305</td>\n",
              "      <td>163786.0000</td>\n",
              "      <td>104.6226</td>\n",
              "      <td>127.5019</td>\n",
              "    </tr>\n",
              "    <tr>\n",
              "      <th>7</th>\n",
              "      <td>8.0</td>\n",
              "      <td>8.0</td>\n",
              "      <td>6722.0</td>\n",
              "      <td>310.7351</td>\n",
              "      <td>101.5184</td>\n",
              "      <td>86.0766</td>\n",
              "      <td>92.5133</td>\n",
              "    </tr>\n",
              "    <tr>\n",
              "      <th>8</th>\n",
              "      <td>9.0</td>\n",
              "      <td>9.0</td>\n",
              "      <td>6694.0</td>\n",
              "      <td>322.5757</td>\n",
              "      <td>105.7522</td>\n",
              "      <td>83.2152</td>\n",
              "      <td>92.3205</td>\n",
              "    </tr>\n",
              "    <tr>\n",
              "      <th>9</th>\n",
              "      <td>10.0</td>\n",
              "      <td>10.0</td>\n",
              "      <td>6076.0</td>\n",
              "      <td>306066.0000</td>\n",
              "      <td>93.1224</td>\n",
              "      <td>86.1361</td>\n",
              "      <td>87.9557</td>\n",
              "    </tr>\n",
              "  </tbody>\n",
              "</table>\n",
              "</div>"
            ],
            "text/plain": [
              "   index  labels        area    perimeter   mahor_axis  minor_axis    eq_diam\n",
              "0    1.0     1.0  12057066.0   54735.7112    4944.8175   3674.3981  3918.1033\n",
              "1    2.0     2.0      2220.0     236.2254   85772.0000     40.4931    53.1657\n",
              "2    3.0     3.0      1478.0     149.7401      58.4509     32.3893    43.3803\n",
              "3    4.0     4.0      1262.0     136.1838   46123.0000     35.7796    40.0853\n",
              "4    5.0     5.0      1798.0  165397.0000      61.1904     38.4644    47.8465\n",
              "5    6.0     6.0       995.0     117.9411      43.0737     29.6965    35.5932\n",
              "6    7.0     7.0     12768.0     479.8305  163786.0000    104.6226   127.5019\n",
              "7    8.0     8.0      6722.0     310.7351     101.5184     86.0766    92.5133\n",
              "8    9.0     9.0      6694.0     322.5757     105.7522     83.2152    92.3205\n",
              "9   10.0    10.0      6076.0  306066.0000      93.1224     86.1361    87.9557"
            ]
          },
          "metadata": {
            "tags": []
          },
          "execution_count": 26
        }
      ]
    },
    {
      "cell_type": "markdown",
      "metadata": {
        "id": "wJ-FvjUq4DTi",
        "colab_type": "text"
      },
      "source": [
        "## cria uma nova coluna, set_"
      ]
    },
    {
      "cell_type": "markdown",
      "metadata": {
        "id": "MD0FKyln4OgJ",
        "colab_type": "text"
      },
      "source": [
        "essa nova coluna é para poder trabalhar com o objetos groupby\n"
      ]
    },
    {
      "cell_type": "code",
      "metadata": {
        "id": "nbgBSYilTgYP",
        "colab_type": "code",
        "outputId": "c696f44f-84f8-447b-b6cd-4d6d03043221",
        "colab": {
          "base_uri": "https://localhost:8080/",
          "height": 204
        }
      },
      "source": [
        "dados['set_'] = 'set_'\n",
        "dados.head()"
      ],
      "execution_count": 16,
      "outputs": [
        {
          "output_type": "execute_result",
          "data": {
            "text/html": [
              "<div>\n",
              "<style scoped>\n",
              "    .dataframe tbody tr th:only-of-type {\n",
              "        vertical-align: middle;\n",
              "    }\n",
              "\n",
              "    .dataframe tbody tr th {\n",
              "        vertical-align: top;\n",
              "    }\n",
              "\n",
              "    .dataframe thead th {\n",
              "        text-align: right;\n",
              "    }\n",
              "</style>\n",
              "<table border=\"1\" class=\"dataframe\">\n",
              "  <thead>\n",
              "    <tr style=\"text-align: right;\">\n",
              "      <th></th>\n",
              "      <th>index</th>\n",
              "      <th>labels</th>\n",
              "      <th>area</th>\n",
              "      <th>perimeter</th>\n",
              "      <th>mahor_axis</th>\n",
              "      <th>minor_axis</th>\n",
              "      <th>eq_diam</th>\n",
              "      <th>set_</th>\n",
              "    </tr>\n",
              "  </thead>\n",
              "  <tbody>\n",
              "    <tr>\n",
              "      <th>0</th>\n",
              "      <td>1.0</td>\n",
              "      <td>1.0</td>\n",
              "      <td>12057066.0</td>\n",
              "      <td>54735.7112</td>\n",
              "      <td>4944.8175</td>\n",
              "      <td>3674.3981</td>\n",
              "      <td>3918.1033</td>\n",
              "      <td>set_</td>\n",
              "    </tr>\n",
              "    <tr>\n",
              "      <th>1</th>\n",
              "      <td>2.0</td>\n",
              "      <td>2.0</td>\n",
              "      <td>2220.0</td>\n",
              "      <td>236.2254</td>\n",
              "      <td>85772.0000</td>\n",
              "      <td>40.4931</td>\n",
              "      <td>53.1657</td>\n",
              "      <td>set_</td>\n",
              "    </tr>\n",
              "    <tr>\n",
              "      <th>2</th>\n",
              "      <td>3.0</td>\n",
              "      <td>3.0</td>\n",
              "      <td>1478.0</td>\n",
              "      <td>149.7401</td>\n",
              "      <td>58.4509</td>\n",
              "      <td>32.3893</td>\n",
              "      <td>43.3803</td>\n",
              "      <td>set_</td>\n",
              "    </tr>\n",
              "    <tr>\n",
              "      <th>3</th>\n",
              "      <td>4.0</td>\n",
              "      <td>4.0</td>\n",
              "      <td>1262.0</td>\n",
              "      <td>136.1838</td>\n",
              "      <td>46123.0000</td>\n",
              "      <td>35.7796</td>\n",
              "      <td>40.0853</td>\n",
              "      <td>set_</td>\n",
              "    </tr>\n",
              "    <tr>\n",
              "      <th>4</th>\n",
              "      <td>5.0</td>\n",
              "      <td>5.0</td>\n",
              "      <td>1798.0</td>\n",
              "      <td>165397.0000</td>\n",
              "      <td>61.1904</td>\n",
              "      <td>38.4644</td>\n",
              "      <td>47.8465</td>\n",
              "      <td>set_</td>\n",
              "    </tr>\n",
              "  </tbody>\n",
              "</table>\n",
              "</div>"
            ],
            "text/plain": [
              "   index  labels        area  ...  minor_axis    eq_diam  set_\n",
              "0    1.0     1.0  12057066.0  ...   3674.3981  3918.1033  set_\n",
              "1    2.0     2.0      2220.0  ...     40.4931    53.1657  set_\n",
              "2    3.0     3.0      1478.0  ...     32.3893    43.3803  set_\n",
              "3    4.0     4.0      1262.0  ...     35.7796    40.0853  set_\n",
              "4    5.0     5.0      1798.0  ...     38.4644    47.8465  set_\n",
              "\n",
              "[5 rows x 8 columns]"
            ]
          },
          "metadata": {
            "tags": []
          },
          "execution_count": 16
        }
      ]
    },
    {
      "cell_type": "markdown",
      "metadata": {
        "id": "DK7UZko25GxU",
        "colab_type": "text"
      },
      "source": [
        "preenche a coluna set_ com a origem da image"
      ]
    },
    {
      "cell_type": "code",
      "metadata": {
        "id": "jgOba5ZQT0KU",
        "colab_type": "code",
        "outputId": "9bf2a986-445a-41cb-bf8e-b39e81a72569",
        "colab": {
          "base_uri": "https://localhost:8080/",
          "height": 734
        }
      },
      "source": [
        "j = 1\n",
        "for i in range(dados.shape[0]):\n",
        "    if (int(dados.labels[i]) < int(dados.labels[i+1])):\n",
        "        string = 'set_'+str(j)\n",
        "        dados.set_[i] = string\n",
        "    else: #não haviam essas instruções, eu as adicionei para que o problema causado pelo condicional acima fosse contornado quando aquilo não fosse verdade \n",
        "        string = 'set_'+str(j)\n",
        "        dados.set_[i] = string\n",
        "        j += 1\n",
        "    \n",
        "        "
      ],
      "execution_count": 17,
      "outputs": [
        {
          "output_type": "stream",
          "text": [
            "/usr/local/lib/python3.6/dist-packages/ipykernel_launcher.py:5: SettingWithCopyWarning: \n",
            "A value is trying to be set on a copy of a slice from a DataFrame\n",
            "\n",
            "See the caveats in the documentation: https://pandas.pydata.org/pandas-docs/stable/user_guide/indexing.html#returning-a-view-versus-a-copy\n",
            "  \"\"\"\n",
            "/usr/local/lib/python3.6/dist-packages/ipykernel_launcher.py:8: SettingWithCopyWarning: \n",
            "A value is trying to be set on a copy of a slice from a DataFrame\n",
            "\n",
            "See the caveats in the documentation: https://pandas.pydata.org/pandas-docs/stable/user_guide/indexing.html#returning-a-view-versus-a-copy\n",
            "  \n"
          ],
          "name": "stderr"
        },
        {
          "output_type": "error",
          "ename": "KeyError",
          "evalue": "ignored",
          "traceback": [
            "\u001b[0;31m---------------------------------------------------------------------------\u001b[0m",
            "\u001b[0;31mKeyError\u001b[0m                                  Traceback (most recent call last)",
            "\u001b[0;32m<ipython-input-17-05a7f3097a12>\u001b[0m in \u001b[0;36m<module>\u001b[0;34m()\u001b[0m\n\u001b[1;32m      1\u001b[0m \u001b[0mj\u001b[0m \u001b[0;34m=\u001b[0m \u001b[0;36m1\u001b[0m\u001b[0;34m\u001b[0m\u001b[0;34m\u001b[0m\u001b[0m\n\u001b[1;32m      2\u001b[0m \u001b[0;32mfor\u001b[0m \u001b[0mi\u001b[0m \u001b[0;32min\u001b[0m \u001b[0mrange\u001b[0m\u001b[0;34m(\u001b[0m\u001b[0mdados\u001b[0m\u001b[0;34m.\u001b[0m\u001b[0mshape\u001b[0m\u001b[0;34m[\u001b[0m\u001b[0;36m0\u001b[0m\u001b[0;34m]\u001b[0m\u001b[0;34m)\u001b[0m\u001b[0;34m:\u001b[0m\u001b[0;34m\u001b[0m\u001b[0;34m\u001b[0m\u001b[0m\n\u001b[0;32m----> 3\u001b[0;31m     \u001b[0;32mif\u001b[0m \u001b[0;34m(\u001b[0m\u001b[0mint\u001b[0m\u001b[0;34m(\u001b[0m\u001b[0mdados\u001b[0m\u001b[0;34m.\u001b[0m\u001b[0mlabels\u001b[0m\u001b[0;34m[\u001b[0m\u001b[0mi\u001b[0m\u001b[0;34m]\u001b[0m\u001b[0;34m)\u001b[0m \u001b[0;34m<\u001b[0m \u001b[0mint\u001b[0m\u001b[0;34m(\u001b[0m\u001b[0mdados\u001b[0m\u001b[0;34m.\u001b[0m\u001b[0mlabels\u001b[0m\u001b[0;34m[\u001b[0m\u001b[0mi\u001b[0m\u001b[0;34m+\u001b[0m\u001b[0;36m1\u001b[0m\u001b[0;34m]\u001b[0m\u001b[0;34m)\u001b[0m\u001b[0;34m)\u001b[0m\u001b[0;34m:\u001b[0m\u001b[0;34m\u001b[0m\u001b[0;34m\u001b[0m\u001b[0m\n\u001b[0m\u001b[1;32m      4\u001b[0m         \u001b[0mstring\u001b[0m \u001b[0;34m=\u001b[0m \u001b[0;34m'set_'\u001b[0m\u001b[0;34m+\u001b[0m\u001b[0mstr\u001b[0m\u001b[0;34m(\u001b[0m\u001b[0mj\u001b[0m\u001b[0;34m)\u001b[0m\u001b[0;34m\u001b[0m\u001b[0;34m\u001b[0m\u001b[0m\n\u001b[1;32m      5\u001b[0m         \u001b[0mdados\u001b[0m\u001b[0;34m.\u001b[0m\u001b[0mset_\u001b[0m\u001b[0;34m[\u001b[0m\u001b[0mi\u001b[0m\u001b[0;34m]\u001b[0m \u001b[0;34m=\u001b[0m \u001b[0mstring\u001b[0m\u001b[0;34m\u001b[0m\u001b[0;34m\u001b[0m\u001b[0m\n",
            "\u001b[0;32m/usr/local/lib/python3.6/dist-packages/pandas/core/series.py\u001b[0m in \u001b[0;36m__getitem__\u001b[0;34m(self, key)\u001b[0m\n\u001b[1;32m    869\u001b[0m         \u001b[0mkey\u001b[0m \u001b[0;34m=\u001b[0m \u001b[0mcom\u001b[0m\u001b[0;34m.\u001b[0m\u001b[0mapply_if_callable\u001b[0m\u001b[0;34m(\u001b[0m\u001b[0mkey\u001b[0m\u001b[0;34m,\u001b[0m \u001b[0mself\u001b[0m\u001b[0;34m)\u001b[0m\u001b[0;34m\u001b[0m\u001b[0;34m\u001b[0m\u001b[0m\n\u001b[1;32m    870\u001b[0m         \u001b[0;32mtry\u001b[0m\u001b[0;34m:\u001b[0m\u001b[0;34m\u001b[0m\u001b[0;34m\u001b[0m\u001b[0m\n\u001b[0;32m--> 871\u001b[0;31m             \u001b[0mresult\u001b[0m \u001b[0;34m=\u001b[0m \u001b[0mself\u001b[0m\u001b[0;34m.\u001b[0m\u001b[0mindex\u001b[0m\u001b[0;34m.\u001b[0m\u001b[0mget_value\u001b[0m\u001b[0;34m(\u001b[0m\u001b[0mself\u001b[0m\u001b[0;34m,\u001b[0m \u001b[0mkey\u001b[0m\u001b[0;34m)\u001b[0m\u001b[0;34m\u001b[0m\u001b[0;34m\u001b[0m\u001b[0m\n\u001b[0m\u001b[1;32m    872\u001b[0m \u001b[0;34m\u001b[0m\u001b[0m\n\u001b[1;32m    873\u001b[0m             \u001b[0;32mif\u001b[0m \u001b[0;32mnot\u001b[0m \u001b[0mis_scalar\u001b[0m\u001b[0;34m(\u001b[0m\u001b[0mresult\u001b[0m\u001b[0;34m)\u001b[0m\u001b[0;34m:\u001b[0m\u001b[0;34m\u001b[0m\u001b[0;34m\u001b[0m\u001b[0m\n",
            "\u001b[0;32m/usr/local/lib/python3.6/dist-packages/pandas/core/indexes/base.py\u001b[0m in \u001b[0;36mget_value\u001b[0;34m(self, series, key)\u001b[0m\n\u001b[1;32m   4403\u001b[0m         \u001b[0mk\u001b[0m \u001b[0;34m=\u001b[0m \u001b[0mself\u001b[0m\u001b[0;34m.\u001b[0m\u001b[0m_convert_scalar_indexer\u001b[0m\u001b[0;34m(\u001b[0m\u001b[0mk\u001b[0m\u001b[0;34m,\u001b[0m \u001b[0mkind\u001b[0m\u001b[0;34m=\u001b[0m\u001b[0;34m\"getitem\"\u001b[0m\u001b[0;34m)\u001b[0m\u001b[0;34m\u001b[0m\u001b[0;34m\u001b[0m\u001b[0m\n\u001b[1;32m   4404\u001b[0m         \u001b[0;32mtry\u001b[0m\u001b[0;34m:\u001b[0m\u001b[0;34m\u001b[0m\u001b[0;34m\u001b[0m\u001b[0m\n\u001b[0;32m-> 4405\u001b[0;31m             \u001b[0;32mreturn\u001b[0m \u001b[0mself\u001b[0m\u001b[0;34m.\u001b[0m\u001b[0m_engine\u001b[0m\u001b[0;34m.\u001b[0m\u001b[0mget_value\u001b[0m\u001b[0;34m(\u001b[0m\u001b[0ms\u001b[0m\u001b[0;34m,\u001b[0m \u001b[0mk\u001b[0m\u001b[0;34m,\u001b[0m \u001b[0mtz\u001b[0m\u001b[0;34m=\u001b[0m\u001b[0mgetattr\u001b[0m\u001b[0;34m(\u001b[0m\u001b[0mseries\u001b[0m\u001b[0;34m.\u001b[0m\u001b[0mdtype\u001b[0m\u001b[0;34m,\u001b[0m \u001b[0;34m\"tz\"\u001b[0m\u001b[0;34m,\u001b[0m \u001b[0;32mNone\u001b[0m\u001b[0;34m)\u001b[0m\u001b[0;34m)\u001b[0m\u001b[0;34m\u001b[0m\u001b[0;34m\u001b[0m\u001b[0m\n\u001b[0m\u001b[1;32m   4406\u001b[0m         \u001b[0;32mexcept\u001b[0m \u001b[0mKeyError\u001b[0m \u001b[0;32mas\u001b[0m \u001b[0me1\u001b[0m\u001b[0;34m:\u001b[0m\u001b[0;34m\u001b[0m\u001b[0;34m\u001b[0m\u001b[0m\n\u001b[1;32m   4407\u001b[0m             \u001b[0;32mif\u001b[0m \u001b[0mlen\u001b[0m\u001b[0;34m(\u001b[0m\u001b[0mself\u001b[0m\u001b[0;34m)\u001b[0m \u001b[0;34m>\u001b[0m \u001b[0;36m0\u001b[0m \u001b[0;32mand\u001b[0m \u001b[0;34m(\u001b[0m\u001b[0mself\u001b[0m\u001b[0;34m.\u001b[0m\u001b[0mholds_integer\u001b[0m\u001b[0;34m(\u001b[0m\u001b[0;34m)\u001b[0m \u001b[0;32mor\u001b[0m \u001b[0mself\u001b[0m\u001b[0;34m.\u001b[0m\u001b[0mis_boolean\u001b[0m\u001b[0;34m(\u001b[0m\u001b[0;34m)\u001b[0m\u001b[0;34m)\u001b[0m\u001b[0;34m:\u001b[0m\u001b[0;34m\u001b[0m\u001b[0;34m\u001b[0m\u001b[0m\n",
            "\u001b[0;32mpandas/_libs/index.pyx\u001b[0m in \u001b[0;36mpandas._libs.index.IndexEngine.get_value\u001b[0;34m()\u001b[0m\n",
            "\u001b[0;32mpandas/_libs/index.pyx\u001b[0m in \u001b[0;36mpandas._libs.index.IndexEngine.get_value\u001b[0;34m()\u001b[0m\n",
            "\u001b[0;32mpandas/_libs/index.pyx\u001b[0m in \u001b[0;36mpandas._libs.index.IndexEngine.get_loc\u001b[0;34m()\u001b[0m\n",
            "\u001b[0;32mpandas/_libs/hashtable_class_helper.pxi\u001b[0m in \u001b[0;36mpandas._libs.hashtable.Int64HashTable.get_item\u001b[0;34m()\u001b[0m\n",
            "\u001b[0;32mpandas/_libs/hashtable_class_helper.pxi\u001b[0m in \u001b[0;36mpandas._libs.hashtable.Int64HashTable.get_item\u001b[0;34m()\u001b[0m\n",
            "\u001b[0;31mKeyError\u001b[0m: 536"
          ]
        }
      ]
    },
    {
      "cell_type": "markdown",
      "metadata": {
        "id": "eEZbr4q95K78",
        "colab_type": "text"
      },
      "source": [
        "verifica se o passo anterior funcionou"
      ]
    },
    {
      "cell_type": "code",
      "metadata": {
        "id": "vNUg2DvSVD7u",
        "colab_type": "code",
        "outputId": "ff1841aa-dbd9-40cd-c1c0-ee9d084e084e",
        "colab": {
          "base_uri": "https://localhost:8080/",
          "height": 119
        }
      },
      "source": [
        "dados.set_.value_counts()"
      ],
      "execution_count": 18,
      "outputs": [
        {
          "output_type": "execute_result",
          "data": {
            "text/plain": [
              "set_1    160\n",
              "set_4    134\n",
              "set_2    130\n",
              "set_3    111\n",
              "set_       1\n",
              "Name: set_, dtype: int64"
            ]
          },
          "metadata": {
            "tags": []
          },
          "execution_count": 18
        }
      ]
    },
    {
      "cell_type": "markdown",
      "metadata": {
        "id": "RkMFTmGV5Pby",
        "colab_type": "text"
      },
      "source": [
        "busca o erro, que deve estar na últia casa"
      ]
    },
    {
      "cell_type": "code",
      "metadata": {
        "id": "pQWLB3j-lJqw",
        "colab_type": "code",
        "outputId": "5b8fdbcd-9731-4ece-bbf5-9d10d638ab5a",
        "colab": {
          "base_uri": "https://localhost:8080/",
          "height": 204
        }
      },
      "source": [
        "dados.tail()"
      ],
      "execution_count": 19,
      "outputs": [
        {
          "output_type": "execute_result",
          "data": {
            "text/html": [
              "<div>\n",
              "<style scoped>\n",
              "    .dataframe tbody tr th:only-of-type {\n",
              "        vertical-align: middle;\n",
              "    }\n",
              "\n",
              "    .dataframe tbody tr th {\n",
              "        vertical-align: top;\n",
              "    }\n",
              "\n",
              "    .dataframe thead th {\n",
              "        text-align: right;\n",
              "    }\n",
              "</style>\n",
              "<table border=\"1\" class=\"dataframe\">\n",
              "  <thead>\n",
              "    <tr style=\"text-align: right;\">\n",
              "      <th></th>\n",
              "      <th>index</th>\n",
              "      <th>labels</th>\n",
              "      <th>area</th>\n",
              "      <th>perimeter</th>\n",
              "      <th>mahor_axis</th>\n",
              "      <th>minor_axis</th>\n",
              "      <th>eq_diam</th>\n",
              "      <th>set_</th>\n",
              "    </tr>\n",
              "  </thead>\n",
              "  <tbody>\n",
              "    <tr>\n",
              "      <th>531</th>\n",
              "      <td>532.0</td>\n",
              "      <td>131.0</td>\n",
              "      <td>98.0</td>\n",
              "      <td>67.0355</td>\n",
              "      <td>37.3668</td>\n",
              "      <td>3484.0000</td>\n",
              "      <td>11.1704</td>\n",
              "      <td>set_4</td>\n",
              "    </tr>\n",
              "    <tr>\n",
              "      <th>532</th>\n",
              "      <td>533.0</td>\n",
              "      <td>132.0</td>\n",
              "      <td>18644.0</td>\n",
              "      <td>569.2864</td>\n",
              "      <td>197.0423</td>\n",
              "      <td>124.5895</td>\n",
              "      <td>154.0723</td>\n",
              "      <td>set_4</td>\n",
              "    </tr>\n",
              "    <tr>\n",
              "      <th>533</th>\n",
              "      <td>534.0</td>\n",
              "      <td>133.0</td>\n",
              "      <td>5263.0</td>\n",
              "      <td>278.3503</td>\n",
              "      <td>86.8234</td>\n",
              "      <td>78.5987</td>\n",
              "      <td>81.8600</td>\n",
              "      <td>set_4</td>\n",
              "    </tr>\n",
              "    <tr>\n",
              "      <th>534</th>\n",
              "      <td>535.0</td>\n",
              "      <td>134.0</td>\n",
              "      <td>12824.0</td>\n",
              "      <td>457.5879</td>\n",
              "      <td>149.3101</td>\n",
              "      <td>113.1761</td>\n",
              "      <td>127.7812</td>\n",
              "      <td>set_4</td>\n",
              "    </tr>\n",
              "    <tr>\n",
              "      <th>535</th>\n",
              "      <td>536.0</td>\n",
              "      <td>135.0</td>\n",
              "      <td>12747.0</td>\n",
              "      <td>437.4457</td>\n",
              "      <td>143.5693</td>\n",
              "      <td>114.7397</td>\n",
              "      <td>127397.0000</td>\n",
              "      <td>set_</td>\n",
              "    </tr>\n",
              "  </tbody>\n",
              "</table>\n",
              "</div>"
            ],
            "text/plain": [
              "     index  labels     area  ...  minor_axis      eq_diam   set_\n",
              "531  532.0   131.0     98.0  ...   3484.0000      11.1704  set_4\n",
              "532  533.0   132.0  18644.0  ...    124.5895     154.0723  set_4\n",
              "533  534.0   133.0   5263.0  ...     78.5987      81.8600  set_4\n",
              "534  535.0   134.0  12824.0  ...    113.1761     127.7812  set_4\n",
              "535  536.0   135.0  12747.0  ...    114.7397  127397.0000   set_\n",
              "\n",
              "[5 rows x 8 columns]"
            ]
          },
          "metadata": {
            "tags": []
          },
          "execution_count": 19
        }
      ]
    },
    {
      "cell_type": "markdown",
      "metadata": {
        "id": "r5qgKRgN5TtS",
        "colab_type": "text"
      },
      "source": [
        "corrige a última casa"
      ]
    },
    {
      "cell_type": "code",
      "metadata": {
        "id": "nQWWOTcOmdxP",
        "colab_type": "code",
        "outputId": "6f4350bd-c3a2-4984-a61e-567fccfb5a1e",
        "colab": {
          "base_uri": "https://localhost:8080/",
          "height": 139
        }
      },
      "source": [
        "dados.set_[535] = 'set_4'\n",
        "dados.set_.unique()"
      ],
      "execution_count": 20,
      "outputs": [
        {
          "output_type": "stream",
          "text": [
            "/usr/local/lib/python3.6/dist-packages/ipykernel_launcher.py:1: SettingWithCopyWarning: \n",
            "A value is trying to be set on a copy of a slice from a DataFrame\n",
            "\n",
            "See the caveats in the documentation: https://pandas.pydata.org/pandas-docs/stable/user_guide/indexing.html#returning-a-view-versus-a-copy\n",
            "  \"\"\"Entry point for launching an IPython kernel.\n"
          ],
          "name": "stderr"
        },
        {
          "output_type": "execute_result",
          "data": {
            "text/plain": [
              "array(['set_1', 'set_2', 'set_3', 'set_4'], dtype=object)"
            ]
          },
          "metadata": {
            "tags": []
          },
          "execution_count": 20
        }
      ]
    },
    {
      "cell_type": "markdown",
      "metadata": {
        "id": "MNIhhV58uyLb",
        "colab_type": "text"
      },
      "source": [
        "## salva o df atualizado e preparado para o processamento"
      ]
    },
    {
      "cell_type": "code",
      "metadata": {
        "id": "qc38HyyTu4iY",
        "colab_type": "code",
        "colab": {}
      },
      "source": [
        "dados.to_csv('exercicio_36_v1.csv', index = False)"
      ],
      "execution_count": 0,
      "outputs": []
    },
    {
      "cell_type": "markdown",
      "metadata": {
        "id": "YVJDosxD5_Ri",
        "colab_type": "text"
      },
      "source": [
        "agrupa as fotos"
      ]
    },
    {
      "cell_type": "code",
      "metadata": {
        "id": "bIgQeGDef3RS",
        "colab_type": "code",
        "outputId": "9a86822d-d641-4043-90ad-b9ace0d36ed7",
        "colab": {
          "base_uri": "https://localhost:8080/",
          "height": 289
        }
      },
      "source": [
        "grupos = dados.groupby('set_')\n",
        "grupos.groups"
      ],
      "execution_count": 0,
      "outputs": [
        {
          "output_type": "execute_result",
          "data": {
            "text/plain": [
              "{'set_1': Int64Index([  0,   1,   2,   3,   4,   5,   6,   7,   8,   9,\n",
              "             ...\n",
              "             150, 151, 152, 153, 154, 155, 156, 157, 158, 159],\n",
              "            dtype='int64', length=160),\n",
              " 'set_2': Int64Index([160, 161, 162, 163, 164, 165, 166, 167, 168, 169,\n",
              "             ...\n",
              "             280, 281, 282, 283, 284, 285, 286, 287, 288, 289],\n",
              "            dtype='int64', length=130),\n",
              " 'set_3': Int64Index([290, 291, 292, 293, 294, 295, 296, 297, 298, 299,\n",
              "             ...\n",
              "             391, 392, 393, 394, 395, 396, 397, 398, 399, 400],\n",
              "            dtype='int64', length=111),\n",
              " 'set_4': Int64Index([401, 402, 403, 404, 405, 406, 407, 408, 409, 410,\n",
              "             ...\n",
              "             526, 527, 528, 529, 530, 531, 532, 533, 534, 535],\n",
              "            dtype='int64', length=135)}"
            ]
          },
          "metadata": {
            "tags": []
          },
          "execution_count": 33
        }
      ]
    },
    {
      "cell_type": "markdown",
      "metadata": {
        "id": "kQQps0imUgk1",
        "colab_type": "text"
      },
      "source": [
        "# Descricao Individual dos grupos\n",
        " - 4 imagens"
      ]
    },
    {
      "cell_type": "markdown",
      "metadata": {
        "id": "UPnr3d9Rk5h_",
        "colab_type": "text"
      },
      "source": [
        "## funções auxiliares"
      ]
    },
    {
      "cell_type": "markdown",
      "metadata": {
        "id": "WL55poAi9_ic",
        "colab_type": "text"
      },
      "source": [
        "### graficos"
      ]
    },
    {
      "cell_type": "code",
      "metadata": {
        "id": "iAGF-6pVk8Vu",
        "colab_type": "code",
        "colab": {}
      },
      "source": [
        "# sturges\n",
        "def _sturges(a1): \n",
        "    '''devolve numero de bins de um histograma para um dataset. Argumento = dataset'''\n",
        "    k = int(1 + 10/3 *np.log10(len(a1)))\n",
        "    return k\n"
      ],
      "execution_count": 0,
      "outputs": []
    },
    {
      "cell_type": "code",
      "metadata": {
        "id": "oTvnnKq5mnh_",
        "colab_type": "code",
        "colab": {}
      },
      "source": [
        "#violinplot\n",
        "def plot_violin(a1,a2,a3):\n",
        "    '''a1 - ['nome_da_coluna']\n",
        "     a2 - df\n",
        "     a3 - titulo\n",
        "     ax1 - use para multiplot'''\n",
        "    sns.set(style='whitegrid')\n",
        "    ax = sns.violinplot(x = a1, data = a2)\n",
        "    ax.figure.set_size_inches(15,5)\n",
        "    ax.set_title('Equivalent diameter - raw', fontsize = 16, color = 'white')\n",
        "    ax.set_xlim(left = 0)\n",
        "    ax.set_ylim(bottom=0.01)\n",
        "    return ax"
      ],
      "execution_count": 0,
      "outputs": []
    },
    {
      "cell_type": "code",
      "metadata": {
        "id": "Gh3Y9ImnnxiX",
        "colab_type": "code",
        "colab": {}
      },
      "source": [
        "#boxplot\n",
        "def plot_boxplot(a1,a2,a3,):\n",
        "    '''a1 - ['nome_da_coluna']\n",
        "     a2 - df\n",
        "     a3 - titulo\n",
        "     ax2 - use para multiplot'''\n",
        "    sns.set(style='whitegrid')\n",
        "    ax = sns.boxplot(x = a1, data = a2, )\n",
        "    ax.figure.set_size_inches(15,5)\n",
        "    ax.set_title('Equivalent diameter - raw', fontsize = 16, color = 'white')\n",
        "    ax.set_xlim(left = 0)\n",
        "    return ax"
      ],
      "execution_count": 0,
      "outputs": []
    },
    {
      "cell_type": "code",
      "metadata": {
        "id": "mzz3VAyNpK4X",
        "colab_type": "code",
        "colab": {}
      },
      "source": [
        "#histograma\n",
        "def plot_hist(a1,a3,a4,):\n",
        "        ''' a1 - df(adc coluna)\n",
        "        a3 - normalizar histograma (T or F) \\n\n",
        "        a4 - titulo\n",
        "        ax1 - use para multiplot ''' \n",
        "        sns.set(style='whitegrid')\n",
        "        ax = sns.distplot(a1, bins = _sturges(a1), kde = False, norm_hist = a3, )\n",
        "        ax.figure.set_size_inches(15,5)\n",
        "        ax.set_title(a4, fontsize = 16, color = 'white')\n",
        "        ax.set_xlim(left = 0)\n",
        "        return ax\n"
      ],
      "execution_count": 0,
      "outputs": []
    },
    {
      "cell_type": "code",
      "metadata": {
        "id": "N0G7kIv3wqLO",
        "colab_type": "code",
        "colab": {}
      },
      "source": [
        "#swarmplot\n",
        "def plot_swarm(a1,a2,a3 ):\n",
        "    '''a1 - 'nome_da_coluna'\n",
        "     a2 - df\n",
        "     a3 - titulo\n",
        "     ax1 = use para multiplot'''\n",
        "    sns.set(style='whitegrid')\n",
        "    ax = sns.swarmplot(x = a1, data = a2, color='red', alpha = 0.75 )\n",
        "    ax.figure.set_size_inches(15,5)\n",
        "    ax.set_title(a3, fontsize = 16, color = 'white')\n",
        "    ax.set_xlim(left = 0)\n",
        "    return ax"
      ],
      "execution_count": 0,
      "outputs": []
    },
    {
      "cell_type": "markdown",
      "metadata": {
        "id": "CcdnZdSq-Ckc",
        "colab_type": "text"
      },
      "source": [
        "### limpeza de dados"
      ]
    },
    {
      "cell_type": "code",
      "metadata": {
        "id": "MfpujQ87lYTf",
        "colab_type": "code",
        "colab": {}
      },
      "source": [
        "# funcao principal\n",
        "def limpeza(df,coluna):\n",
        "    ''' faz a remoção de outliers no df.coluna desejado \\n retorna o frame de ouliers e o frame sem outliers'''\n",
        "    \n",
        "    frame_de_outliers, _ = __separa_outliers(df,coluna)\n",
        "    frame_sem_outliers = __remove_outliers(df, coluna)\n",
        "       \n",
        "    return  frame_de_outliers, frame_sem_outliers"
      ],
      "execution_count": 0,
      "outputs": []
    },
    {
      "cell_type": "code",
      "metadata": {
        "id": "3mix53IDlcHp",
        "colab_type": "code",
        "colab": {}
      },
      "source": [
        " # funcao topo do boxplot\n",
        "def __topo(df,coluna):\n",
        "    ''' inserir o dataframe e a coluna em que se vai realizar a limpeza'''\n",
        "    \n",
        "    Q3 = df['{}'.format(coluna)].quantile(q=0.75)\n",
        "    Q1 = df['{}'.format(coluna)].quantile(q=0.25)\n",
        "    IIQ = Q3-Q1\n",
        "    topo = Q3 + IIQ * 1.5\n",
        "    \n",
        "    return topo\n"
      ],
      "execution_count": 0,
      "outputs": []
    },
    {
      "cell_type": "code",
      "metadata": {
        "id": "dHkLjPTvleae",
        "colab_type": "code",
        "colab": {}
      },
      "source": [
        "# funcao separa outilers\n",
        "def __separa_outliers(df,coluna):\n",
        "    '''separa os outliers de um frame e retorna-os '''\n",
        "    \n",
        "    df_frame_outliers= df[df['{}'.format(coluna)] > (__topo(df,coluna))] \n",
        "    index_outliers = list(df_frame_outliers.index)\n",
        "    \n",
        "    return df_frame_outliers, index_outliers\n"
      ],
      "execution_count": 0,
      "outputs": []
    },
    {
      "cell_type": "code",
      "metadata": {
        "id": "Rnrs6Bbflh3i",
        "colab_type": "code",
        "colab": {}
      },
      "source": [
        "# funcao remove outliers do dataset\n",
        "def __remove_outliers(df, coluna):\n",
        "    '''remove os outliers do frame e retorna-o'''\n",
        "   \n",
        "    _,index_ = __separa_outliers(df,coluna)\n",
        "    frame_sem_outliers = df.drop(axis = 0, index = index_)\n",
        "    \n",
        "    return frame_sem_outliers\n"
      ],
      "execution_count": 0,
      "outputs": []
    },
    {
      "cell_type": "markdown",
      "metadata": {
        "id": "eJ1c2sLOVEKL",
        "colab_type": "text"
      },
      "source": [
        "##Set 1"
      ]
    },
    {
      "cell_type": "markdown",
      "metadata": {
        "id": "D0y8-s6dVcRd",
        "colab_type": "text"
      },
      "source": [
        "###Dados sem tratamento"
      ]
    },
    {
      "cell_type": "code",
      "metadata": {
        "id": "GPRI0xKcU3Gz",
        "colab_type": "code",
        "outputId": "c4b834bb-bbb4-436c-acb7-47452c84a946",
        "colab": {
          "base_uri": "https://localhost:8080/",
          "height": 419
        }
      },
      "source": [
        "set_1 = dados[dados[\"set_\"] == 'set_1']\n",
        "set_1"
      ],
      "execution_count": 76,
      "outputs": [
        {
          "output_type": "execute_result",
          "data": {
            "text/html": [
              "<div>\n",
              "<style scoped>\n",
              "    .dataframe tbody tr th:only-of-type {\n",
              "        vertical-align: middle;\n",
              "    }\n",
              "\n",
              "    .dataframe tbody tr th {\n",
              "        vertical-align: top;\n",
              "    }\n",
              "\n",
              "    .dataframe thead th {\n",
              "        text-align: right;\n",
              "    }\n",
              "</style>\n",
              "<table border=\"1\" class=\"dataframe\">\n",
              "  <thead>\n",
              "    <tr style=\"text-align: right;\">\n",
              "      <th></th>\n",
              "      <th>index</th>\n",
              "      <th>labels</th>\n",
              "      <th>area</th>\n",
              "      <th>perimeter</th>\n",
              "      <th>mahor_axis</th>\n",
              "      <th>minor_axis</th>\n",
              "      <th>eq_diam</th>\n",
              "      <th>set_</th>\n",
              "    </tr>\n",
              "  </thead>\n",
              "  <tbody>\n",
              "    <tr>\n",
              "      <th>0</th>\n",
              "      <td>1.0</td>\n",
              "      <td>1.0</td>\n",
              "      <td>12057066.0</td>\n",
              "      <td>54735.7112</td>\n",
              "      <td>4944.8175</td>\n",
              "      <td>3674.3981</td>\n",
              "      <td>3918.1033</td>\n",
              "      <td>set_1</td>\n",
              "    </tr>\n",
              "    <tr>\n",
              "      <th>1</th>\n",
              "      <td>2.0</td>\n",
              "      <td>2.0</td>\n",
              "      <td>2220.0</td>\n",
              "      <td>236.2254</td>\n",
              "      <td>85772.0000</td>\n",
              "      <td>40.4931</td>\n",
              "      <td>53.1657</td>\n",
              "      <td>set_1</td>\n",
              "    </tr>\n",
              "    <tr>\n",
              "      <th>2</th>\n",
              "      <td>3.0</td>\n",
              "      <td>3.0</td>\n",
              "      <td>1478.0</td>\n",
              "      <td>149.7401</td>\n",
              "      <td>58.4509</td>\n",
              "      <td>32.3893</td>\n",
              "      <td>43.3803</td>\n",
              "      <td>set_1</td>\n",
              "    </tr>\n",
              "    <tr>\n",
              "      <th>3</th>\n",
              "      <td>4.0</td>\n",
              "      <td>4.0</td>\n",
              "      <td>1262.0</td>\n",
              "      <td>136.1838</td>\n",
              "      <td>46123.0000</td>\n",
              "      <td>35.7796</td>\n",
              "      <td>40.0853</td>\n",
              "      <td>set_1</td>\n",
              "    </tr>\n",
              "    <tr>\n",
              "      <th>4</th>\n",
              "      <td>5.0</td>\n",
              "      <td>5.0</td>\n",
              "      <td>1798.0</td>\n",
              "      <td>165397.0000</td>\n",
              "      <td>61.1904</td>\n",
              "      <td>38.4644</td>\n",
              "      <td>47.8465</td>\n",
              "      <td>set_1</td>\n",
              "    </tr>\n",
              "    <tr>\n",
              "      <th>...</th>\n",
              "      <td>...</td>\n",
              "      <td>...</td>\n",
              "      <td>...</td>\n",
              "      <td>...</td>\n",
              "      <td>...</td>\n",
              "      <td>...</td>\n",
              "      <td>...</td>\n",
              "      <td>...</td>\n",
              "    </tr>\n",
              "    <tr>\n",
              "      <th>155</th>\n",
              "      <td>156.0</td>\n",
              "      <td>156.0</td>\n",
              "      <td>961.0</td>\n",
              "      <td>114.9117</td>\n",
              "      <td>36.5504</td>\n",
              "      <td>33.8685</td>\n",
              "      <td>34.9798</td>\n",
              "      <td>set_1</td>\n",
              "    </tr>\n",
              "    <tr>\n",
              "      <th>156</th>\n",
              "      <td>157.0</td>\n",
              "      <td>157.0</td>\n",
              "      <td>12187.0</td>\n",
              "      <td>442.4802</td>\n",
              "      <td>146.5051</td>\n",
              "      <td>110.0996</td>\n",
              "      <td>124.5671</td>\n",
              "      <td>set_1</td>\n",
              "    </tr>\n",
              "    <tr>\n",
              "      <th>157</th>\n",
              "      <td>158.0</td>\n",
              "      <td>158.0</td>\n",
              "      <td>7188.0</td>\n",
              "      <td>348.4508</td>\n",
              "      <td>112.9879</td>\n",
              "      <td>87.1733</td>\n",
              "      <td>95.6663</td>\n",
              "      <td>set_1</td>\n",
              "    </tr>\n",
              "    <tr>\n",
              "      <th>158</th>\n",
              "      <td>159.0</td>\n",
              "      <td>159.0</td>\n",
              "      <td>9047.0</td>\n",
              "      <td>364.9777</td>\n",
              "      <td>118.8642</td>\n",
              "      <td>97.8636</td>\n",
              "      <td>107.3266</td>\n",
              "      <td>set_1</td>\n",
              "    </tr>\n",
              "    <tr>\n",
              "      <th>159</th>\n",
              "      <td>160.0</td>\n",
              "      <td>160.0</td>\n",
              "      <td>724.0</td>\n",
              "      <td>97.6985</td>\n",
              "      <td>30.9445</td>\n",
              "      <td>29.9933</td>\n",
              "      <td>30.3616</td>\n",
              "      <td>set_1</td>\n",
              "    </tr>\n",
              "  </tbody>\n",
              "</table>\n",
              "<p>160 rows × 8 columns</p>\n",
              "</div>"
            ],
            "text/plain": [
              "     index  labels        area  ...  minor_axis    eq_diam   set_\n",
              "0      1.0     1.0  12057066.0  ...   3674.3981  3918.1033  set_1\n",
              "1      2.0     2.0      2220.0  ...     40.4931    53.1657  set_1\n",
              "2      3.0     3.0      1478.0  ...     32.3893    43.3803  set_1\n",
              "3      4.0     4.0      1262.0  ...     35.7796    40.0853  set_1\n",
              "4      5.0     5.0      1798.0  ...     38.4644    47.8465  set_1\n",
              "..     ...     ...         ...  ...         ...        ...    ...\n",
              "155  156.0   156.0       961.0  ...     33.8685    34.9798  set_1\n",
              "156  157.0   157.0     12187.0  ...    110.0996   124.5671  set_1\n",
              "157  158.0   158.0      7188.0  ...     87.1733    95.6663  set_1\n",
              "158  159.0   159.0      9047.0  ...     97.8636   107.3266  set_1\n",
              "159  160.0   160.0       724.0  ...     29.9933    30.3616  set_1\n",
              "\n",
              "[160 rows x 8 columns]"
            ]
          },
          "metadata": {
            "tags": []
          },
          "execution_count": 76
        }
      ]
    },
    {
      "cell_type": "markdown",
      "metadata": {
        "id": "ODlG3z0lVtf8",
        "colab_type": "text"
      },
      "source": [
        "###Tratamento de dados - identificar e remover outliers\n",
        "\n",
        "Os outliers de cada categoria serão identificados e removidos antes de iniciar o seu processamento. \n",
        "\n",
        "Motivo: podem haver valores discrepantes que não sejam coincidentes entre as colunas."
      ]
    },
    {
      "cell_type": "markdown",
      "metadata": {
        "id": "iJrt464txfJ-",
        "colab_type": "text"
      },
      "source": [
        "o histograma apresenta no seu eixo x valores discrepantes, \n",
        "\n",
        "---\n",
        "\n",
        "devido ao primeiro valor dos dados, que é absurdamente enorme."
      ]
    },
    {
      "cell_type": "markdown",
      "metadata": {
        "id": "q3keLMYI_qVm",
        "colab_type": "text"
      },
      "source": [
        ""
      ]
    },
    {
      "cell_type": "code",
      "metadata": {
        "id": "YH_0TFtbx11U",
        "colab_type": "code",
        "outputId": "e4e3b31e-ba1a-43fd-d1b4-0600200536c8",
        "colab": {
          "base_uri": "https://localhost:8080/",
          "height": 309
        }
      },
      "source": [
        "set_1.drop(index = 0, inplace=True)\n",
        "set_1.head()"
      ],
      "execution_count": 25,
      "outputs": [
        {
          "output_type": "stream",
          "text": [
            "/usr/local/lib/python3.6/dist-packages/pandas/core/frame.py:3997: SettingWithCopyWarning: \n",
            "A value is trying to be set on a copy of a slice from a DataFrame\n",
            "\n",
            "See the caveats in the documentation: https://pandas.pydata.org/pandas-docs/stable/user_guide/indexing.html#returning-a-view-versus-a-copy\n",
            "  errors=errors,\n"
          ],
          "name": "stderr"
        },
        {
          "output_type": "execute_result",
          "data": {
            "text/html": [
              "<div>\n",
              "<style scoped>\n",
              "    .dataframe tbody tr th:only-of-type {\n",
              "        vertical-align: middle;\n",
              "    }\n",
              "\n",
              "    .dataframe tbody tr th {\n",
              "        vertical-align: top;\n",
              "    }\n",
              "\n",
              "    .dataframe thead th {\n",
              "        text-align: right;\n",
              "    }\n",
              "</style>\n",
              "<table border=\"1\" class=\"dataframe\">\n",
              "  <thead>\n",
              "    <tr style=\"text-align: right;\">\n",
              "      <th></th>\n",
              "      <th>index</th>\n",
              "      <th>labels</th>\n",
              "      <th>area</th>\n",
              "      <th>perimeter</th>\n",
              "      <th>mahor_axis</th>\n",
              "      <th>minor_axis</th>\n",
              "      <th>eq_diam</th>\n",
              "      <th>set_</th>\n",
              "    </tr>\n",
              "  </thead>\n",
              "  <tbody>\n",
              "    <tr>\n",
              "      <th>1</th>\n",
              "      <td>2.0</td>\n",
              "      <td>2.0</td>\n",
              "      <td>2220.0</td>\n",
              "      <td>236.2254</td>\n",
              "      <td>85772.0000</td>\n",
              "      <td>40.4931</td>\n",
              "      <td>53.1657</td>\n",
              "      <td>set_1</td>\n",
              "    </tr>\n",
              "    <tr>\n",
              "      <th>2</th>\n",
              "      <td>3.0</td>\n",
              "      <td>3.0</td>\n",
              "      <td>1478.0</td>\n",
              "      <td>149.7401</td>\n",
              "      <td>58.4509</td>\n",
              "      <td>32.3893</td>\n",
              "      <td>43.3803</td>\n",
              "      <td>set_1</td>\n",
              "    </tr>\n",
              "    <tr>\n",
              "      <th>3</th>\n",
              "      <td>4.0</td>\n",
              "      <td>4.0</td>\n",
              "      <td>1262.0</td>\n",
              "      <td>136.1838</td>\n",
              "      <td>46123.0000</td>\n",
              "      <td>35.7796</td>\n",
              "      <td>40.0853</td>\n",
              "      <td>set_1</td>\n",
              "    </tr>\n",
              "    <tr>\n",
              "      <th>4</th>\n",
              "      <td>5.0</td>\n",
              "      <td>5.0</td>\n",
              "      <td>1798.0</td>\n",
              "      <td>165397.0000</td>\n",
              "      <td>61.1904</td>\n",
              "      <td>38.4644</td>\n",
              "      <td>47.8465</td>\n",
              "      <td>set_1</td>\n",
              "    </tr>\n",
              "    <tr>\n",
              "      <th>5</th>\n",
              "      <td>6.0</td>\n",
              "      <td>6.0</td>\n",
              "      <td>995.0</td>\n",
              "      <td>117.9411</td>\n",
              "      <td>43.0737</td>\n",
              "      <td>29.6965</td>\n",
              "      <td>35.5932</td>\n",
              "      <td>set_1</td>\n",
              "    </tr>\n",
              "  </tbody>\n",
              "</table>\n",
              "</div>"
            ],
            "text/plain": [
              "   index  labels    area    perimeter  mahor_axis  minor_axis  eq_diam   set_\n",
              "1    2.0     2.0  2220.0     236.2254  85772.0000     40.4931  53.1657  set_1\n",
              "2    3.0     3.0  1478.0     149.7401     58.4509     32.3893  43.3803  set_1\n",
              "3    4.0     4.0  1262.0     136.1838  46123.0000     35.7796  40.0853  set_1\n",
              "4    5.0     5.0  1798.0  165397.0000     61.1904     38.4644  47.8465  set_1\n",
              "5    6.0     6.0   995.0     117.9411     43.0737     29.6965  35.5932  set_1"
            ]
          },
          "metadata": {
            "tags": []
          },
          "execution_count": 25
        }
      ]
    },
    {
      "cell_type": "markdown",
      "metadata": {
        "id": "MejND_WN_tYB",
        "colab_type": "text"
      },
      "source": [
        "#### Area"
      ]
    },
    {
      "cell_type": "code",
      "metadata": {
        "id": "8n4vkXrjVzm0",
        "colab_type": "code",
        "outputId": "9ae2ff09-66e9-4dc5-a8d4-1aff7274dab2",
        "colab": {
          "base_uri": "https://localhost:8080/",
          "height": 339
        }
      },
      "source": [
        "sns.set(style = 'whitegrid')\n",
        "ax = sns.distplot(set_1.area, bins = 100, kde = False )\n",
        "ax.figure.set_size_inches(15,5)"
      ],
      "execution_count": 26,
      "outputs": [
        {
          "output_type": "display_data",
          "data": {
            "image/png": "[encoded data removed]",
            "text/plain": [
              "<Figure size 1080x360 with 1 Axes>"
            ]
          },
          "metadata": {
            "tags": []
          }
        }
      ]
    },
    {
      "cell_type": "markdown",
      "metadata": {
        "id": "hZ2mxE0K3yOK",
        "colab_type": "text"
      },
      "source": [
        "o arquivo original que foi importado apresenta todos os seus valores como string, e não como float. \n",
        "é preciso convertê-los"
      ]
    },
    {
      "cell_type": "code",
      "metadata": {
        "id": "ZurYg5_KytGd",
        "colab_type": "code",
        "outputId": "d25bbc39-d848-4c52-f9bd-72c51aefa199",
        "colab": {
          "base_uri": "https://localhost:8080/",
          "height": 373
        }
      },
      "source": [
        "#numero de bins --> usar a regra de sturges\n",
        "k = (1 + 10/3 *np.log10(len(set_1))).round(0)\n",
        "print(k)\n",
        "ax = sns.distplot(set_1.area, bins = 8, kde = False)\n",
        "ax.figure.set_size_inches(15,5)\n",
        "ax"
      ],
      "execution_count": 27,
      "outputs": [
        {
          "output_type": "stream",
          "text": [
            "8.0\n"
          ],
          "name": "stdout"
        },
        {
          "output_type": "execute_result",
          "data": {
            "text/plain": [
              "<matplotlib.axes._subplots.AxesSubplot at 0x7f38e8bc4e48>"
            ]
          },
          "metadata": {
            "tags": []
          },
          "execution_count": 27
        },
        {
          "output_type": "display_data",
          "data": {
            "image/png": "[encoded data removed]",
            "text/plain": [
              "<Figure size 1080x360 with 1 Axes>"
            ]
          },
          "metadata": {
            "tags": []
          }
        }
      ]
    },
    {
      "cell_type": "code",
      "metadata": {
        "id": "tLfqFDdDzqx-",
        "colab_type": "code",
        "outputId": "ef766531-4564-44a7-959a-067b78f74027",
        "colab": {
          "base_uri": "https://localhost:8080/",
          "height": 376
        }
      },
      "source": [
        "#set_1.boxplot('area')\n",
        "sns.set(style=\"whitegrid\")\n",
        "#tips = sns.load_dataset(\"tips\")\n",
        "ax = sns.boxplot(x=set_1[\"area\"])\n",
        "ax.figure.set_size_inches(15,5)\n",
        "ax.set_title('Areas', fontsize = 18)\n",
        "ax.vlines(x = 17000, ymin = 0, ymax = 1, colors='red')"
      ],
      "execution_count": 28,
      "outputs": [
        {
          "output_type": "execute_result",
          "data": {
            "text/plain": [
              "<matplotlib.collections.LineCollection at 0x7f38e8b13e80>"
            ]
          },
          "metadata": {
            "tags": []
          },
          "execution_count": 28
        },
        {
          "output_type": "display_data",
          "data": {
            "image/png": "[encoded data removed]",
            "text/plain": [
              "<Figure size 1080x360 with 1 Axes>"
            ]
          },
          "metadata": {
            "tags": []
          }
        }
      ]
    },
    {
      "cell_type": "markdown",
      "metadata": {
        "id": "b87J3Nc_vwRb",
        "colab_type": "text"
      },
      "source": [
        "Para facilitar a remoção dos outliers, usar os quantis para tirar os que estão acima do boxplot"
      ]
    },
    {
      "cell_type": "markdown",
      "metadata": {
        "id": "5iCkoDQM74-G",
        "colab_type": "text"
      },
      "source": [
        "Com o boxplot, ele permite remover esses dados discrepantes que não se encontram dentro dos outliers. \n",
        "\n",
        "o threshold seria 17000 para essa amostra e haveriam 4 pontos removidos."
      ]
    },
    {
      "cell_type": "code",
      "metadata": {
        "id": "XnQ7kgWuoauF",
        "colab_type": "code",
        "outputId": "79bfbc0f-f997-473d-a5a9-ed6e4242031f",
        "colab": {
          "base_uri": "https://localhost:8080/",
          "height": 374
        }
      },
      "source": [
        "plot_boxplot('area', set_1, 'area_teste')"
      ],
      "execution_count": 0,
      "outputs": [
        {
          "output_type": "execute_result",
          "data": {
            "text/plain": [
              "<matplotlib.axes._subplots.AxesSubplot at 0x7f402b7e3908>"
            ]
          },
          "metadata": {
            "tags": []
          },
          "execution_count": 110
        },
        {
          "output_type": "display_data",
          "data": {
            "image/png": "[encoded data removed]",
            "text/plain": [
              "<Figure size 1080x360 with 1 Axes>"
            ]
          },
          "metadata": {
            "tags": []
          }
        }
      ]
    },
    {
      "cell_type": "code",
      "metadata": {
        "id": "wAjOr-nS8gux",
        "colab_type": "code",
        "outputId": "971edae6-1a70-4a16-ac14-5fca48bd4494",
        "colab": {
          "base_uri": "https://localhost:8080/",
          "height": 173
        }
      },
      "source": [
        "set_1_area_outliers = set_1.query('area > 17000')\n",
        "set_1_area_outliers"
      ],
      "execution_count": 0,
      "outputs": [
        {
          "output_type": "execute_result",
          "data": {
            "text/html": [
              "<div>\n",
              "<style scoped>\n",
              "    .dataframe tbody tr th:only-of-type {\n",
              "        vertical-align: middle;\n",
              "    }\n",
              "\n",
              "    .dataframe tbody tr th {\n",
              "        vertical-align: top;\n",
              "    }\n",
              "\n",
              "    .dataframe thead th {\n",
              "        text-align: right;\n",
              "    }\n",
              "</style>\n",
              "<table border=\"1\" class=\"dataframe\">\n",
              "  <thead>\n",
              "    <tr style=\"text-align: right;\">\n",
              "      <th></th>\n",
              "      <th>index</th>\n",
              "      <th>labels</th>\n",
              "      <th>area</th>\n",
              "      <th>perimeter</th>\n",
              "      <th>mahor_axis</th>\n",
              "      <th>minor_axis</th>\n",
              "      <th>eq_diam</th>\n",
              "      <th>set_</th>\n",
              "    </tr>\n",
              "  </thead>\n",
              "  <tbody>\n",
              "    <tr>\n",
              "      <th>16</th>\n",
              "      <td>17.0</td>\n",
              "      <td>17.0</td>\n",
              "      <td>30963.0</td>\n",
              "      <td>913.6367</td>\n",
              "      <td>322.2773</td>\n",
              "      <td>149.6843</td>\n",
              "      <td>198.5531</td>\n",
              "      <td>set_1</td>\n",
              "    </tr>\n",
              "    <tr>\n",
              "      <th>52</th>\n",
              "      <td>53.0</td>\n",
              "      <td>53.0</td>\n",
              "      <td>27146.0</td>\n",
              "      <td>918.7666</td>\n",
              "      <td>239.9542</td>\n",
              "      <td>183.0300</td>\n",
              "      <td>185.9122</td>\n",
              "      <td>set_1</td>\n",
              "    </tr>\n",
              "    <tr>\n",
              "      <th>135</th>\n",
              "      <td>136.0</td>\n",
              "      <td>136.0</td>\n",
              "      <td>21726.0</td>\n",
              "      <td>813.8255</td>\n",
              "      <td>203.1576</td>\n",
              "      <td>179.6732</td>\n",
              "      <td>166.3202</td>\n",
              "      <td>set_1</td>\n",
              "    </tr>\n",
              "    <tr>\n",
              "      <th>138</th>\n",
              "      <td>139.0</td>\n",
              "      <td>139.0</td>\n",
              "      <td>19185.0</td>\n",
              "      <td>681.6539</td>\n",
              "      <td>195.1114</td>\n",
              "      <td>133.9945</td>\n",
              "      <td>156.2917</td>\n",
              "      <td>set_1</td>\n",
              "    </tr>\n",
              "  </tbody>\n",
              "</table>\n",
              "</div>"
            ],
            "text/plain": [
              "     index  labels     area  perimeter  mahor_axis  minor_axis   eq_diam   set_\n",
              "16    17.0    17.0  30963.0   913.6367    322.2773    149.6843  198.5531  set_1\n",
              "52    53.0    53.0  27146.0   918.7666    239.9542    183.0300  185.9122  set_1\n",
              "135  136.0   136.0  21726.0   813.8255    203.1576    179.6732  166.3202  set_1\n",
              "138  139.0   139.0  19185.0   681.6539    195.1114    133.9945  156.2917  set_1"
            ]
          },
          "metadata": {
            "tags": []
          },
          "execution_count": 44
        }
      ]
    },
    {
      "cell_type": "code",
      "metadata": {
        "id": "iuEnGkusmeXN",
        "colab_type": "code",
        "colab": {}
      },
      "source": [
        "outliers_, frame_limpo_ = limpeza( set_1, 'area')"
      ],
      "execution_count": 0,
      "outputs": []
    },
    {
      "cell_type": "code",
      "metadata": {
        "id": "lLa20OSsmrUf",
        "colab_type": "code",
        "colab": {
          "base_uri": "https://localhost:8080/",
          "height": 173
        },
        "outputId": "9f56c990-951e-4dc7-db38-63904f438b98"
      },
      "source": [
        "outliers_"
      ],
      "execution_count": 71,
      "outputs": [
        {
          "output_type": "execute_result",
          "data": {
            "text/html": [
              "<div>\n",
              "<style scoped>\n",
              "    .dataframe tbody tr th:only-of-type {\n",
              "        vertical-align: middle;\n",
              "    }\n",
              "\n",
              "    .dataframe tbody tr th {\n",
              "        vertical-align: top;\n",
              "    }\n",
              "\n",
              "    .dataframe thead th {\n",
              "        text-align: right;\n",
              "    }\n",
              "</style>\n",
              "<table border=\"1\" class=\"dataframe\">\n",
              "  <thead>\n",
              "    <tr style=\"text-align: right;\">\n",
              "      <th></th>\n",
              "      <th>index</th>\n",
              "      <th>labels</th>\n",
              "      <th>area</th>\n",
              "      <th>perimeter</th>\n",
              "      <th>mahor_axis</th>\n",
              "      <th>minor_axis</th>\n",
              "      <th>eq_diam</th>\n",
              "      <th>set_</th>\n",
              "    </tr>\n",
              "  </thead>\n",
              "  <tbody>\n",
              "    <tr>\n",
              "      <th>16</th>\n",
              "      <td>17.0</td>\n",
              "      <td>17.0</td>\n",
              "      <td>30963.0</td>\n",
              "      <td>913.6367</td>\n",
              "      <td>322.2773</td>\n",
              "      <td>149.6843</td>\n",
              "      <td>198.5531</td>\n",
              "      <td>set_1</td>\n",
              "    </tr>\n",
              "    <tr>\n",
              "      <th>52</th>\n",
              "      <td>53.0</td>\n",
              "      <td>53.0</td>\n",
              "      <td>27146.0</td>\n",
              "      <td>918.7666</td>\n",
              "      <td>239.9542</td>\n",
              "      <td>183.0300</td>\n",
              "      <td>185.9122</td>\n",
              "      <td>set_1</td>\n",
              "    </tr>\n",
              "    <tr>\n",
              "      <th>135</th>\n",
              "      <td>136.0</td>\n",
              "      <td>136.0</td>\n",
              "      <td>21726.0</td>\n",
              "      <td>813.8255</td>\n",
              "      <td>203.1576</td>\n",
              "      <td>179.6732</td>\n",
              "      <td>166.3202</td>\n",
              "      <td>set_1</td>\n",
              "    </tr>\n",
              "    <tr>\n",
              "      <th>138</th>\n",
              "      <td>139.0</td>\n",
              "      <td>139.0</td>\n",
              "      <td>19185.0</td>\n",
              "      <td>681.6539</td>\n",
              "      <td>195.1114</td>\n",
              "      <td>133.9945</td>\n",
              "      <td>156.2917</td>\n",
              "      <td>set_1</td>\n",
              "    </tr>\n",
              "  </tbody>\n",
              "</table>\n",
              "</div>"
            ],
            "text/plain": [
              "     index  labels     area  perimeter  mahor_axis  minor_axis   eq_diam   set_\n",
              "16    17.0    17.0  30963.0   913.6367    322.2773    149.6843  198.5531  set_1\n",
              "52    53.0    53.0  27146.0   918.7666    239.9542    183.0300  185.9122  set_1\n",
              "135  136.0   136.0  21726.0   813.8255    203.1576    179.6732  166.3202  set_1\n",
              "138  139.0   139.0  19185.0   681.6539    195.1114    133.9945  156.2917  set_1"
            ]
          },
          "metadata": {
            "tags": []
          },
          "execution_count": 71
        }
      ]
    },
    {
      "cell_type": "code",
      "metadata": {
        "id": "CnA1UT8jCuCI",
        "colab_type": "code",
        "outputId": "7c40704c-9fe6-417d-9485-fdb78d455d63",
        "colab": {
          "base_uri": "https://localhost:8080/",
          "height": 464
        }
      },
      "source": [
        "set_1.drop(axis = 0, index = [16,52,135,138], inplace = True)\n",
        "set_1[130:140]"
      ],
      "execution_count": 0,
      "outputs": [
        {
          "output_type": "stream",
          "text": [
            "/usr/local/lib/python3.6/dist-packages/pandas/core/frame.py:3997: SettingWithCopyWarning: \n",
            "A value is trying to be set on a copy of a slice from a DataFrame\n",
            "\n",
            "See the caveats in the documentation: https://pandas.pydata.org/pandas-docs/stable/user_guide/indexing.html#returning-a-view-versus-a-copy\n",
            "  errors=errors,\n"
          ],
          "name": "stderr"
        },
        {
          "output_type": "execute_result",
          "data": {
            "text/html": [
              "<div>\n",
              "<style scoped>\n",
              "    .dataframe tbody tr th:only-of-type {\n",
              "        vertical-align: middle;\n",
              "    }\n",
              "\n",
              "    .dataframe tbody tr th {\n",
              "        vertical-align: top;\n",
              "    }\n",
              "\n",
              "    .dataframe thead th {\n",
              "        text-align: right;\n",
              "    }\n",
              "</style>\n",
              "<table border=\"1\" class=\"dataframe\">\n",
              "  <thead>\n",
              "    <tr style=\"text-align: right;\">\n",
              "      <th></th>\n",
              "      <th>index</th>\n",
              "      <th>labels</th>\n",
              "      <th>area</th>\n",
              "      <th>perimeter</th>\n",
              "      <th>mahor_axis</th>\n",
              "      <th>minor_axis</th>\n",
              "      <th>eq_diam</th>\n",
              "      <th>set_</th>\n",
              "    </tr>\n",
              "  </thead>\n",
              "  <tbody>\n",
              "    <tr>\n",
              "      <th>133</th>\n",
              "      <td>134.0</td>\n",
              "      <td>134.0</td>\n",
              "      <td>6258.0</td>\n",
              "      <td>349.2031</td>\n",
              "      <td>114.0272</td>\n",
              "      <td>78.3268</td>\n",
              "      <td>89.2633</td>\n",
              "      <td>set_1</td>\n",
              "    </tr>\n",
              "    <tr>\n",
              "      <th>134</th>\n",
              "      <td>135.0</td>\n",
              "      <td>135.0</td>\n",
              "      <td>8713.0</td>\n",
              "      <td>366.6762</td>\n",
              "      <td>120.7077</td>\n",
              "      <td>93.9964</td>\n",
              "      <td>105.3268</td>\n",
              "      <td>set_1</td>\n",
              "    </tr>\n",
              "    <tr>\n",
              "      <th>136</th>\n",
              "      <td>137.0</td>\n",
              "      <td>137.0</td>\n",
              "      <td>5851.0</td>\n",
              "      <td>299.0366</td>\n",
              "      <td>96.8065</td>\n",
              "      <td>77.6033</td>\n",
              "      <td>86.3118</td>\n",
              "      <td>set_1</td>\n",
              "    </tr>\n",
              "    <tr>\n",
              "      <th>137</th>\n",
              "      <td>138.0</td>\n",
              "      <td>138.0</td>\n",
              "      <td>9325.0</td>\n",
              "      <td>400.4752</td>\n",
              "      <td>137.3738</td>\n",
              "      <td>93.5164</td>\n",
              "      <td>108.9631</td>\n",
              "      <td>set_1</td>\n",
              "    </tr>\n",
              "    <tr>\n",
              "      <th>139</th>\n",
              "      <td>140.0</td>\n",
              "      <td>140.0</td>\n",
              "      <td>826.0</td>\n",
              "      <td>108.1838</td>\n",
              "      <td>35.6632</td>\n",
              "      <td>29.8994</td>\n",
              "      <td>32.4299</td>\n",
              "      <td>set_1</td>\n",
              "    </tr>\n",
              "    <tr>\n",
              "      <th>140</th>\n",
              "      <td>141.0</td>\n",
              "      <td>141.0</td>\n",
              "      <td>2086.0</td>\n",
              "      <td>193.7817</td>\n",
              "      <td>67.8672</td>\n",
              "      <td>41.5475</td>\n",
              "      <td>51.5362</td>\n",
              "      <td>set_1</td>\n",
              "    </tr>\n",
              "    <tr>\n",
              "      <th>141</th>\n",
              "      <td>142.0</td>\n",
              "      <td>142.0</td>\n",
              "      <td>6703.0</td>\n",
              "      <td>316.5097</td>\n",
              "      <td>97.6478</td>\n",
              "      <td>89.3245</td>\n",
              "      <td>92.3825</td>\n",
              "      <td>set_1</td>\n",
              "    </tr>\n",
              "    <tr>\n",
              "      <th>142</th>\n",
              "      <td>143.0</td>\n",
              "      <td>143.0</td>\n",
              "      <td>2568.0</td>\n",
              "      <td>200.6102</td>\n",
              "      <td>70.6478</td>\n",
              "      <td>47.6501</td>\n",
              "      <td>57.1811</td>\n",
              "      <td>set_1</td>\n",
              "    </tr>\n",
              "    <tr>\n",
              "      <th>143</th>\n",
              "      <td>144.0</td>\n",
              "      <td>144.0</td>\n",
              "      <td>8820.0</td>\n",
              "      <td>369.6051</td>\n",
              "      <td>124.8781</td>\n",
              "      <td>92.8132</td>\n",
              "      <td>105.9716</td>\n",
              "      <td>set_1</td>\n",
              "    </tr>\n",
              "    <tr>\n",
              "      <th>144</th>\n",
              "      <td>145.0</td>\n",
              "      <td>145.0</td>\n",
              "      <td>3110.0</td>\n",
              "      <td>227.1371</td>\n",
              "      <td>75.3021</td>\n",
              "      <td>56.9255</td>\n",
              "      <td>62.9267</td>\n",
              "      <td>set_1</td>\n",
              "    </tr>\n",
              "  </tbody>\n",
              "</table>\n",
              "</div>"
            ],
            "text/plain": [
              "     index  labels    area  perimeter  mahor_axis  minor_axis   eq_diam   set_\n",
              "133  134.0   134.0  6258.0   349.2031    114.0272     78.3268   89.2633  set_1\n",
              "134  135.0   135.0  8713.0   366.6762    120.7077     93.9964  105.3268  set_1\n",
              "136  137.0   137.0  5851.0   299.0366     96.8065     77.6033   86.3118  set_1\n",
              "137  138.0   138.0  9325.0   400.4752    137.3738     93.5164  108.9631  set_1\n",
              "139  140.0   140.0   826.0   108.1838     35.6632     29.8994   32.4299  set_1\n",
              "140  141.0   141.0  2086.0   193.7817     67.8672     41.5475   51.5362  set_1\n",
              "141  142.0   142.0  6703.0   316.5097     97.6478     89.3245   92.3825  set_1\n",
              "142  143.0   143.0  2568.0   200.6102     70.6478     47.6501   57.1811  set_1\n",
              "143  144.0   144.0  8820.0   369.6051    124.8781     92.8132  105.9716  set_1\n",
              "144  145.0   145.0  3110.0   227.1371     75.3021     56.9255   62.9267  set_1"
            ]
          },
          "metadata": {
            "tags": []
          },
          "execution_count": 45
        }
      ]
    },
    {
      "cell_type": "code",
      "metadata": {
        "id": "dbn4A3PPDt8J",
        "colab_type": "code",
        "outputId": "20cd0da4-8336-4f6f-f48a-3a9693cd8508",
        "colab": {
          "base_uri": "https://localhost:8080/",
          "height": 376
        }
      },
      "source": [
        "sns.set(style=\"whitegrid\")\n",
        "#tips = sns.load_dataset(\"tips\")\n",
        "ax = sns.boxplot(x=set_1[\"area\"])\n",
        "ax.figure.set_size_inches(15,5)\n",
        "ax.set_title('Areas', fontsize = 18)\n",
        "ax.vlines(x = 17000, ymin = 0, ymax = 1, colors='red')"
      ],
      "execution_count": 0,
      "outputs": [
        {
          "output_type": "execute_result",
          "data": {
            "text/plain": [
              "<matplotlib.collections.LineCollection at 0x7f4031818b00>"
            ]
          },
          "metadata": {
            "tags": []
          },
          "execution_count": 46
        },
        {
          "output_type": "display_data",
          "data": {
            "image/png": "[encoded data removed]",
            "text/plain": [
              "<Figure size 1080x360 with 1 Axes>"
            ]
          },
          "metadata": {
            "tags": []
          }
        }
      ]
    },
    {
      "cell_type": "code",
      "metadata": {
        "id": "6c1fjzwkEAMI",
        "colab_type": "code",
        "outputId": "3b6b7b60-0ed9-40c0-9bc8-82386434cc7f",
        "colab": {
          "base_uri": "https://localhost:8080/",
          "height": 389
        }
      },
      "source": [
        "k = int((1 + 10/3 *np.log10(len(set_1))).round(0))\n",
        "print(k)\n",
        "sns.set(style=\"whitegrid\")\n",
        "ax = sns.distplot(a = set_1.area, bins = k, kde = False)\n",
        "ax.figure.set_size_inches(15,5)\n",
        "ax.set_title('Areas - histograma')"
      ],
      "execution_count": 0,
      "outputs": [
        {
          "output_type": "stream",
          "text": [
            "8\n"
          ],
          "name": "stdout"
        },
        {
          "output_type": "execute_result",
          "data": {
            "text/plain": [
              "Text(0.5, 1.0, 'Areas - histograma')"
            ]
          },
          "metadata": {
            "tags": []
          },
          "execution_count": 49
        },
        {
          "output_type": "display_data",
          "data": {
            "image/png": "[encoded data removed]",
            "text/plain": [
              "<Figure size 1080x360 with 1 Axes>"
            ]
          },
          "metadata": {
            "tags": []
          }
        }
      ]
    },
    {
      "cell_type": "markdown",
      "metadata": {
        "id": "j5g3uf9vmzk8",
        "colab_type": "text"
      },
      "source": [
        "#### area com função"
      ]
    },
    {
      "cell_type": "code",
      "metadata": {
        "id": "7VxuUShanJZ_",
        "colab_type": "code",
        "colab": {
          "base_uri": "https://localhost:8080/",
          "height": 204
        },
        "outputId": "7f031be9-63d3-4e49-fa9c-532eb6d77dd3"
      },
      "source": [
        "outlier_1_area\n",
        "#set_1"
      ],
      "execution_count": 80,
      "outputs": [
        {
          "output_type": "execute_result",
          "data": {
            "text/html": [
              "<div>\n",
              "<style scoped>\n",
              "    .dataframe tbody tr th:only-of-type {\n",
              "        vertical-align: middle;\n",
              "    }\n",
              "\n",
              "    .dataframe tbody tr th {\n",
              "        vertical-align: top;\n",
              "    }\n",
              "\n",
              "    .dataframe thead th {\n",
              "        text-align: right;\n",
              "    }\n",
              "</style>\n",
              "<table border=\"1\" class=\"dataframe\">\n",
              "  <thead>\n",
              "    <tr style=\"text-align: right;\">\n",
              "      <th></th>\n",
              "      <th>index</th>\n",
              "      <th>labels</th>\n",
              "      <th>area</th>\n",
              "      <th>perimeter</th>\n",
              "      <th>mahor_axis</th>\n",
              "      <th>minor_axis</th>\n",
              "      <th>eq_diam</th>\n",
              "      <th>set_</th>\n",
              "    </tr>\n",
              "  </thead>\n",
              "  <tbody>\n",
              "    <tr>\n",
              "      <th>0</th>\n",
              "      <td>1.0</td>\n",
              "      <td>1.0</td>\n",
              "      <td>12057066.0</td>\n",
              "      <td>54735.7112</td>\n",
              "      <td>4944.8175</td>\n",
              "      <td>3674.3981</td>\n",
              "      <td>3918.1033</td>\n",
              "      <td>set_1</td>\n",
              "    </tr>\n",
              "    <tr>\n",
              "      <th>16</th>\n",
              "      <td>17.0</td>\n",
              "      <td>17.0</td>\n",
              "      <td>30963.0</td>\n",
              "      <td>913.6367</td>\n",
              "      <td>322.2773</td>\n",
              "      <td>149.6843</td>\n",
              "      <td>198.5531</td>\n",
              "      <td>set_1</td>\n",
              "    </tr>\n",
              "    <tr>\n",
              "      <th>52</th>\n",
              "      <td>53.0</td>\n",
              "      <td>53.0</td>\n",
              "      <td>27146.0</td>\n",
              "      <td>918.7666</td>\n",
              "      <td>239.9542</td>\n",
              "      <td>183.0300</td>\n",
              "      <td>185.9122</td>\n",
              "      <td>set_1</td>\n",
              "    </tr>\n",
              "    <tr>\n",
              "      <th>135</th>\n",
              "      <td>136.0</td>\n",
              "      <td>136.0</td>\n",
              "      <td>21726.0</td>\n",
              "      <td>813.8255</td>\n",
              "      <td>203.1576</td>\n",
              "      <td>179.6732</td>\n",
              "      <td>166.3202</td>\n",
              "      <td>set_1</td>\n",
              "    </tr>\n",
              "    <tr>\n",
              "      <th>138</th>\n",
              "      <td>139.0</td>\n",
              "      <td>139.0</td>\n",
              "      <td>19185.0</td>\n",
              "      <td>681.6539</td>\n",
              "      <td>195.1114</td>\n",
              "      <td>133.9945</td>\n",
              "      <td>156.2917</td>\n",
              "      <td>set_1</td>\n",
              "    </tr>\n",
              "  </tbody>\n",
              "</table>\n",
              "</div>"
            ],
            "text/plain": [
              "     index  labels        area  ...  minor_axis    eq_diam   set_\n",
              "0      1.0     1.0  12057066.0  ...   3674.3981  3918.1033  set_1\n",
              "16    17.0    17.0     30963.0  ...    149.6843   198.5531  set_1\n",
              "52    53.0    53.0     27146.0  ...    183.0300   185.9122  set_1\n",
              "135  136.0   136.0     21726.0  ...    179.6732   166.3202  set_1\n",
              "138  139.0   139.0     19185.0  ...    133.9945   156.2917  set_1\n",
              "\n",
              "[5 rows x 8 columns]"
            ]
          },
          "metadata": {
            "tags": []
          },
          "execution_count": 80
        }
      ]
    },
    {
      "cell_type": "code",
      "metadata": {
        "id": "Lnn87RvLnSRN",
        "colab_type": "code",
        "colab": {
          "base_uri": "https://localhost:8080/",
          "height": 359
        },
        "outputId": "cc0ff2d8-4673-407c-81e8-30ddfbbf4d86"
      },
      "source": [
        "set_1[10:20]"
      ],
      "execution_count": 79,
      "outputs": [
        {
          "output_type": "execute_result",
          "data": {
            "text/html": [
              "<div>\n",
              "<style scoped>\n",
              "    .dataframe tbody tr th:only-of-type {\n",
              "        vertical-align: middle;\n",
              "    }\n",
              "\n",
              "    .dataframe tbody tr th {\n",
              "        vertical-align: top;\n",
              "    }\n",
              "\n",
              "    .dataframe thead th {\n",
              "        text-align: right;\n",
              "    }\n",
              "</style>\n",
              "<table border=\"1\" class=\"dataframe\">\n",
              "  <thead>\n",
              "    <tr style=\"text-align: right;\">\n",
              "      <th></th>\n",
              "      <th>index</th>\n",
              "      <th>labels</th>\n",
              "      <th>area</th>\n",
              "      <th>perimeter</th>\n",
              "      <th>mahor_axis</th>\n",
              "      <th>minor_axis</th>\n",
              "      <th>eq_diam</th>\n",
              "      <th>set_</th>\n",
              "    </tr>\n",
              "  </thead>\n",
              "  <tbody>\n",
              "    <tr>\n",
              "      <th>11</th>\n",
              "      <td>12.0</td>\n",
              "      <td>12.0</td>\n",
              "      <td>4815.0</td>\n",
              "      <td>294.1665</td>\n",
              "      <td>106.6351</td>\n",
              "      <td>61.3767</td>\n",
              "      <td>78.2985</td>\n",
              "      <td>set_1</td>\n",
              "    </tr>\n",
              "    <tr>\n",
              "      <th>12</th>\n",
              "      <td>13.0</td>\n",
              "      <td>13.0</td>\n",
              "      <td>6510.0</td>\n",
              "      <td>314.1665</td>\n",
              "      <td>98.2614</td>\n",
              "      <td>86.1987</td>\n",
              "      <td>91.0428</td>\n",
              "      <td>set_1</td>\n",
              "    </tr>\n",
              "    <tr>\n",
              "      <th>13</th>\n",
              "      <td>14.0</td>\n",
              "      <td>14.0</td>\n",
              "      <td>7884.0</td>\n",
              "      <td>336.7351</td>\n",
              "      <td>101.4844</td>\n",
              "      <td>99.9200</td>\n",
              "      <td>100.1909</td>\n",
              "      <td>set_1</td>\n",
              "    </tr>\n",
              "    <tr>\n",
              "      <th>14</th>\n",
              "      <td>15.0</td>\n",
              "      <td>15.0</td>\n",
              "      <td>1707.0</td>\n",
              "      <td>168.2254</td>\n",
              "      <td>49.7539</td>\n",
              "      <td>46463.0000</td>\n",
              "      <td>46.6200</td>\n",
              "      <td>set_1</td>\n",
              "    </tr>\n",
              "    <tr>\n",
              "      <th>15</th>\n",
              "      <td>16.0</td>\n",
              "      <td>16.0</td>\n",
              "      <td>707.0</td>\n",
              "      <td>111.2904</td>\n",
              "      <td>34.8355</td>\n",
              "      <td>28.1487</td>\n",
              "      <td>30003.0000</td>\n",
              "      <td>set_1</td>\n",
              "    </tr>\n",
              "    <tr>\n",
              "      <th>17</th>\n",
              "      <td>18.0</td>\n",
              "      <td>18.0</td>\n",
              "      <td>9774.0</td>\n",
              "      <td>383061.0000</td>\n",
              "      <td>124.8502</td>\n",
              "      <td>101.1178</td>\n",
              "      <td>111.5556</td>\n",
              "      <td>set_1</td>\n",
              "    </tr>\n",
              "    <tr>\n",
              "      <th>18</th>\n",
              "      <td>19.0</td>\n",
              "      <td>19.0</td>\n",
              "      <td>6318.0</td>\n",
              "      <td>325.8061</td>\n",
              "      <td>97843.0000</td>\n",
              "      <td>86.7009</td>\n",
              "      <td>89.6902</td>\n",
              "      <td>set_1</td>\n",
              "    </tr>\n",
              "    <tr>\n",
              "      <th>19</th>\n",
              "      <td>20.0</td>\n",
              "      <td>20.0</td>\n",
              "      <td>6264.0</td>\n",
              "      <td>305865.0000</td>\n",
              "      <td>98.5396</td>\n",
              "      <td>82.4586</td>\n",
              "      <td>89.3061</td>\n",
              "      <td>set_1</td>\n",
              "    </tr>\n",
              "    <tr>\n",
              "      <th>20</th>\n",
              "      <td>21.0</td>\n",
              "      <td>21.0</td>\n",
              "      <td>5462.0</td>\n",
              "      <td>295.4214</td>\n",
              "      <td>102.8607</td>\n",
              "      <td>68.8796</td>\n",
              "      <td>83.3933</td>\n",
              "      <td>set_1</td>\n",
              "    </tr>\n",
              "    <tr>\n",
              "      <th>21</th>\n",
              "      <td>22.0</td>\n",
              "      <td>22.0</td>\n",
              "      <td>6483.0</td>\n",
              "      <td>312.6934</td>\n",
              "      <td>102.3497</td>\n",
              "      <td>81.7811</td>\n",
              "      <td>90.8538</td>\n",
              "      <td>set_1</td>\n",
              "    </tr>\n",
              "  </tbody>\n",
              "</table>\n",
              "</div>"
            ],
            "text/plain": [
              "    index  labels    area  ...  minor_axis     eq_diam   set_\n",
              "11   12.0    12.0  4815.0  ...     61.3767     78.2985  set_1\n",
              "12   13.0    13.0  6510.0  ...     86.1987     91.0428  set_1\n",
              "13   14.0    14.0  7884.0  ...     99.9200    100.1909  set_1\n",
              "14   15.0    15.0  1707.0  ...  46463.0000     46.6200  set_1\n",
              "15   16.0    16.0   707.0  ...     28.1487  30003.0000  set_1\n",
              "17   18.0    18.0  9774.0  ...    101.1178    111.5556  set_1\n",
              "18   19.0    19.0  6318.0  ...     86.7009     89.6902  set_1\n",
              "19   20.0    20.0  6264.0  ...     82.4586     89.3061  set_1\n",
              "20   21.0    21.0  5462.0  ...     68.8796     83.3933  set_1\n",
              "21   22.0    22.0  6483.0  ...     81.7811     90.8538  set_1\n",
              "\n",
              "[10 rows x 8 columns]"
            ]
          },
          "metadata": {
            "tags": []
          },
          "execution_count": 79
        }
      ]
    },
    {
      "cell_type": "markdown",
      "metadata": {
        "id": "c9ysxvqw_75o",
        "colab_type": "text"
      },
      "source": [
        "#### Perimeter"
      ]
    },
    {
      "cell_type": "code",
      "metadata": {
        "id": "EUhm2daCFU8I",
        "colab_type": "code",
        "outputId": "db961e55-5e6c-44e5-bf15-9ab8196ea501",
        "colab": {
          "base_uri": "https://localhost:8080/",
          "height": 302
        }
      },
      "source": [
        "#boxplot\n",
        "sns.set(style = 'whitegrid')\n",
        "ax = sns.boxplot(x = 'perimeter', data = set_1)\n",
        "ax.vlines(x = 40000, ymin = 0, ymax = 1, colors='red')"
      ],
      "execution_count": 0,
      "outputs": [
        {
          "output_type": "execute_result",
          "data": {
            "text/plain": [
              "<matplotlib.collections.LineCollection at 0x7f402e59ee48>"
            ]
          },
          "metadata": {
            "tags": []
          },
          "execution_count": 50
        },
        {
          "output_type": "display_data",
          "data": {
            "image/png": "[encoded data removed]",
            "text/plain": [
              "<Figure size 432x288 with 1 Axes>"
            ]
          },
          "metadata": {
            "tags": []
          }
        }
      ]
    },
    {
      "cell_type": "code",
      "metadata": {
        "id": "yh15Ak0DHZOY",
        "colab_type": "code",
        "outputId": "70b82f89-4f8a-4e3b-89a8-a69285edca1c",
        "colab": {
          "base_uri": "https://localhost:8080/",
          "height": 34
        }
      },
      "source": [
        "#threshold and outliers eliminations\n",
        "threshold = 40000\n",
        "set_1_perimeter_outliers = set_1.query('perimeter > 40000')\n",
        "list_outliers_perimeters = set_1_perimeter_outliers.index\n",
        "type(list_outliers_perimeters)\n"
      ],
      "execution_count": 0,
      "outputs": [
        {
          "output_type": "execute_result",
          "data": {
            "text/plain": [
              "pandas.core.indexes.numeric.Int64Index"
            ]
          },
          "metadata": {
            "tags": []
          },
          "execution_count": 51
        }
      ]
    },
    {
      "cell_type": "code",
      "metadata": {
        "id": "UxDmu3s7ITc3",
        "colab_type": "code",
        "outputId": "b5ba20bf-52f0-404d-ae95-da32b41cdab6",
        "colab": {
          "base_uri": "https://localhost:8080/",
          "height": 524
        }
      },
      "source": [
        "#use threshold to drop values\n",
        "set_1.drop(axis=0, index = list_outliers_perimeters, inplace = True)\n",
        "set_1"
      ],
      "execution_count": 0,
      "outputs": [
        {
          "output_type": "stream",
          "text": [
            "/usr/local/lib/python3.6/dist-packages/pandas/core/frame.py:3997: SettingWithCopyWarning: \n",
            "A value is trying to be set on a copy of a slice from a DataFrame\n",
            "\n",
            "See the caveats in the documentation: https://pandas.pydata.org/pandas-docs/stable/user_guide/indexing.html#returning-a-view-versus-a-copy\n",
            "  errors=errors,\n"
          ],
          "name": "stderr"
        },
        {
          "output_type": "execute_result",
          "data": {
            "text/html": [
              "<div>\n",
              "<style scoped>\n",
              "    .dataframe tbody tr th:only-of-type {\n",
              "        vertical-align: middle;\n",
              "    }\n",
              "\n",
              "    .dataframe tbody tr th {\n",
              "        vertical-align: top;\n",
              "    }\n",
              "\n",
              "    .dataframe thead th {\n",
              "        text-align: right;\n",
              "    }\n",
              "</style>\n",
              "<table border=\"1\" class=\"dataframe\">\n",
              "  <thead>\n",
              "    <tr style=\"text-align: right;\">\n",
              "      <th></th>\n",
              "      <th>index</th>\n",
              "      <th>labels</th>\n",
              "      <th>area</th>\n",
              "      <th>perimeter</th>\n",
              "      <th>mahor_axis</th>\n",
              "      <th>minor_axis</th>\n",
              "      <th>eq_diam</th>\n",
              "      <th>set_</th>\n",
              "    </tr>\n",
              "  </thead>\n",
              "  <tbody>\n",
              "    <tr>\n",
              "      <th>1</th>\n",
              "      <td>2.0</td>\n",
              "      <td>2.0</td>\n",
              "      <td>2220.0</td>\n",
              "      <td>236.2254</td>\n",
              "      <td>85772.0000</td>\n",
              "      <td>40.4931</td>\n",
              "      <td>53.1657</td>\n",
              "      <td>set_1</td>\n",
              "    </tr>\n",
              "    <tr>\n",
              "      <th>2</th>\n",
              "      <td>3.0</td>\n",
              "      <td>3.0</td>\n",
              "      <td>1478.0</td>\n",
              "      <td>149.7401</td>\n",
              "      <td>58.4509</td>\n",
              "      <td>32.3893</td>\n",
              "      <td>43.3803</td>\n",
              "      <td>set_1</td>\n",
              "    </tr>\n",
              "    <tr>\n",
              "      <th>3</th>\n",
              "      <td>4.0</td>\n",
              "      <td>4.0</td>\n",
              "      <td>1262.0</td>\n",
              "      <td>136.1838</td>\n",
              "      <td>46123.0000</td>\n",
              "      <td>35.7796</td>\n",
              "      <td>40.0853</td>\n",
              "      <td>set_1</td>\n",
              "    </tr>\n",
              "    <tr>\n",
              "      <th>5</th>\n",
              "      <td>6.0</td>\n",
              "      <td>6.0</td>\n",
              "      <td>995.0</td>\n",
              "      <td>117.9411</td>\n",
              "      <td>43.0737</td>\n",
              "      <td>29.6965</td>\n",
              "      <td>35.5932</td>\n",
              "      <td>set_1</td>\n",
              "    </tr>\n",
              "    <tr>\n",
              "      <th>6</th>\n",
              "      <td>7.0</td>\n",
              "      <td>7.0</td>\n",
              "      <td>12768.0</td>\n",
              "      <td>479.8305</td>\n",
              "      <td>163786.0000</td>\n",
              "      <td>104.6226</td>\n",
              "      <td>127.5019</td>\n",
              "      <td>set_1</td>\n",
              "    </tr>\n",
              "    <tr>\n",
              "      <th>...</th>\n",
              "      <td>...</td>\n",
              "      <td>...</td>\n",
              "      <td>...</td>\n",
              "      <td>...</td>\n",
              "      <td>...</td>\n",
              "      <td>...</td>\n",
              "      <td>...</td>\n",
              "      <td>...</td>\n",
              "    </tr>\n",
              "    <tr>\n",
              "      <th>155</th>\n",
              "      <td>156.0</td>\n",
              "      <td>156.0</td>\n",
              "      <td>961.0</td>\n",
              "      <td>114.9117</td>\n",
              "      <td>36.5504</td>\n",
              "      <td>33.8685</td>\n",
              "      <td>34.9798</td>\n",
              "      <td>set_1</td>\n",
              "    </tr>\n",
              "    <tr>\n",
              "      <th>156</th>\n",
              "      <td>157.0</td>\n",
              "      <td>157.0</td>\n",
              "      <td>12187.0</td>\n",
              "      <td>442.4802</td>\n",
              "      <td>146.5051</td>\n",
              "      <td>110.0996</td>\n",
              "      <td>124.5671</td>\n",
              "      <td>set_1</td>\n",
              "    </tr>\n",
              "    <tr>\n",
              "      <th>157</th>\n",
              "      <td>158.0</td>\n",
              "      <td>158.0</td>\n",
              "      <td>7188.0</td>\n",
              "      <td>348.4508</td>\n",
              "      <td>112.9879</td>\n",
              "      <td>87.1733</td>\n",
              "      <td>95.6663</td>\n",
              "      <td>set_1</td>\n",
              "    </tr>\n",
              "    <tr>\n",
              "      <th>158</th>\n",
              "      <td>159.0</td>\n",
              "      <td>159.0</td>\n",
              "      <td>9047.0</td>\n",
              "      <td>364.9777</td>\n",
              "      <td>118.8642</td>\n",
              "      <td>97.8636</td>\n",
              "      <td>107.3266</td>\n",
              "      <td>set_1</td>\n",
              "    </tr>\n",
              "    <tr>\n",
              "      <th>159</th>\n",
              "      <td>160.0</td>\n",
              "      <td>160.0</td>\n",
              "      <td>724.0</td>\n",
              "      <td>97.6985</td>\n",
              "      <td>30.9445</td>\n",
              "      <td>29.9933</td>\n",
              "      <td>30.3616</td>\n",
              "      <td>set_1</td>\n",
              "    </tr>\n",
              "  </tbody>\n",
              "</table>\n",
              "<p>139 rows × 8 columns</p>\n",
              "</div>"
            ],
            "text/plain": [
              "     index  labels     area  ...  minor_axis   eq_diam   set_\n",
              "1      2.0     2.0   2220.0  ...     40.4931   53.1657  set_1\n",
              "2      3.0     3.0   1478.0  ...     32.3893   43.3803  set_1\n",
              "3      4.0     4.0   1262.0  ...     35.7796   40.0853  set_1\n",
              "5      6.0     6.0    995.0  ...     29.6965   35.5932  set_1\n",
              "6      7.0     7.0  12768.0  ...    104.6226  127.5019  set_1\n",
              "..     ...     ...      ...  ...         ...       ...    ...\n",
              "155  156.0   156.0    961.0  ...     33.8685   34.9798  set_1\n",
              "156  157.0   157.0  12187.0  ...    110.0996  124.5671  set_1\n",
              "157  158.0   158.0   7188.0  ...     87.1733   95.6663  set_1\n",
              "158  159.0   159.0   9047.0  ...     97.8636  107.3266  set_1\n",
              "159  160.0   160.0    724.0  ...     29.9933   30.3616  set_1\n",
              "\n",
              "[139 rows x 8 columns]"
            ]
          },
          "metadata": {
            "tags": []
          },
          "execution_count": 52
        }
      ]
    },
    {
      "cell_type": "code",
      "metadata": {
        "id": "0l-J2TedIESi",
        "colab_type": "code",
        "outputId": "3027639c-c824-4f7f-d764-b2e884ac498b",
        "colab": {
          "base_uri": "https://localhost:8080/",
          "height": 285
        }
      },
      "source": [
        "sns.set(style = 'whitegrid')\n",
        "ax = sns.boxplot(x = 'perimeter', data = set_1)\n",
        "#ax.vlines(x = 40000, ymin = 0, ymax = 1, colors='red')"
      ],
      "execution_count": 0,
      "outputs": [
        {
          "output_type": "display_data",
          "data": {
            "image/png": "[encoded data removed]",
            "text/plain": [
              "<Figure size 432x288 with 1 Axes>"
            ]
          },
          "metadata": {
            "tags": []
          }
        }
      ]
    },
    {
      "cell_type": "markdown",
      "metadata": {
        "id": "fHrlmVJaritC",
        "colab_type": "text"
      },
      "source": [
        "observa-se que os resultados obtidos estão todos abaixo do threshold de 40000 estaeleido previamente"
      ]
    },
    {
      "cell_type": "code",
      "metadata": {
        "id": "8m_VPBGirq2B",
        "colab_type": "code",
        "outputId": "73779da7-1275-4c87-a11a-a03ec35800d7",
        "colab": {
          "base_uri": "https://localhost:8080/",
          "height": 389
        }
      },
      "source": [
        "k = int((1 + 10/3 *np.log10(len(set_1))).round(0))\n",
        "print(k)\n",
        "sns.set(style=\"whitegrid\")\n",
        "ax = sns.distplot(a = set_1.perimeter, bins = k, kde = False)\n",
        "ax.figure.set_size_inches(15,5)\n",
        "ax.set_title('Perimeter - histograma')"
      ],
      "execution_count": 0,
      "outputs": [
        {
          "output_type": "stream",
          "text": [
            "8\n"
          ],
          "name": "stdout"
        },
        {
          "output_type": "execute_result",
          "data": {
            "text/plain": [
              "Text(0.5, 1.0, 'Perimeter - histograma')"
            ]
          },
          "metadata": {
            "tags": []
          },
          "execution_count": 55
        },
        {
          "output_type": "display_data",
          "data": {
            "image/png": "[encoded data removed]",
            "text/plain": [
              "<Figure size 1080x360 with 1 Axes>"
            ]
          },
          "metadata": {
            "tags": []
          }
        }
      ]
    },
    {
      "cell_type": "markdown",
      "metadata": {
        "id": "3PhGDc3n_-P4",
        "colab_type": "text"
      },
      "source": [
        "#### major axis"
      ]
    },
    {
      "cell_type": "code",
      "metadata": {
        "id": "8OTfbIFLOwaX",
        "colab_type": "code",
        "outputId": "e2a2585a-ce00-4653-bf29-9c968f28eae5",
        "colab": {
          "base_uri": "https://localhost:8080/",
          "height": 285
        }
      },
      "source": [
        "#erifica os valores\n",
        "sns.set(style = 'whitegrid')\n",
        "ax = sns.boxplot(x = 'mahor_axis', data = set_1)"
      ],
      "execution_count": 0,
      "outputs": [
        {
          "output_type": "display_data",
          "data": {
            "image/png": "[encoded data removed]",
            "text/plain": [
              "<Figure size 432x288 with 1 Axes>"
            ]
          },
          "metadata": {
            "tags": []
          }
        }
      ]
    },
    {
      "cell_type": "code",
      "metadata": {
        "id": "2NpQLUnuPLne",
        "colab_type": "code",
        "outputId": "7e64adca-a94a-4e5c-b389-a7fda303a321",
        "colab": {
          "base_uri": "https://localhost:8080/",
          "height": 34
        }
      },
      "source": [
        "#remove os ouliers, threshold = 25000\n",
        "set_1_major_axis_outliers = set_1.query('mahor_axis > 25000')\n",
        "list_outliers_major_axis = set_1_major_axis_outliers.index \n",
        "list_outliers_major_axis"
      ],
      "execution_count": 0,
      "outputs": [
        {
          "output_type": "execute_result",
          "data": {
            "text/plain": [
              "Int64Index([1, 3, 6, 18, 63, 72, 74, 77, 104, 106, 110, 145], dtype='int64')"
            ]
          },
          "metadata": {
            "tags": []
          },
          "execution_count": 57
        }
      ]
    },
    {
      "cell_type": "code",
      "metadata": {
        "id": "RJZwGHAQQ-EF",
        "colab_type": "code",
        "outputId": "d52cd3c5-ed58-4c74-c195-59989c674afe",
        "colab": {
          "base_uri": "https://localhost:8080/",
          "height": 524
        }
      },
      "source": [
        "set_1.drop(axis = 0, index = list_outliers_major_axis, inplace = True)\n",
        "set_1"
      ],
      "execution_count": 0,
      "outputs": [
        {
          "output_type": "stream",
          "text": [
            "/usr/local/lib/python3.6/dist-packages/pandas/core/frame.py:3997: SettingWithCopyWarning: \n",
            "A value is trying to be set on a copy of a slice from a DataFrame\n",
            "\n",
            "See the caveats in the documentation: https://pandas.pydata.org/pandas-docs/stable/user_guide/indexing.html#returning-a-view-versus-a-copy\n",
            "  errors=errors,\n"
          ],
          "name": "stderr"
        },
        {
          "output_type": "execute_result",
          "data": {
            "text/html": [
              "<div>\n",
              "<style scoped>\n",
              "    .dataframe tbody tr th:only-of-type {\n",
              "        vertical-align: middle;\n",
              "    }\n",
              "\n",
              "    .dataframe tbody tr th {\n",
              "        vertical-align: top;\n",
              "    }\n",
              "\n",
              "    .dataframe thead th {\n",
              "        text-align: right;\n",
              "    }\n",
              "</style>\n",
              "<table border=\"1\" class=\"dataframe\">\n",
              "  <thead>\n",
              "    <tr style=\"text-align: right;\">\n",
              "      <th></th>\n",
              "      <th>index</th>\n",
              "      <th>labels</th>\n",
              "      <th>area</th>\n",
              "      <th>perimeter</th>\n",
              "      <th>mahor_axis</th>\n",
              "      <th>minor_axis</th>\n",
              "      <th>eq_diam</th>\n",
              "      <th>set_</th>\n",
              "    </tr>\n",
              "  </thead>\n",
              "  <tbody>\n",
              "    <tr>\n",
              "      <th>2</th>\n",
              "      <td>3.0</td>\n",
              "      <td>3.0</td>\n",
              "      <td>1478.0</td>\n",
              "      <td>149.7401</td>\n",
              "      <td>58.4509</td>\n",
              "      <td>32.3893</td>\n",
              "      <td>43.3803</td>\n",
              "      <td>set_1</td>\n",
              "    </tr>\n",
              "    <tr>\n",
              "      <th>5</th>\n",
              "      <td>6.0</td>\n",
              "      <td>6.0</td>\n",
              "      <td>995.0</td>\n",
              "      <td>117.9411</td>\n",
              "      <td>43.0737</td>\n",
              "      <td>29.6965</td>\n",
              "      <td>35.5932</td>\n",
              "      <td>set_1</td>\n",
              "    </tr>\n",
              "    <tr>\n",
              "      <th>7</th>\n",
              "      <td>8.0</td>\n",
              "      <td>8.0</td>\n",
              "      <td>6722.0</td>\n",
              "      <td>310.7351</td>\n",
              "      <td>101.5184</td>\n",
              "      <td>86.0766</td>\n",
              "      <td>92.5133</td>\n",
              "      <td>set_1</td>\n",
              "    </tr>\n",
              "    <tr>\n",
              "      <th>8</th>\n",
              "      <td>9.0</td>\n",
              "      <td>9.0</td>\n",
              "      <td>6694.0</td>\n",
              "      <td>322.5757</td>\n",
              "      <td>105.7522</td>\n",
              "      <td>83.2152</td>\n",
              "      <td>92.3205</td>\n",
              "      <td>set_1</td>\n",
              "    </tr>\n",
              "    <tr>\n",
              "      <th>10</th>\n",
              "      <td>11.0</td>\n",
              "      <td>11.0</td>\n",
              "      <td>12826.0</td>\n",
              "      <td>436.5757</td>\n",
              "      <td>139.8589</td>\n",
              "      <td>118.4677</td>\n",
              "      <td>127.7911</td>\n",
              "      <td>set_1</td>\n",
              "    </tr>\n",
              "    <tr>\n",
              "      <th>...</th>\n",
              "      <td>...</td>\n",
              "      <td>...</td>\n",
              "      <td>...</td>\n",
              "      <td>...</td>\n",
              "      <td>...</td>\n",
              "      <td>...</td>\n",
              "      <td>...</td>\n",
              "      <td>...</td>\n",
              "    </tr>\n",
              "    <tr>\n",
              "      <th>155</th>\n",
              "      <td>156.0</td>\n",
              "      <td>156.0</td>\n",
              "      <td>961.0</td>\n",
              "      <td>114.9117</td>\n",
              "      <td>36.5504</td>\n",
              "      <td>33.8685</td>\n",
              "      <td>34.9798</td>\n",
              "      <td>set_1</td>\n",
              "    </tr>\n",
              "    <tr>\n",
              "      <th>156</th>\n",
              "      <td>157.0</td>\n",
              "      <td>157.0</td>\n",
              "      <td>12187.0</td>\n",
              "      <td>442.4802</td>\n",
              "      <td>146.5051</td>\n",
              "      <td>110.0996</td>\n",
              "      <td>124.5671</td>\n",
              "      <td>set_1</td>\n",
              "    </tr>\n",
              "    <tr>\n",
              "      <th>157</th>\n",
              "      <td>158.0</td>\n",
              "      <td>158.0</td>\n",
              "      <td>7188.0</td>\n",
              "      <td>348.4508</td>\n",
              "      <td>112.9879</td>\n",
              "      <td>87.1733</td>\n",
              "      <td>95.6663</td>\n",
              "      <td>set_1</td>\n",
              "    </tr>\n",
              "    <tr>\n",
              "      <th>158</th>\n",
              "      <td>159.0</td>\n",
              "      <td>159.0</td>\n",
              "      <td>9047.0</td>\n",
              "      <td>364.9777</td>\n",
              "      <td>118.8642</td>\n",
              "      <td>97.8636</td>\n",
              "      <td>107.3266</td>\n",
              "      <td>set_1</td>\n",
              "    </tr>\n",
              "    <tr>\n",
              "      <th>159</th>\n",
              "      <td>160.0</td>\n",
              "      <td>160.0</td>\n",
              "      <td>724.0</td>\n",
              "      <td>97.6985</td>\n",
              "      <td>30.9445</td>\n",
              "      <td>29.9933</td>\n",
              "      <td>30.3616</td>\n",
              "      <td>set_1</td>\n",
              "    </tr>\n",
              "  </tbody>\n",
              "</table>\n",
              "<p>127 rows × 8 columns</p>\n",
              "</div>"
            ],
            "text/plain": [
              "     index  labels     area  perimeter  mahor_axis  minor_axis   eq_diam   set_\n",
              "2      3.0     3.0   1478.0   149.7401     58.4509     32.3893   43.3803  set_1\n",
              "5      6.0     6.0    995.0   117.9411     43.0737     29.6965   35.5932  set_1\n",
              "7      8.0     8.0   6722.0   310.7351    101.5184     86.0766   92.5133  set_1\n",
              "8      9.0     9.0   6694.0   322.5757    105.7522     83.2152   92.3205  set_1\n",
              "10    11.0    11.0  12826.0   436.5757    139.8589    118.4677  127.7911  set_1\n",
              "..     ...     ...      ...        ...         ...         ...       ...    ...\n",
              "155  156.0   156.0    961.0   114.9117     36.5504     33.8685   34.9798  set_1\n",
              "156  157.0   157.0  12187.0   442.4802    146.5051    110.0996  124.5671  set_1\n",
              "157  158.0   158.0   7188.0   348.4508    112.9879     87.1733   95.6663  set_1\n",
              "158  159.0   159.0   9047.0   364.9777    118.8642     97.8636  107.3266  set_1\n",
              "159  160.0   160.0    724.0    97.6985     30.9445     29.9933   30.3616  set_1\n",
              "\n",
              "[127 rows x 8 columns]"
            ]
          },
          "metadata": {
            "tags": []
          },
          "execution_count": 58
        }
      ]
    },
    {
      "cell_type": "code",
      "metadata": {
        "id": "IcpjygjlRSAc",
        "colab_type": "code",
        "outputId": "a142e90d-59c9-4283-d11c-efdbaa5d6c1b",
        "colab": {
          "base_uri": "https://localhost:8080/",
          "height": 372
        }
      },
      "source": [
        "sns.set(style = 'whitegrid')\n",
        "ax = sns.boxplot(x = 'mahor_axis', data = set_1)\n",
        "ax.figure.set_size_inches(15,5)\n",
        "ax.set_title('Major axis - cleansed')"
      ],
      "execution_count": 0,
      "outputs": [
        {
          "output_type": "execute_result",
          "data": {
            "text/plain": [
              "Text(0.5, 1.0, 'Major axis - cleansed')"
            ]
          },
          "metadata": {
            "tags": []
          },
          "execution_count": 59
        },
        {
          "output_type": "display_data",
          "data": {
            "image/png": "[encoded data removed]",
            "text/plain": [
              "<Figure size 1080x360 with 1 Axes>"
            ]
          },
          "metadata": {
            "tags": []
          }
        }
      ]
    },
    {
      "cell_type": "markdown",
      "metadata": {
        "id": "4I4sjfztsEPe",
        "colab_type": "text"
      },
      "source": [
        "os valores estão todos abaixo de 25,000, e com isso foi gerado o boxplot acima"
      ]
    },
    {
      "cell_type": "code",
      "metadata": {
        "id": "LEVeC5NYsbW4",
        "colab_type": "code",
        "outputId": "1e1949dc-8e2f-4fcd-a224-aef038592c2a",
        "colab": {
          "base_uri": "https://localhost:8080/",
          "height": 389
        }
      },
      "source": [
        "k = int((1 + 10/3 *np.log10(len(set_1))).round(0))\n",
        "print(k)\n",
        "sns.set(style=\"whitegrid\")\n",
        "ax = sns.distplot(a = set_1.mahor_axis, bins = k, kde = False)\n",
        "ax.figure.set_size_inches(15,5)\n",
        "ax.set_title('Maor_axis - histograma')"
      ],
      "execution_count": 0,
      "outputs": [
        {
          "output_type": "stream",
          "text": [
            "8\n"
          ],
          "name": "stdout"
        },
        {
          "output_type": "execute_result",
          "data": {
            "text/plain": [
              "Text(0.5, 1.0, 'Maor_axis - histograma')"
            ]
          },
          "metadata": {
            "tags": []
          },
          "execution_count": 63
        },
        {
          "output_type": "display_data",
          "data": {
            "image/png": "[encoded data removed]",
            "text/plain": [
              "<Figure size 1080x360 with 1 Axes>"
            ]
          },
          "metadata": {
            "tags": []
          }
        }
      ]
    },
    {
      "cell_type": "markdown",
      "metadata": {
        "id": "hJax06PEACEg",
        "colab_type": "text"
      },
      "source": [
        "#### minor axis"
      ]
    },
    {
      "cell_type": "code",
      "metadata": {
        "id": "gb86r2TDSI69",
        "colab_type": "code",
        "outputId": "16e142e8-7f80-4502-a5d3-8dc478edeb90",
        "colab": {
          "base_uri": "https://localhost:8080/",
          "height": 356
        }
      },
      "source": [
        "sns.set(style='whitegrid')\n",
        "ax = sns.boxplot(x = 'minor_axis', data = set_1)\n",
        "ax.figure.set_size_inches(15,5)\n",
        "ax.vlines(x = 15000, ymin = 0, ymax=1)"
      ],
      "execution_count": 0,
      "outputs": [
        {
          "output_type": "execute_result",
          "data": {
            "text/plain": [
              "<matplotlib.collections.LineCollection at 0x7f402e2ed7f0>"
            ]
          },
          "metadata": {
            "tags": []
          },
          "execution_count": 64
        },
        {
          "output_type": "display_data",
          "data": {
            "image/png": "[encoded data removed]",
            "text/plain": [
              "<Figure size 1080x360 with 1 Axes>"
            ]
          },
          "metadata": {
            "tags": []
          }
        }
      ]
    },
    {
      "cell_type": "code",
      "metadata": {
        "id": "3vqhAqLzS9uL",
        "colab_type": "code",
        "outputId": "16332274-80a4-409c-8084-a078d2be7723",
        "colab": {
          "base_uri": "https://localhost:8080/",
          "height": 34
        }
      },
      "source": [
        "#thresholdde 15000\n",
        "set_1_minor_axis_outliers = set_1.query('minor_axis > 15000')\n",
        "list_outliers_minor_axis = set_1_minor_axis_outliers.index\n",
        "list_outliers_minor_axis"
      ],
      "execution_count": 0,
      "outputs": [
        {
          "output_type": "execute_result",
          "data": {
            "text/plain": [
              "Int64Index([14, 33, 59, 71, 76, 78, 85, 86, 88, 100, 101, 149], dtype='int64')"
            ]
          },
          "metadata": {
            "tags": []
          },
          "execution_count": 65
        }
      ]
    },
    {
      "cell_type": "code",
      "metadata": {
        "id": "E7Dwyk1FVOAF",
        "colab_type": "code",
        "outputId": "cfc13ab6-df3b-4379-bda6-a5e3b6e781a4",
        "colab": {
          "base_uri": "https://localhost:8080/",
          "height": 524
        }
      },
      "source": [
        "set_1.drop(axis = 0, index = list_outliers_minor_axis, inplace = True)\n",
        "set_1"
      ],
      "execution_count": 0,
      "outputs": [
        {
          "output_type": "stream",
          "text": [
            "/usr/local/lib/python3.6/dist-packages/pandas/core/frame.py:3997: SettingWithCopyWarning: \n",
            "A value is trying to be set on a copy of a slice from a DataFrame\n",
            "\n",
            "See the caveats in the documentation: https://pandas.pydata.org/pandas-docs/stable/user_guide/indexing.html#returning-a-view-versus-a-copy\n",
            "  errors=errors,\n"
          ],
          "name": "stderr"
        },
        {
          "output_type": "execute_result",
          "data": {
            "text/html": [
              "<div>\n",
              "<style scoped>\n",
              "    .dataframe tbody tr th:only-of-type {\n",
              "        vertical-align: middle;\n",
              "    }\n",
              "\n",
              "    .dataframe tbody tr th {\n",
              "        vertical-align: top;\n",
              "    }\n",
              "\n",
              "    .dataframe thead th {\n",
              "        text-align: right;\n",
              "    }\n",
              "</style>\n",
              "<table border=\"1\" class=\"dataframe\">\n",
              "  <thead>\n",
              "    <tr style=\"text-align: right;\">\n",
              "      <th></th>\n",
              "      <th>index</th>\n",
              "      <th>labels</th>\n",
              "      <th>area</th>\n",
              "      <th>perimeter</th>\n",
              "      <th>mahor_axis</th>\n",
              "      <th>minor_axis</th>\n",
              "      <th>eq_diam</th>\n",
              "      <th>set_</th>\n",
              "    </tr>\n",
              "  </thead>\n",
              "  <tbody>\n",
              "    <tr>\n",
              "      <th>2</th>\n",
              "      <td>3.0</td>\n",
              "      <td>3.0</td>\n",
              "      <td>1478.0</td>\n",
              "      <td>149.7401</td>\n",
              "      <td>58.4509</td>\n",
              "      <td>32.3893</td>\n",
              "      <td>43.3803</td>\n",
              "      <td>set_1</td>\n",
              "    </tr>\n",
              "    <tr>\n",
              "      <th>5</th>\n",
              "      <td>6.0</td>\n",
              "      <td>6.0</td>\n",
              "      <td>995.0</td>\n",
              "      <td>117.9411</td>\n",
              "      <td>43.0737</td>\n",
              "      <td>29.6965</td>\n",
              "      <td>35.5932</td>\n",
              "      <td>set_1</td>\n",
              "    </tr>\n",
              "    <tr>\n",
              "      <th>7</th>\n",
              "      <td>8.0</td>\n",
              "      <td>8.0</td>\n",
              "      <td>6722.0</td>\n",
              "      <td>310.7351</td>\n",
              "      <td>101.5184</td>\n",
              "      <td>86.0766</td>\n",
              "      <td>92.5133</td>\n",
              "      <td>set_1</td>\n",
              "    </tr>\n",
              "    <tr>\n",
              "      <th>8</th>\n",
              "      <td>9.0</td>\n",
              "      <td>9.0</td>\n",
              "      <td>6694.0</td>\n",
              "      <td>322.5757</td>\n",
              "      <td>105.7522</td>\n",
              "      <td>83.2152</td>\n",
              "      <td>92.3205</td>\n",
              "      <td>set_1</td>\n",
              "    </tr>\n",
              "    <tr>\n",
              "      <th>10</th>\n",
              "      <td>11.0</td>\n",
              "      <td>11.0</td>\n",
              "      <td>12826.0</td>\n",
              "      <td>436.5757</td>\n",
              "      <td>139.8589</td>\n",
              "      <td>118.4677</td>\n",
              "      <td>127.7911</td>\n",
              "      <td>set_1</td>\n",
              "    </tr>\n",
              "    <tr>\n",
              "      <th>...</th>\n",
              "      <td>...</td>\n",
              "      <td>...</td>\n",
              "      <td>...</td>\n",
              "      <td>...</td>\n",
              "      <td>...</td>\n",
              "      <td>...</td>\n",
              "      <td>...</td>\n",
              "      <td>...</td>\n",
              "    </tr>\n",
              "    <tr>\n",
              "      <th>155</th>\n",
              "      <td>156.0</td>\n",
              "      <td>156.0</td>\n",
              "      <td>961.0</td>\n",
              "      <td>114.9117</td>\n",
              "      <td>36.5504</td>\n",
              "      <td>33.8685</td>\n",
              "      <td>34.9798</td>\n",
              "      <td>set_1</td>\n",
              "    </tr>\n",
              "    <tr>\n",
              "      <th>156</th>\n",
              "      <td>157.0</td>\n",
              "      <td>157.0</td>\n",
              "      <td>12187.0</td>\n",
              "      <td>442.4802</td>\n",
              "      <td>146.5051</td>\n",
              "      <td>110.0996</td>\n",
              "      <td>124.5671</td>\n",
              "      <td>set_1</td>\n",
              "    </tr>\n",
              "    <tr>\n",
              "      <th>157</th>\n",
              "      <td>158.0</td>\n",
              "      <td>158.0</td>\n",
              "      <td>7188.0</td>\n",
              "      <td>348.4508</td>\n",
              "      <td>112.9879</td>\n",
              "      <td>87.1733</td>\n",
              "      <td>95.6663</td>\n",
              "      <td>set_1</td>\n",
              "    </tr>\n",
              "    <tr>\n",
              "      <th>158</th>\n",
              "      <td>159.0</td>\n",
              "      <td>159.0</td>\n",
              "      <td>9047.0</td>\n",
              "      <td>364.9777</td>\n",
              "      <td>118.8642</td>\n",
              "      <td>97.8636</td>\n",
              "      <td>107.3266</td>\n",
              "      <td>set_1</td>\n",
              "    </tr>\n",
              "    <tr>\n",
              "      <th>159</th>\n",
              "      <td>160.0</td>\n",
              "      <td>160.0</td>\n",
              "      <td>724.0</td>\n",
              "      <td>97.6985</td>\n",
              "      <td>30.9445</td>\n",
              "      <td>29.9933</td>\n",
              "      <td>30.3616</td>\n",
              "      <td>set_1</td>\n",
              "    </tr>\n",
              "  </tbody>\n",
              "</table>\n",
              "<p>115 rows × 8 columns</p>\n",
              "</div>"
            ],
            "text/plain": [
              "     index  labels     area  perimeter  mahor_axis  minor_axis   eq_diam   set_\n",
              "2      3.0     3.0   1478.0   149.7401     58.4509     32.3893   43.3803  set_1\n",
              "5      6.0     6.0    995.0   117.9411     43.0737     29.6965   35.5932  set_1\n",
              "7      8.0     8.0   6722.0   310.7351    101.5184     86.0766   92.5133  set_1\n",
              "8      9.0     9.0   6694.0   322.5757    105.7522     83.2152   92.3205  set_1\n",
              "10    11.0    11.0  12826.0   436.5757    139.8589    118.4677  127.7911  set_1\n",
              "..     ...     ...      ...        ...         ...         ...       ...    ...\n",
              "155  156.0   156.0    961.0   114.9117     36.5504     33.8685   34.9798  set_1\n",
              "156  157.0   157.0  12187.0   442.4802    146.5051    110.0996  124.5671  set_1\n",
              "157  158.0   158.0   7188.0   348.4508    112.9879     87.1733   95.6663  set_1\n",
              "158  159.0   159.0   9047.0   364.9777    118.8642     97.8636  107.3266  set_1\n",
              "159  160.0   160.0    724.0    97.6985     30.9445     29.9933   30.3616  set_1\n",
              "\n",
              "[115 rows x 8 columns]"
            ]
          },
          "metadata": {
            "tags": []
          },
          "execution_count": 66
        }
      ]
    },
    {
      "cell_type": "code",
      "metadata": {
        "id": "rFF6a00kWjnj",
        "colab_type": "code",
        "outputId": "2c2fc979-8e79-4c65-e438-f0575d5f89f0",
        "colab": {
          "base_uri": "https://localhost:8080/",
          "height": 374
        }
      },
      "source": [
        "sns.set(style = 'whitegrid')\n",
        "ax = sns.boxplot(x = 'minor_axis', data = set_1)\n",
        "ax.figure.set_size_inches(15,5)\n",
        "ax.set_title('Minor axis', fontsize = 16)"
      ],
      "execution_count": 0,
      "outputs": [
        {
          "output_type": "execute_result",
          "data": {
            "text/plain": [
              "Text(0.5, 1.0, 'Minor axis')"
            ]
          },
          "metadata": {
            "tags": []
          },
          "execution_count": 67
        },
        {
          "output_type": "display_data",
          "data": {
            "image/png": "[encoded data removed]",
            "text/plain": [
              "<Figure size 1080x360 with 1 Axes>"
            ]
          },
          "metadata": {
            "tags": []
          }
        }
      ]
    },
    {
      "cell_type": "code",
      "metadata": {
        "id": "tRJQu7YCtE-R",
        "colab_type": "code",
        "outputId": "aafdc224-bb52-474e-8e42-33fe803cab4c",
        "colab": {
          "base_uri": "https://localhost:8080/",
          "height": 389
        }
      },
      "source": [
        "k = int((1 + 10/3 *np.log10(len(set_1))).round(0))\n",
        "print(k)\n",
        "sns.set(style=\"whitegrid\")\n",
        "ax = sns.distplot(a = set_1.minor_axis, bins = k, kde = False)\n",
        "ax.figure.set_size_inches(15,5)\n",
        "ax.set_title('minor_axis - histograma')"
      ],
      "execution_count": 0,
      "outputs": [
        {
          "output_type": "stream",
          "text": [
            "8\n"
          ],
          "name": "stdout"
        },
        {
          "output_type": "execute_result",
          "data": {
            "text/plain": [
              "Text(0.5, 1.0, 'minor_axis - histograma')"
            ]
          },
          "metadata": {
            "tags": []
          },
          "execution_count": 68
        },
        {
          "output_type": "display_data",
          "data": {
            "image/png": "[encoded data removed]",
            "text/plain": [
              "<Figure size 1080x360 with 1 Axes>"
            ]
          },
          "metadata": {
            "tags": []
          }
        }
      ]
    },
    {
      "cell_type": "markdown",
      "metadata": {
        "id": "Mq_WjCy3ADb4",
        "colab_type": "text"
      },
      "source": [
        "#### equivalent diameter\n"
      ]
    },
    {
      "cell_type": "code",
      "metadata": {
        "id": "Q6hssNd2XNFT",
        "colab_type": "code",
        "outputId": "35e33d2c-008e-4e54-ee87-bf56ed05aea0",
        "colab": {
          "base_uri": "https://localhost:8080/",
          "height": 374
        }
      },
      "source": [
        "sns.set(style='whitegrid')\n",
        "ax = sns.boxplot(x = 'eq_diam', data = set_1)\n",
        "ax.figure.set_size_inches(15,5)\n",
        "ax.set_title('Equivalent diameter - raw', fontsize = 16)"
      ],
      "execution_count": 0,
      "outputs": [
        {
          "output_type": "execute_result",
          "data": {
            "text/plain": [
              "Text(0.5, 1.0, 'Equivalent diameter - raw')"
            ]
          },
          "metadata": {
            "tags": []
          },
          "execution_count": 77
        },
        {
          "output_type": "display_data",
          "data": {
            "image/png": "[encoded data removed]",
            "text/plain": [
              "<Figure size 1080x360 with 1 Axes>"
            ]
          },
          "metadata": {
            "tags": []
          }
        }
      ]
    },
    {
      "cell_type": "code",
      "metadata": {
        "id": "nyaX_9a0ihc5",
        "colab_type": "code",
        "colab": {}
      },
      "source": [
        "#threshold  =20000"
      ],
      "execution_count": 0,
      "outputs": []
    },
    {
      "cell_type": "code",
      "metadata": {
        "id": "bi7XpXHpg9MP",
        "colab_type": "code",
        "outputId": "49a14935-9530-49fb-be40-996a1d46bc24",
        "colab": {
          "base_uri": "https://localhost:8080/",
          "height": 374
        }
      },
      "source": [
        "sns.set(style= 'whitegrid')\n",
        "ax = sns.violinplot(x = 'eq_diam', data = set_1)\n",
        "ax.figure.set_size_inches(15,5)\n",
        "ax.set_title('Equivalent diameter - raw', fontsize = 16)\n",
        "ax.set_xlim(left=0)"
      ],
      "execution_count": 0,
      "outputs": [
        {
          "output_type": "execute_result",
          "data": {
            "text/plain": [
              "(0.0, 132870.02685706416)"
            ]
          },
          "metadata": {
            "tags": []
          },
          "execution_count": 78
        },
        {
          "output_type": "display_data",
          "data": {
            "image/png": "[encoded data removed]",
            "text/plain": [
              "<Figure size 1080x360 with 1 Axes>"
            ]
          },
          "metadata": {
            "tags": []
          }
        }
      ]
    },
    {
      "cell_type": "code",
      "metadata": {
        "id": "0RDqrbGHhX9b",
        "colab_type": "code",
        "outputId": "1978d340-9124-4173-ecd9-4d56a7c8dc62",
        "colab": {
          "base_uri": "https://localhost:8080/",
          "height": 34
        }
      },
      "source": [
        "count_before = set_1.eq_diam.shape[0]\n",
        "print(count_before)"
      ],
      "execution_count": 0,
      "outputs": [
        {
          "output_type": "stream",
          "text": [
            "115\n"
          ],
          "name": "stdout"
        }
      ]
    },
    {
      "cell_type": "markdown",
      "metadata": {
        "id": "dK4OgpuFh7Z_",
        "colab_type": "text"
      },
      "source": [
        "data cleansing"
      ]
    },
    {
      "cell_type": "code",
      "metadata": {
        "id": "1Gm0uxqRh5YI",
        "colab_type": "code",
        "outputId": "98c8d29d-6e56-4daf-b9e4-0b5bc011fd82",
        "colab": {
          "base_uri": "https://localhost:8080/",
          "height": 34
        }
      },
      "source": [
        "set_1_eq_diam_outliers = set_1.query('eq_diam > 20000')\n",
        "list_outliers_eq_diam = set_1_eq_diam_outliers.index\n",
        "list_outliers_eq_diam\n",
        "set_1.shape[0]"
      ],
      "execution_count": 0,
      "outputs": [
        {
          "output_type": "execute_result",
          "data": {
            "text/plain": [
              "115"
            ]
          },
          "metadata": {
            "tags": []
          },
          "execution_count": 85
        }
      ]
    },
    {
      "cell_type": "code",
      "metadata": {
        "id": "juIGBMNCjFeJ",
        "colab_type": "code",
        "outputId": "3323eaee-ab8f-4784-b63a-5316bc11cccc",
        "colab": {
          "base_uri": "https://localhost:8080/",
          "height": 139
        }
      },
      "source": [
        "set_1.drop(index = list_outliers_eq_diam, inplace = True)\n",
        "set_1.shape[0]"
      ],
      "execution_count": 0,
      "outputs": [
        {
          "output_type": "stream",
          "text": [
            "/usr/local/lib/python3.6/dist-packages/pandas/core/frame.py:3997: SettingWithCopyWarning: \n",
            "A value is trying to be set on a copy of a slice from a DataFrame\n",
            "\n",
            "See the caveats in the documentation: https://pandas.pydata.org/pandas-docs/stable/user_guide/indexing.html#returning-a-view-versus-a-copy\n",
            "  errors=errors,\n"
          ],
          "name": "stderr"
        },
        {
          "output_type": "execute_result",
          "data": {
            "text/plain": [
              "104"
            ]
          },
          "metadata": {
            "tags": []
          },
          "execution_count": 86
        }
      ]
    },
    {
      "cell_type": "code",
      "metadata": {
        "id": "GjMhVCUTjUkn",
        "colab_type": "code",
        "outputId": "ab03d595-667c-4793-f99b-3be7b0075f7e",
        "colab": {
          "base_uri": "https://localhost:8080/",
          "height": 34
        }
      },
      "source": [
        "1-104/115"
      ],
      "execution_count": 0,
      "outputs": [
        {
          "output_type": "execute_result",
          "data": {
            "text/plain": [
              "0.09565217391304348"
            ]
          },
          "metadata": {
            "tags": []
          },
          "execution_count": 89
        }
      ]
    },
    {
      "cell_type": "code",
      "metadata": {
        "id": "QS1rB4yfjdp_",
        "colab_type": "code",
        "outputId": "3e94bfb6-2505-453a-d4e3-e8b2ea47c9d0",
        "colab": {
          "base_uri": "https://localhost:8080/",
          "height": 374
        }
      },
      "source": [
        "sns.set(style='whitegrid')\n",
        "ax = sns.boxplot(x = 'eq_diam', data = set_1)\n",
        "ax.figure.set_size_inches(15,5)\n",
        "ax.set_title('Equivalent diameter - cleansed', fontsize = 16)"
      ],
      "execution_count": 0,
      "outputs": [
        {
          "output_type": "execute_result",
          "data": {
            "text/plain": [
              "Text(0.5, 1.0, 'Equivalent diameter - cleansed')"
            ]
          },
          "metadata": {
            "tags": []
          },
          "execution_count": 90
        },
        {
          "output_type": "display_data",
          "data": {
            "image/png": "[encoded data removed]",
            "text/plain": [
              "<Figure size 1080x360 with 1 Axes>"
            ]
          },
          "metadata": {
            "tags": []
          }
        }
      ]
    },
    {
      "cell_type": "code",
      "metadata": {
        "id": "Qp4Y-BZxjjzX",
        "colab_type": "code",
        "outputId": "dc9ea10c-3653-4cca-b684-5e78f718b414",
        "colab": {
          "base_uri": "https://localhost:8080/",
          "height": 374
        }
      },
      "source": [
        "sns.set(style='whitegrid')\n",
        "ax = sns.violinplot(x = 'eq_diam', data = set_1)\n",
        "ax.figure.set_size_inches(15,5)\n",
        "ax.set_title('Equivalent diameter - raw', fontsize = 16)\n",
        "ax.set_xlim(left = 0)"
      ],
      "execution_count": 0,
      "outputs": [
        {
          "output_type": "execute_result",
          "data": {
            "text/plain": [
              "(0.0, 177.40328213247193)"
            ]
          },
          "metadata": {
            "tags": []
          },
          "execution_count": 93
        },
        {
          "output_type": "display_data",
          "data": {
            "image/png": "[encoded data removed]",
            "text/plain": [
              "<Figure size 1080x360 with 1 Axes>"
            ]
          },
          "metadata": {
            "tags": []
          }
        }
      ]
    },
    {
      "cell_type": "markdown",
      "metadata": {
        "id": "exMLzRUxjuZF",
        "colab_type": "text"
      },
      "source": [
        "observa-se com o violinplot que há 2 picos distintos, um em torno de 40 e outro em torno de 90"
      ]
    },
    {
      "cell_type": "markdown",
      "metadata": {
        "id": "bJS7D7ICoOcm",
        "colab_type": "text"
      },
      "source": [
        "### limpeza do frame com uso de funçao"
      ]
    },
    {
      "cell_type": "markdown",
      "metadata": {
        "id": "O884SSr7oZcd",
        "colab_type": "text"
      },
      "source": [
        "Area"
      ]
    },
    {
      "cell_type": "code",
      "metadata": {
        "id": "pwwhaB1em4bQ",
        "colab_type": "code",
        "colab": {}
      },
      "source": [
        "outlier_1_area, set_1 = limpeza(set_1, 'area')"
      ],
      "execution_count": 0,
      "outputs": []
    },
    {
      "cell_type": "code",
      "metadata": {
        "id": "9VluM60koRjl",
        "colab_type": "code",
        "colab": {
          "base_uri": "https://localhost:8080/",
          "height": 204
        },
        "outputId": "eb396415-3f2f-4f8c-b227-6b24ecbe6c6f"
      },
      "source": [
        "outlier_1_area"
      ],
      "execution_count": 82,
      "outputs": [
        {
          "output_type": "execute_result",
          "data": {
            "text/html": [
              "<div>\n",
              "<style scoped>\n",
              "    .dataframe tbody tr th:only-of-type {\n",
              "        vertical-align: middle;\n",
              "    }\n",
              "\n",
              "    .dataframe tbody tr th {\n",
              "        vertical-align: top;\n",
              "    }\n",
              "\n",
              "    .dataframe thead th {\n",
              "        text-align: right;\n",
              "    }\n",
              "</style>\n",
              "<table border=\"1\" class=\"dataframe\">\n",
              "  <thead>\n",
              "    <tr style=\"text-align: right;\">\n",
              "      <th></th>\n",
              "      <th>index</th>\n",
              "      <th>labels</th>\n",
              "      <th>area</th>\n",
              "      <th>perimeter</th>\n",
              "      <th>mahor_axis</th>\n",
              "      <th>minor_axis</th>\n",
              "      <th>eq_diam</th>\n",
              "      <th>set_</th>\n",
              "    </tr>\n",
              "  </thead>\n",
              "  <tbody>\n",
              "    <tr>\n",
              "      <th>0</th>\n",
              "      <td>1.0</td>\n",
              "      <td>1.0</td>\n",
              "      <td>12057066.0</td>\n",
              "      <td>54735.7112</td>\n",
              "      <td>4944.8175</td>\n",
              "      <td>3674.3981</td>\n",
              "      <td>3918.1033</td>\n",
              "      <td>set_1</td>\n",
              "    </tr>\n",
              "    <tr>\n",
              "      <th>16</th>\n",
              "      <td>17.0</td>\n",
              "      <td>17.0</td>\n",
              "      <td>30963.0</td>\n",
              "      <td>913.6367</td>\n",
              "      <td>322.2773</td>\n",
              "      <td>149.6843</td>\n",
              "      <td>198.5531</td>\n",
              "      <td>set_1</td>\n",
              "    </tr>\n",
              "    <tr>\n",
              "      <th>52</th>\n",
              "      <td>53.0</td>\n",
              "      <td>53.0</td>\n",
              "      <td>27146.0</td>\n",
              "      <td>918.7666</td>\n",
              "      <td>239.9542</td>\n",
              "      <td>183.0300</td>\n",
              "      <td>185.9122</td>\n",
              "      <td>set_1</td>\n",
              "    </tr>\n",
              "    <tr>\n",
              "      <th>135</th>\n",
              "      <td>136.0</td>\n",
              "      <td>136.0</td>\n",
              "      <td>21726.0</td>\n",
              "      <td>813.8255</td>\n",
              "      <td>203.1576</td>\n",
              "      <td>179.6732</td>\n",
              "      <td>166.3202</td>\n",
              "      <td>set_1</td>\n",
              "    </tr>\n",
              "    <tr>\n",
              "      <th>138</th>\n",
              "      <td>139.0</td>\n",
              "      <td>139.0</td>\n",
              "      <td>19185.0</td>\n",
              "      <td>681.6539</td>\n",
              "      <td>195.1114</td>\n",
              "      <td>133.9945</td>\n",
              "      <td>156.2917</td>\n",
              "      <td>set_1</td>\n",
              "    </tr>\n",
              "  </tbody>\n",
              "</table>\n",
              "</div>"
            ],
            "text/plain": [
              "     index  labels        area  ...  minor_axis    eq_diam   set_\n",
              "0      1.0     1.0  12057066.0  ...   3674.3981  3918.1033  set_1\n",
              "16    17.0    17.0     30963.0  ...    149.6843   198.5531  set_1\n",
              "52    53.0    53.0     27146.0  ...    183.0300   185.9122  set_1\n",
              "135  136.0   136.0     21726.0  ...    179.6732   166.3202  set_1\n",
              "138  139.0   139.0     19185.0  ...    133.9945   156.2917  set_1\n",
              "\n",
              "[5 rows x 8 columns]"
            ]
          },
          "metadata": {
            "tags": []
          },
          "execution_count": 82
        }
      ]
    },
    {
      "cell_type": "code",
      "metadata": {
        "id": "0WK4wSlOoTBM",
        "colab_type": "code",
        "colab": {
          "base_uri": "https://localhost:8080/",
          "height": 359
        },
        "outputId": "b641b916-436d-41cd-efa4-d3cd43cfafa1"
      },
      "source": [
        "set_1[10:20]"
      ],
      "execution_count": 84,
      "outputs": [
        {
          "output_type": "execute_result",
          "data": {
            "text/html": [
              "<div>\n",
              "<style scoped>\n",
              "    .dataframe tbody tr th:only-of-type {\n",
              "        vertical-align: middle;\n",
              "    }\n",
              "\n",
              "    .dataframe tbody tr th {\n",
              "        vertical-align: top;\n",
              "    }\n",
              "\n",
              "    .dataframe thead th {\n",
              "        text-align: right;\n",
              "    }\n",
              "</style>\n",
              "<table border=\"1\" class=\"dataframe\">\n",
              "  <thead>\n",
              "    <tr style=\"text-align: right;\">\n",
              "      <th></th>\n",
              "      <th>index</th>\n",
              "      <th>labels</th>\n",
              "      <th>area</th>\n",
              "      <th>perimeter</th>\n",
              "      <th>mahor_axis</th>\n",
              "      <th>minor_axis</th>\n",
              "      <th>eq_diam</th>\n",
              "      <th>set_</th>\n",
              "    </tr>\n",
              "  </thead>\n",
              "  <tbody>\n",
              "    <tr>\n",
              "      <th>11</th>\n",
              "      <td>12.0</td>\n",
              "      <td>12.0</td>\n",
              "      <td>4815.0</td>\n",
              "      <td>294.1665</td>\n",
              "      <td>106.6351</td>\n",
              "      <td>61.3767</td>\n",
              "      <td>78.2985</td>\n",
              "      <td>set_1</td>\n",
              "    </tr>\n",
              "    <tr>\n",
              "      <th>12</th>\n",
              "      <td>13.0</td>\n",
              "      <td>13.0</td>\n",
              "      <td>6510.0</td>\n",
              "      <td>314.1665</td>\n",
              "      <td>98.2614</td>\n",
              "      <td>86.1987</td>\n",
              "      <td>91.0428</td>\n",
              "      <td>set_1</td>\n",
              "    </tr>\n",
              "    <tr>\n",
              "      <th>13</th>\n",
              "      <td>14.0</td>\n",
              "      <td>14.0</td>\n",
              "      <td>7884.0</td>\n",
              "      <td>336.7351</td>\n",
              "      <td>101.4844</td>\n",
              "      <td>99.9200</td>\n",
              "      <td>100.1909</td>\n",
              "      <td>set_1</td>\n",
              "    </tr>\n",
              "    <tr>\n",
              "      <th>14</th>\n",
              "      <td>15.0</td>\n",
              "      <td>15.0</td>\n",
              "      <td>1707.0</td>\n",
              "      <td>168.2254</td>\n",
              "      <td>49.7539</td>\n",
              "      <td>46463.0000</td>\n",
              "      <td>46.6200</td>\n",
              "      <td>set_1</td>\n",
              "    </tr>\n",
              "    <tr>\n",
              "      <th>15</th>\n",
              "      <td>16.0</td>\n",
              "      <td>16.0</td>\n",
              "      <td>707.0</td>\n",
              "      <td>111.2904</td>\n",
              "      <td>34.8355</td>\n",
              "      <td>28.1487</td>\n",
              "      <td>30003.0000</td>\n",
              "      <td>set_1</td>\n",
              "    </tr>\n",
              "    <tr>\n",
              "      <th>17</th>\n",
              "      <td>18.0</td>\n",
              "      <td>18.0</td>\n",
              "      <td>9774.0</td>\n",
              "      <td>383061.0000</td>\n",
              "      <td>124.8502</td>\n",
              "      <td>101.1178</td>\n",
              "      <td>111.5556</td>\n",
              "      <td>set_1</td>\n",
              "    </tr>\n",
              "    <tr>\n",
              "      <th>18</th>\n",
              "      <td>19.0</td>\n",
              "      <td>19.0</td>\n",
              "      <td>6318.0</td>\n",
              "      <td>325.8061</td>\n",
              "      <td>97843.0000</td>\n",
              "      <td>86.7009</td>\n",
              "      <td>89.6902</td>\n",
              "      <td>set_1</td>\n",
              "    </tr>\n",
              "    <tr>\n",
              "      <th>19</th>\n",
              "      <td>20.0</td>\n",
              "      <td>20.0</td>\n",
              "      <td>6264.0</td>\n",
              "      <td>305865.0000</td>\n",
              "      <td>98.5396</td>\n",
              "      <td>82.4586</td>\n",
              "      <td>89.3061</td>\n",
              "      <td>set_1</td>\n",
              "    </tr>\n",
              "    <tr>\n",
              "      <th>20</th>\n",
              "      <td>21.0</td>\n",
              "      <td>21.0</td>\n",
              "      <td>5462.0</td>\n",
              "      <td>295.4214</td>\n",
              "      <td>102.8607</td>\n",
              "      <td>68.8796</td>\n",
              "      <td>83.3933</td>\n",
              "      <td>set_1</td>\n",
              "    </tr>\n",
              "    <tr>\n",
              "      <th>21</th>\n",
              "      <td>22.0</td>\n",
              "      <td>22.0</td>\n",
              "      <td>6483.0</td>\n",
              "      <td>312.6934</td>\n",
              "      <td>102.3497</td>\n",
              "      <td>81.7811</td>\n",
              "      <td>90.8538</td>\n",
              "      <td>set_1</td>\n",
              "    </tr>\n",
              "  </tbody>\n",
              "</table>\n",
              "</div>"
            ],
            "text/plain": [
              "    index  labels    area  ...  minor_axis     eq_diam   set_\n",
              "11   12.0    12.0  4815.0  ...     61.3767     78.2985  set_1\n",
              "12   13.0    13.0  6510.0  ...     86.1987     91.0428  set_1\n",
              "13   14.0    14.0  7884.0  ...     99.9200    100.1909  set_1\n",
              "14   15.0    15.0  1707.0  ...  46463.0000     46.6200  set_1\n",
              "15   16.0    16.0   707.0  ...     28.1487  30003.0000  set_1\n",
              "17   18.0    18.0  9774.0  ...    101.1178    111.5556  set_1\n",
              "18   19.0    19.0  6318.0  ...     86.7009     89.6902  set_1\n",
              "19   20.0    20.0  6264.0  ...     82.4586     89.3061  set_1\n",
              "20   21.0    21.0  5462.0  ...     68.8796     83.3933  set_1\n",
              "21   22.0    22.0  6483.0  ...     81.7811     90.8538  set_1\n",
              "\n",
              "[10 rows x 8 columns]"
            ]
          },
          "metadata": {
            "tags": []
          },
          "execution_count": 84
        }
      ]
    },
    {
      "cell_type": "markdown",
      "metadata": {
        "id": "Z7ok2PsHobZt",
        "colab_type": "text"
      },
      "source": [
        "Perimeter"
      ]
    },
    {
      "cell_type": "code",
      "metadata": {
        "id": "QnaVv_kjojNM",
        "colab_type": "code",
        "colab": {}
      },
      "source": [
        "outlier_1_perimeter, set_1 = limpeza(set_1, 'perimeter')"
      ],
      "execution_count": 0,
      "outputs": []
    },
    {
      "cell_type": "code",
      "metadata": {
        "id": "x80HQDlNoxSk",
        "colab_type": "code",
        "colab": {
          "base_uri": "https://localhost:8080/",
          "height": 34
        },
        "outputId": "7606f02c-7344-4ff5-c30a-af7adf0c2adf"
      },
      "source": [
        "outlier_1_perimeter.shape[0]"
      ],
      "execution_count": 87,
      "outputs": [
        {
          "output_type": "execute_result",
          "data": {
            "text/plain": [
              "16"
            ]
          },
          "metadata": {
            "tags": []
          },
          "execution_count": 87
        }
      ]
    },
    {
      "cell_type": "markdown",
      "metadata": {
        "id": "0dphMehSoeAN",
        "colab_type": "text"
      },
      "source": [
        "major axis"
      ]
    },
    {
      "cell_type": "code",
      "metadata": {
        "id": "MXgcHU6Jot6c",
        "colab_type": "code",
        "colab": {}
      },
      "source": [
        "outlier_1_major_axis, set_1 = limpeza(set_1, 'mahor_axis')"
      ],
      "execution_count": 0,
      "outputs": []
    },
    {
      "cell_type": "code",
      "metadata": {
        "id": "CROSedydo9f9",
        "colab_type": "code",
        "colab": {
          "base_uri": "https://localhost:8080/",
          "height": 34
        },
        "outputId": "99bbea35-5f93-4ec3-bb2c-81a0250f6d08"
      },
      "source": [
        "outlier_1_major_axis.shape[0]"
      ],
      "execution_count": 90,
      "outputs": [
        {
          "output_type": "execute_result",
          "data": {
            "text/plain": [
              "13"
            ]
          },
          "metadata": {
            "tags": []
          },
          "execution_count": 90
        }
      ]
    },
    {
      "cell_type": "markdown",
      "metadata": {
        "id": "5h6jilwYofVW",
        "colab_type": "text"
      },
      "source": [
        "minor axis"
      ]
    },
    {
      "cell_type": "code",
      "metadata": {
        "id": "a9NMwo5mou1U",
        "colab_type": "code",
        "colab": {}
      },
      "source": [
        "outlier_1_minor_axis, set_1 = limpeza(set_1, 'minor_axis')"
      ],
      "execution_count": 0,
      "outputs": []
    },
    {
      "cell_type": "code",
      "metadata": {
        "id": "R1DxzCETpIO5",
        "colab_type": "code",
        "colab": {
          "base_uri": "https://localhost:8080/",
          "height": 34
        },
        "outputId": "4cd53bba-f713-43ab-ade5-7e9577d767e4"
      },
      "source": [
        "outlier_1_minor_axis.shape[0]"
      ],
      "execution_count": 92,
      "outputs": [
        {
          "output_type": "execute_result",
          "data": {
            "text/plain": [
              "12"
            ]
          },
          "metadata": {
            "tags": []
          },
          "execution_count": 92
        }
      ]
    },
    {
      "cell_type": "markdown",
      "metadata": {
        "id": "qXjM6Xyqogrk",
        "colab_type": "text"
      },
      "source": [
        "equivalent diameter\n"
      ]
    },
    {
      "cell_type": "code",
      "metadata": {
        "id": "_ZxD24TpovSs",
        "colab_type": "code",
        "colab": {}
      },
      "source": [
        "outlier_1_eq_diam, set_1 = limpeza(set_1, 'eq_diam')"
      ],
      "execution_count": 0,
      "outputs": []
    },
    {
      "cell_type": "code",
      "metadata": {
        "id": "SX5xdU0npR1U",
        "colab_type": "code",
        "colab": {
          "base_uri": "https://localhost:8080/",
          "height": 34
        },
        "outputId": "f936322f-f15d-4ec5-b096-96cca2cd0663"
      },
      "source": [
        "outlier_1_eq_diam.shape[0]"
      ],
      "execution_count": 94,
      "outputs": [
        {
          "output_type": "execute_result",
          "data": {
            "text/plain": [
              "11"
            ]
          },
          "metadata": {
            "tags": []
          },
          "execution_count": 94
        }
      ]
    },
    {
      "cell_type": "markdown",
      "metadata": {
        "id": "SDb18JOmpVam",
        "colab_type": "text"
      },
      "source": [
        "total de dados removidos do dataframe set_1"
      ]
    },
    {
      "cell_type": "code",
      "metadata": {
        "id": "ybms7ij1ptUc",
        "colab_type": "code",
        "colab": {
          "base_uri": "https://localhost:8080/",
          "height": 34
        },
        "outputId": "27edbebf-0fac-43f8-c6ac-1d84a11f5c87"
      },
      "source": [
        "total_removido = outlier_1_area.shape[0] + outlier_1_perimeter.shape[0] + outlier_1_major_axis.shape[0] + outlier_1_minor_axis.shape[0] + outlier_1_eq_diam.shape[0] \n",
        "total_removido"
      ],
      "execution_count": 95,
      "outputs": [
        {
          "output_type": "execute_result",
          "data": {
            "text/plain": [
              "57"
            ]
          },
          "metadata": {
            "tags": []
          },
          "execution_count": 95
        }
      ]
    },
    {
      "cell_type": "code",
      "metadata": {
        "id": "HTRgnctDqbCG",
        "colab_type": "code",
        "colab": {}
      },
      "source": [
        "total_raw = 160"
      ],
      "execution_count": 0,
      "outputs": []
    },
    {
      "cell_type": "code",
      "metadata": {
        "id": "p5LI1ZbcqedB",
        "colab_type": "code",
        "colab": {}
      },
      "source": [
        "aaa = (total_removido / total_raw )"
      ],
      "execution_count": 0,
      "outputs": []
    },
    {
      "cell_type": "code",
      "metadata": {
        "id": "PCiU9lnKqsS7",
        "colab_type": "code",
        "colab": {
          "base_uri": "https://localhost:8080/",
          "height": 34
        },
        "outputId": "101621e9-830a-44bc-f3a7-875d259791f3"
      },
      "source": [
        "aaa"
      ],
      "execution_count": 102,
      "outputs": [
        {
          "output_type": "execute_result",
          "data": {
            "text/plain": [
              "0.35625"
            ]
          },
          "metadata": {
            "tags": []
          },
          "execution_count": 102
        }
      ]
    },
    {
      "cell_type": "markdown",
      "metadata": {
        "id": "ydp-KEjCWvwd",
        "colab_type": "text"
      },
      "source": [
        "###Descricao individual"
      ]
    },
    {
      "cell_type": "code",
      "metadata": {
        "id": "VjwSJYGWkjBI",
        "colab_type": "code",
        "colab": {}
      },
      "source": [
        ""
      ],
      "execution_count": 0,
      "outputs": []
    },
    {
      "cell_type": "markdown",
      "metadata": {
        "id": "TTcdKrwrWNtN",
        "colab_type": "text"
      },
      "source": [
        "####Area "
      ]
    },
    {
      "cell_type": "code",
      "metadata": {
        "id": "HyfloEf9WX2F",
        "colab_type": "code",
        "outputId": "e799f9e2-1933-4dbd-a946-77ec8c7a55c2",
        "colab": {
          "base_uri": "https://localhost:8080/",
          "height": 170
        }
      },
      "source": [
        "set_1.area.describe().round(2)"
      ],
      "execution_count": 0,
      "outputs": [
        {
          "output_type": "execute_result",
          "data": {
            "text/plain": [
              "count      104.00\n",
              "mean      5914.82\n",
              "std       3827.02\n",
              "min         73.00\n",
              "25%       2595.00\n",
              "50%       5883.50\n",
              "75%       8579.75\n",
              "max      16199.00\n",
              "Name: area, dtype: float64"
            ]
          },
          "metadata": {
            "tags": []
          },
          "execution_count": 94
        }
      ]
    },
    {
      "cell_type": "code",
      "metadata": {
        "id": "F2Lx4YKnXlxD",
        "colab_type": "code",
        "outputId": "e23037cb-4099-49c0-858e-7bbf596535ce",
        "colab": {
          "base_uri": "https://localhost:8080/",
          "height": 374
        }
      },
      "source": [
        "sns.set(style ='whitegrid')\n",
        "bin = s\n",
        "ax = sns.distplot(set_1.area, bins =50, kde = False)\n",
        "ax.figure.set_size_inches(15,5)\n",
        "ax.set_title('Area - set #1', fontsize = 16)\n",
        "ax.set_xlim(left = 0)"
      ],
      "execution_count": 0,
      "outputs": [
        {
          "output_type": "execute_result",
          "data": {
            "text/plain": [
              "(0.0, 17005.3)"
            ]
          },
          "metadata": {
            "tags": []
          },
          "execution_count": 100
        },
        {
          "output_type": "display_data",
          "data": {
            "image/png": "[encoded data removed]",
            "text/plain": [
              "<Figure size 1080x360 with 1 Axes>"
            ]
          },
          "metadata": {
            "tags": []
          }
        }
      ]
    },
    {
      "cell_type": "code",
      "metadata": {
        "id": "2ZyceSC3bbKJ",
        "colab_type": "code",
        "outputId": "b88bfcda-bf7a-4d02-fb0c-8acd1c67d6ac",
        "colab": {
          "base_uri": "https://localhost:8080/",
          "height": 374
        }
      },
      "source": [
        "plot_hist(set_1.area, False, 'areaa')"
      ],
      "execution_count": 0,
      "outputs": [
        {
          "output_type": "execute_result",
          "data": {
            "text/plain": [
              "<matplotlib.axes._subplots.AxesSubplot at 0x7f402b1d9898>"
            ]
          },
          "metadata": {
            "tags": []
          },
          "execution_count": 148
        },
        {
          "output_type": "display_data",
          "data": {
            "image/png": "[encoded data removed]",
            "text/plain": [
              "<Figure size 1080x360 with 1 Axes>"
            ]
          },
          "metadata": {
            "tags": []
          }
        }
      ]
    },
    {
      "cell_type": "code",
      "metadata": {
        "id": "Zd5xveahnKgw",
        "colab_type": "code",
        "outputId": "35f82763-8273-4578-b6d4-ce62034b46f7",
        "colab": {
          "base_uri": "https://localhost:8080/",
          "height": 374
        }
      },
      "source": [
        "plot_violin('area', set_1, 'areaa')"
      ],
      "execution_count": 107,
      "outputs": [
        {
          "output_type": "execute_result",
          "data": {
            "text/plain": [
              "<matplotlib.axes._subplots.AxesSubplot at 0x7f38e599b588>"
            ]
          },
          "metadata": {
            "tags": []
          },
          "execution_count": 107
        },
        {
          "output_type": "display_data",
          "data": {
            "image/png": "[encoded data removed]",
            "text/plain": [
              "<Figure size 1080x360 with 1 Axes>"
            ]
          },
          "metadata": {
            "tags": []
          }
        }
      ]
    },
    {
      "cell_type": "code",
      "metadata": {
        "id": "SkEv-P7MxKE4",
        "colab_type": "code",
        "outputId": "257ec12a-c302-406f-9e19-ab0037895316",
        "colab": {
          "base_uri": "https://localhost:8080/",
          "height": 374
        }
      },
      "source": [
        "plot_swarm('area', set_1, 'area - swarm')"
      ],
      "execution_count": 0,
      "outputs": [
        {
          "output_type": "execute_result",
          "data": {
            "text/plain": [
              "<matplotlib.axes._subplots.AxesSubplot at 0x7f402b1630f0>"
            ]
          },
          "metadata": {
            "tags": []
          },
          "execution_count": 159
        },
        {
          "output_type": "display_data",
          "data": {
            "image/png": "[encoded data removed]",
            "text/plain": [
              "<Figure size 1080x360 with 1 Axes>"
            ]
          },
          "metadata": {
            "tags": []
          }
        }
      ]
    },
    {
      "cell_type": "code",
      "metadata": {
        "id": "npOaF_TP8LAa",
        "colab_type": "code",
        "outputId": "387614f7-002b-4a34-91a3-35e72cc73a9a",
        "colab": {
          "base_uri": "https://localhost:8080/",
          "height": 374
        }
      },
      "source": [
        "plot_boxplot('area', set_1, 'area')\n",
        "plot_swarm('area', set_1, 'area')"
      ],
      "execution_count": 113,
      "outputs": [
        {
          "output_type": "execute_result",
          "data": {
            "text/plain": [
              "<matplotlib.axes._subplots.AxesSubplot at 0x7f38e90653c8>"
            ]
          },
          "metadata": {
            "tags": []
          },
          "execution_count": 113
        },
        {
          "output_type": "display_data",
          "data": {
            "image/png": "[encoded data removed]",
            "text/plain": [
              "<Figure size 1080x360 with 1 Axes>"
            ]
          },
          "metadata": {
            "tags": []
          }
        }
      ]
    },
    {
      "cell_type": "markdown",
      "metadata": {
        "id": "gIMM1M0UWYiN",
        "colab_type": "text"
      },
      "source": [
        "####Perimetro"
      ]
    },
    {
      "cell_type": "code",
      "metadata": {
        "id": "dSjfRfqIWbnN",
        "colab_type": "code",
        "colab": {}
      },
      "source": [
        ""
      ],
      "execution_count": 0,
      "outputs": []
    },
    {
      "cell_type": "markdown",
      "metadata": {
        "id": "39ZH5tOqWb72",
        "colab_type": "text"
      },
      "source": [
        "####Major Axis"
      ]
    },
    {
      "cell_type": "code",
      "metadata": {
        "id": "dVPz8DtlWfW8",
        "colab_type": "code",
        "colab": {}
      },
      "source": [
        ""
      ],
      "execution_count": 0,
      "outputs": []
    },
    {
      "cell_type": "markdown",
      "metadata": {
        "id": "bcrsAYuPWf3U",
        "colab_type": "text"
      },
      "source": [
        "####Minor Axis"
      ]
    },
    {
      "cell_type": "code",
      "metadata": {
        "id": "t4A2SBPOWiBV",
        "colab_type": "code",
        "colab": {}
      },
      "source": [
        ""
      ],
      "execution_count": 0,
      "outputs": []
    },
    {
      "cell_type": "markdown",
      "metadata": {
        "id": "eeJnNKmsWiVF",
        "colab_type": "text"
      },
      "source": [
        "####Diametro Equivalente"
      ]
    },
    {
      "cell_type": "code",
      "metadata": {
        "id": "KzQxgz-bWq71",
        "colab_type": "code",
        "colab": {}
      },
      "source": [
        ""
      ],
      "execution_count": 0,
      "outputs": []
    },
    {
      "cell_type": "markdown",
      "metadata": {
        "id": "Xu-wkyajW9mN",
        "colab_type": "text"
      },
      "source": [
        "###Descricao comparativa"
      ]
    },
    {
      "cell_type": "code",
      "metadata": {
        "id": "xdaZIs7EXBGF",
        "colab_type": "code",
        "colab": {}
      },
      "source": [
        ""
      ],
      "execution_count": 0,
      "outputs": []
    },
    {
      "cell_type": "markdown",
      "metadata": {
        "id": "zToCsIt4XBe9",
        "colab_type": "text"
      },
      "source": [
        "####Area x Perimetro\n",
        "Quais conclusoes sao possiveis de se tirar dessa relacao? \n",
        "\n",
        "Comparar com relacoes geometricas\n",
        "\n",
        "- triangulos\n",
        "- quadrados\n",
        "- pentagonos\n",
        "- hexagonos"
      ]
    },
    {
      "cell_type": "code",
      "metadata": {
        "id": "Nkoz5_1rXFi1",
        "colab_type": "code",
        "colab": {}
      },
      "source": [
        ""
      ],
      "execution_count": 0,
      "outputs": []
    },
    {
      "cell_type": "markdown",
      "metadata": {
        "id": "iMj-e3edXF1d",
        "colab_type": "text"
      },
      "source": [
        "####Major e Minor Axis\n",
        "\n",
        "Como se relacionam essas duas grandezas?\n",
        "\n",
        "O que significa uma média entre essas duas grandezas? \n",
        "\n",
        "É plausivel comparar essas grandezas com alguma figura geometrica?"
      ]
    },
    {
      "cell_type": "code",
      "metadata": {
        "id": "nADjFn5dXLH1",
        "colab_type": "code",
        "colab": {}
      },
      "source": [
        ""
      ],
      "execution_count": 0,
      "outputs": []
    },
    {
      "cell_type": "markdown",
      "metadata": {
        "id": "T9tCD8GhXNKV",
        "colab_type": "text"
      },
      "source": [
        "####Diam Eq x Area"
      ]
    },
    {
      "cell_type": "code",
      "metadata": {
        "id": "RBJ8tNscXXMd",
        "colab_type": "code",
        "colab": {}
      },
      "source": [
        ""
      ],
      "execution_count": 0,
      "outputs": []
    },
    {
      "cell_type": "markdown",
      "metadata": {
        "id": "rNQ3hSo8VGiF",
        "colab_type": "text"
      },
      "source": [
        "##Set 2"
      ]
    },
    {
      "cell_type": "code",
      "metadata": {
        "id": "kJBMl97VVJTt",
        "colab_type": "code",
        "colab": {}
      },
      "source": [
        ""
      ],
      "execution_count": 0,
      "outputs": []
    },
    {
      "cell_type": "markdown",
      "metadata": {
        "id": "vQW9Yb3LVJ69",
        "colab_type": "text"
      },
      "source": [
        "##Set 3"
      ]
    },
    {
      "cell_type": "code",
      "metadata": {
        "id": "sI4EfzRtVLy8",
        "colab_type": "code",
        "colab": {}
      },
      "source": [
        ""
      ],
      "execution_count": 0,
      "outputs": []
    },
    {
      "cell_type": "markdown",
      "metadata": {
        "id": "Zd5-wO4wVO3d",
        "colab_type": "text"
      },
      "source": [
        "##Set 4"
      ]
    },
    {
      "cell_type": "code",
      "metadata": {
        "id": "vykp-daAVQON",
        "colab_type": "code",
        "colab": {}
      },
      "source": [
        ""
      ],
      "execution_count": 0,
      "outputs": []
    },
    {
      "cell_type": "markdown",
      "metadata": {
        "id": "7FR6sW5aU3qF",
        "colab_type": "text"
      },
      "source": [
        "# Comparacao entre os grupos"
      ]
    },
    {
      "cell_type": "code",
      "metadata": {
        "id": "gHSN32gvU7W9",
        "colab_type": "code",
        "colab": {}
      },
      "source": [
        ""
      ],
      "execution_count": 0,
      "outputs": []
    }
  ]
}